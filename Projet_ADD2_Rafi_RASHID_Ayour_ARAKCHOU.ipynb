{
 "cells": [
  {
   "cell_type": "markdown",
   "metadata": {},
   "source": [
    "# RASHID Rafi \n",
    "# ARAKCHOU Ayour"
   ]
  },
  {
   "cell_type": "markdown",
   "metadata": {},
   "source": [
    "# Projet Analyse de données 2"
   ]
  },
  {
   "cell_type": "markdown",
   "metadata": {
    "toc": true
   },
   "source": [
    "<h1>Table of Contents<span class=\"tocSkip\"></span></h1>\n",
    "<div class=\"toc\"><ul class=\"toc-item\"><li><span><a href=\"#RASHID-Rafi\" data-toc-modified-id=\"RASHID-Rafi-1\"><span class=\"toc-item-num\">1&nbsp;&nbsp;</span>RASHID Rafi</a></span></li><li><span><a href=\"#ARAKCHOU-Ayour\" data-toc-modified-id=\"ARAKCHOU-Ayour-2\"><span class=\"toc-item-num\">2&nbsp;&nbsp;</span>ARAKCHOU Ayour</a></span></li><li><span><a href=\"#Projet-Analyse-de-données-2\" data-toc-modified-id=\"Projet-Analyse-de-données-2-3\"><span class=\"toc-item-num\">3&nbsp;&nbsp;</span>Projet Analyse de données 2</a></span></li><li><span><a href=\"#EXERCICE-1\" data-toc-modified-id=\"EXERCICE-1-4\"><span class=\"toc-item-num\">4&nbsp;&nbsp;</span>EXERCICE 1</a></span><ul class=\"toc-item\"><li><span><a href=\"#COMPTE-RENDU\" data-toc-modified-id=\"COMPTE-RENDU-4.1\"><span class=\"toc-item-num\">4.1&nbsp;&nbsp;</span>COMPTE-RENDU</a></span></li><li><span><a href=\"#ANNEXE\" data-toc-modified-id=\"ANNEXE-4.2\"><span class=\"toc-item-num\">4.2&nbsp;&nbsp;</span>ANNEXE</a></span><ul class=\"toc-item\"><li><span><a href=\"#Importation-des-modules\" data-toc-modified-id=\"Importation-des-modules-4.2.1\"><span class=\"toc-item-num\">4.2.1&nbsp;&nbsp;</span>Importation des modules</a></span></li><li><span><a href=\"#Importation-des-données\" data-toc-modified-id=\"Importation-des-données-4.2.2\"><span class=\"toc-item-num\">4.2.2&nbsp;&nbsp;</span>Importation des données</a></span></li><li><span><a href=\"#Visage-moyen\" data-toc-modified-id=\"Visage-moyen-4.2.3\"><span class=\"toc-item-num\">4.2.3&nbsp;&nbsp;</span>Visage moyen</a></span></li><li><span><a href=\"#ACP\" data-toc-modified-id=\"ACP-4.2.4\"><span class=\"toc-item-num\">4.2.4&nbsp;&nbsp;</span>ACP</a></span></li><li><span><a href=\"#Visage-après-ACP\" data-toc-modified-id=\"Visage-après-ACP-4.2.5\"><span class=\"toc-item-num\">4.2.5&nbsp;&nbsp;</span>Visage après ACP</a></span></li><li><span><a href=\"#Kmeans\" data-toc-modified-id=\"Kmeans-4.2.6\"><span class=\"toc-item-num\">4.2.6&nbsp;&nbsp;</span>Kmeans</a></span></li></ul></li></ul></li><li><span><a href=\"#EXERCICE-2\" data-toc-modified-id=\"EXERCICE-2-5\"><span class=\"toc-item-num\">5&nbsp;&nbsp;</span>EXERCICE 2</a></span><ul class=\"toc-item\"><li><span><a href=\"#COMPTE-RENDU\" data-toc-modified-id=\"COMPTE-RENDU-5.1\"><span class=\"toc-item-num\">5.1&nbsp;&nbsp;</span>COMPTE-RENDU</a></span></li><li><span><a href=\"#ANNEXE\" data-toc-modified-id=\"ANNEXE-5.2\"><span class=\"toc-item-num\">5.2&nbsp;&nbsp;</span>ANNEXE</a></span><ul class=\"toc-item\"><li><span><a href=\"#Importation/Vue-d'ensemble\" data-toc-modified-id=\"Importation/Vue-d'ensemble-5.2.1\"><span class=\"toc-item-num\">5.2.1&nbsp;&nbsp;</span>Importation/Vue d'ensemble</a></span></li><li><span><a href=\"#Algo\" data-toc-modified-id=\"Algo-5.2.2\"><span class=\"toc-item-num\">5.2.2&nbsp;&nbsp;</span>Algo</a></span></li><li><span><a href=\"#Validation\" data-toc-modified-id=\"Validation-5.2.3\"><span class=\"toc-item-num\">5.2.3&nbsp;&nbsp;</span>Validation</a></span></li><li><span><a href=\"#Regarder-les-erreurs\" data-toc-modified-id=\"Regarder-les-erreurs-5.2.4\"><span class=\"toc-item-num\">5.2.4&nbsp;&nbsp;</span>Regarder les erreurs</a></span></li><li><span><a href=\"#Test\" data-toc-modified-id=\"Test-5.2.5\"><span class=\"toc-item-num\">5.2.5&nbsp;&nbsp;</span>Test</a></span></li><li><span><a href=\"#Préparation-des-données\" data-toc-modified-id=\"Préparation-des-données-5.2.6\"><span class=\"toc-item-num\">5.2.6&nbsp;&nbsp;</span>Préparation des données</a></span></li><li><span><a href=\"#Avec-seaborn\" data-toc-modified-id=\"Avec-seaborn-5.2.7\"><span class=\"toc-item-num\">5.2.7&nbsp;&nbsp;</span>Avec seaborn</a></span></li><li><span><a href=\"#Avec-l'estimation-par-noyau\" data-toc-modified-id=\"Avec-l'estimation-par-noyau-5.2.8\"><span class=\"toc-item-num\">5.2.8&nbsp;&nbsp;</span>Avec l'estimation par noyau</a></span></li></ul></li></ul></li><li><span><a href=\"#EXERCICE-3\" data-toc-modified-id=\"EXERCICE-3-6\"><span class=\"toc-item-num\">6&nbsp;&nbsp;</span>EXERCICE 3</a></span><ul class=\"toc-item\"><li><span><a href=\"#COMPTE-RENDU\" data-toc-modified-id=\"COMPTE-RENDU-6.1\"><span class=\"toc-item-num\">6.1&nbsp;&nbsp;</span>COMPTE-RENDU</a></span><ul class=\"toc-item\"><li><span><a href=\"#Un-peu-d'histoire\" data-toc-modified-id=\"Un-peu-d'histoire-6.1.1\"><span class=\"toc-item-num\">6.1.1&nbsp;&nbsp;</span>Un peu d'histoire</a></span></li><li><span><a href=\"#Pourquoi-avoir-choisi-ce-dataset\" data-toc-modified-id=\"Pourquoi-avoir-choisi-ce-dataset-6.1.2\"><span class=\"toc-item-num\">6.1.2&nbsp;&nbsp;</span>Pourquoi avoir choisi ce dataset</a></span></li><li><span><a href=\"#Présentation-du-dataset\" data-toc-modified-id=\"Présentation-du-dataset-6.1.3\"><span class=\"toc-item-num\">6.1.3&nbsp;&nbsp;</span>Présentation du dataset</a></span></li><li><span><a href=\"#Préparation-des-données\" data-toc-modified-id=\"Préparation-des-données-6.1.4\"><span class=\"toc-item-num\">6.1.4&nbsp;&nbsp;</span>Préparation des données</a></span></li><li><span><a href=\"#Analyse-exploratoire\" data-toc-modified-id=\"Analyse-exploratoire-6.1.5\"><span class=\"toc-item-num\">6.1.5&nbsp;&nbsp;</span>Analyse exploratoire</a></span><ul class=\"toc-item\"><li><span><a href=\"#1.-Heatmap\" data-toc-modified-id=\"1.-Heatmap-6.1.5.1\"><span class=\"toc-item-num\">6.1.5.1&nbsp;&nbsp;</span>1. Heatmap</a></span></li><li><span><a href=\"#2.-Type-de-nos-variables\" data-toc-modified-id=\"2.-Type-de-nos-variables-6.1.5.2\"><span class=\"toc-item-num\">6.1.5.2&nbsp;&nbsp;</span>2. Type de nos variables</a></span></li><li><span><a href=\"#3.-Etude-univariée/bivariée\" data-toc-modified-id=\"3.-Etude-univariée/bivariée-6.1.5.3\"><span class=\"toc-item-num\">6.1.5.3&nbsp;&nbsp;</span>3. Etude univariée/bivariée</a></span></li></ul></li><li><span><a href=\"#Regression-logistique\" data-toc-modified-id=\"Regression-logistique-6.1.6\"><span class=\"toc-item-num\">6.1.6&nbsp;&nbsp;</span>Regression logistique</a></span></li><li><span><a href=\"#Prédiction\" data-toc-modified-id=\"Prédiction-6.1.7\"><span class=\"toc-item-num\">6.1.7&nbsp;&nbsp;</span>Prédiction</a></span></li></ul></li><li><span><a href=\"#ANNEXE\" data-toc-modified-id=\"ANNEXE-6.2\"><span class=\"toc-item-num\">6.2&nbsp;&nbsp;</span>ANNEXE</a></span><ul class=\"toc-item\"><li><span><a href=\"#0.-Importation-des-modules\" data-toc-modified-id=\"0.-Importation-des-modules-6.2.1\"><span class=\"toc-item-num\">6.2.1&nbsp;&nbsp;</span>0. Importation des modules</a></span></li><li><span><a href=\"#1.-Importation-du-dataset\" data-toc-modified-id=\"1.-Importation-du-dataset-6.2.2\"><span class=\"toc-item-num\">6.2.2&nbsp;&nbsp;</span>1. Importation du dataset</a></span></li><li><span><a href=\"#2.-Recodage-des-noms-des-variables\" data-toc-modified-id=\"2.-Recodage-des-noms-des-variables-6.2.3\"><span class=\"toc-item-num\">6.2.3&nbsp;&nbsp;</span>2. Recodage des noms des variables</a></span></li><li><span><a href=\"#3.-Gestion-des-valeurs-manquantes-(NAs)\" data-toc-modified-id=\"3.-Gestion-des-valeurs-manquantes-(NAs)-6.2.4\"><span class=\"toc-item-num\">6.2.4&nbsp;&nbsp;</span>3. Gestion des valeurs manquantes (NAs)</a></span></li><li><span><a href=\"#4.-Heatmap\" data-toc-modified-id=\"4.-Heatmap-6.2.5\"><span class=\"toc-item-num\">6.2.5&nbsp;&nbsp;</span>4. Heatmap</a></span></li><li><span><a href=\"#5.-Modification-des-types\" data-toc-modified-id=\"5.-Modification-des-types-6.2.6\"><span class=\"toc-item-num\">6.2.6&nbsp;&nbsp;</span>5. Modification des types</a></span></li><li><span><a href=\"#6.-Statistiques-univariées\" data-toc-modified-id=\"6.-Statistiques-univariées-6.2.7\"><span class=\"toc-item-num\">6.2.7&nbsp;&nbsp;</span>6. Statistiques univariées</a></span></li><li><span><a href=\"#7.-Variable-Sexe\" data-toc-modified-id=\"7.-Variable-Sexe-6.2.8\"><span class=\"toc-item-num\">6.2.8&nbsp;&nbsp;</span>7. Variable Sexe</a></span></li><li><span><a href=\"#7.-Regression-logistique\" data-toc-modified-id=\"7.-Regression-logistique-6.2.9\"><span class=\"toc-item-num\">6.2.9&nbsp;&nbsp;</span>7. Regression logistique</a></span><ul class=\"toc-item\"><li><span><a href=\"#7.1.-Sans-selection\" data-toc-modified-id=\"7.1.-Sans-selection-6.2.9.1\"><span class=\"toc-item-num\">6.2.9.1&nbsp;&nbsp;</span>7.1. Sans selection</a></span></li><li><span><a href=\"#7.2.-Avec-selection\" data-toc-modified-id=\"7.2.-Avec-selection-6.2.9.2\"><span class=\"toc-item-num\">6.2.9.2&nbsp;&nbsp;</span>7.2. Avec selection</a></span></li></ul></li><li><span><a href=\"#8.-Prediction\" data-toc-modified-id=\"8.-Prediction-6.2.10\"><span class=\"toc-item-num\">6.2.10&nbsp;&nbsp;</span>8. Prediction</a></span></li></ul></li></ul></li></ul></div>"
   ]
  },
  {
   "cell_type": "markdown",
   "metadata": {},
   "source": [
    "# EXERCICE 1"
   ]
  },
  {
   "cell_type": "markdown",
   "metadata": {},
   "source": [
    "## COMPTE-RENDU"
   ]
  },
  {
   "cell_type": "markdown",
   "metadata": {},
   "source": [
    "C’est un exercice de classification d’images. L’objectif est d’abord de reduire la dimension avec l’ACP puis de classifier les images."
   ]
  },
  {
   "cell_type": "markdown",
   "metadata": {},
   "source": [
    "Dans un premier temps on procède à l'importation des packages et des données (voir dans l'annexe la partie du code (0) et (1))."
   ]
  },
  {
   "cell_type": "markdown",
   "metadata": {},
   "source": [
    "**1. Decrivez les 4 datasets. Representez graphiquement le visage moyen (moyenne de toutes les lignes) de l’echantillon train.**"
   ]
  },
  {
   "cell_type": "markdown",
   "metadata": {},
   "source": [
    "Tout d'abord, on constate que l'on a 4 fichiers de données, 2 jeu de données tests (\"test\") et 2 jeu de données d'apprentissage (\"train\"). Commençons par décrire les données d'apprentissage. (cf annexe code (2))"
   ]
  },
  {
   "cell_type": "markdown",
   "metadata": {},
   "source": [
    "Le fichier train_labels contient uniquement des noms de colonnes, plus precisement 320 colonnes. Train_inputs contient quant à lui 10304 colonnes et 320 lignes. L'ensemble des 10304 variables sont des pixels. Ainsi, une observation est un visage décrit par 10304 pixels. "
   ]
  },
  {
   "cell_type": "markdown",
   "metadata": {},
   "source": [
    "Concernant les fichiers de données tests, on dispose de nouveau d'un fichier labels contenant une ligne et 80 colonnes, et d'un fichier inputs de 80 lignes et 10304 colonnes. Toutes les variables du fichier inputs sont également quantitatives continues puisqu'il s'agit encore de pixels normalisés."
   ]
  },
  {
   "cell_type": "markdown",
   "metadata": {},
   "source": [
    "Représentons maintenant le visage moyen en calculant la moyenne de chaque observation du jeu d'apprentissage train_inputs. On obtiendra donc 10304 moyennes avec lesquelles on pourra obtenir la visualisation du visage moyen."
   ]
  },
  {
   "cell_type": "markdown",
   "metadata": {},
   "source": [
    "Pour obtenir une visualisation du visage moyen, il faut faire la moyenne sur toutes les lignes des données train_inputs. On obtiendra autant de moyennes qu'il y a de colonnes soit 10304 moyennes. Pour avoir un visuel du visage il faut transformer notre \"vecteur\" moyenne en matrice (92,112) car le produit de ces deux valeurs vaut bien 10304. On obtient le resultat du code (3) de l'annexe."
   ]
  },
  {
   "cell_type": "markdown",
   "metadata": {},
   "source": [
    "**2. Appliquez une ACP pour reduire la dimension du dataset pour k=5, 10 et 50.**"
   ]
  },
  {
   "cell_type": "markdown",
   "metadata": {},
   "source": [
    "Notre jeu de données est de très grande dimension puisqu'on a 320 individus décrit par 10304 variables. Via une ACP, nous allons réduire le nombre de dimensions à 5 dimensions, puis 10 et enfin 50 dimensions. Pour chacune des dimensions nous allons représenter visage."
   ]
  },
  {
   "cell_type": "markdown",
   "metadata": {},
   "source": [
    "Dans un premier temps on etudie le pourcentage de variance expliquée lorsqu'on se limite a 5 dimensions (voir code (4) de l'annexe). En gardant 5 dimensions on explique 48% de la variance totale ce qui est assez faible. On peut s'attendre à avoir un visage pas très lisible."
   ]
  },
  {
   "cell_type": "markdown",
   "metadata": {},
   "source": [
    "Lorsqu'on reduit le dataset à 10 dimensions, cette fois-ci on explique 60% de la variance totale. On peut donc s'attendre à un visage plus lisible."
   ]
  },
  {
   "cell_type": "markdown",
   "metadata": {},
   "source": [
    "A 50 dimensions, on explique 83% de la variance totale et par consequent on aura une image d'une meilleure lisiblité que dans les deux cas précédents."
   ]
  },
  {
   "cell_type": "markdown",
   "metadata": {},
   "source": [
    "**3. Choisissez un visage et representez le graphiquement pour k=5,10,50.**"
   ]
  },
  {
   "cell_type": "markdown",
   "metadata": {},
   "source": [
    "Comme attendu, le visage lorsque k=50 est moins floue que lorsque k=5 ou 10 (voir code (5) de l'annexe). Cependant, l’ACP est plutot longue lorsque le nombre de colonnes est très grand."
   ]
  },
  {
   "cell_type": "markdown",
   "metadata": {},
   "source": [
    "**4. Proposez une solution**"
   ]
  },
  {
   "cell_type": "markdown",
   "metadata": {},
   "source": [
    "Nous pourrions utiliser la methode des K-means sur le dataset réduit à 5 dimension. On choisit des centres initiaux et on attribue une classe à chaque visage."
   ]
  },
  {
   "cell_type": "markdown",
   "metadata": {},
   "source": [
    "**5. En utilisant le dataset reduit par ACP, implementez un K plus proche voisin, pour pouvoir classifier les images du test et calculer la precision et la sensibilite de votre algorithme.**"
   ]
  },
  {
   "cell_type": "markdown",
   "metadata": {},
   "source": [
    "Dans un premier, nous implementons les fonctions de distances euclidiennes (normalisés et non normalisés). Pour cela, voir le code 6 de l'annexe. Par la suite, nous implémentons la fonction de l'etape d'initialisation de l'algorithme du kmeans qui consiste à choisir k individus que l'on considerera comme les centres initiaux(voir code 7). La fonction suivante constitue une étape centrale de l'algorithme puisqu'il s'agit d'attribuer a chaque visage une classe à laquelle il appartiendra (code 8). La prochaine étape consiste à récuperer les centres finaux une fois que l'algorithme s'est stabilisé, donc une fois que les visages ne changent plus de classes(code 9)."
   ]
  },
  {
   "cell_type": "markdown",
   "metadata": {},
   "source": [
    "Avant d'implementer la fonction km (code 10), tout d'abord on transforme notre jeu de données, reduit à 5 dimensions et obtenu à la question précédente, en un data frame (code 11)."
   ]
  },
  {
   "cell_type": "markdown",
   "metadata": {},
   "source": [
    "En comparant l'inertie obtenu pour 5 classes à l'aide de notre fonction km et de la fonction KMeans de Python, on remarque que les inerties sont tres proches. 17090 pour la fonction km et 17038 pour la fonction KMeans. Notre algorithme est donc plutot précis."
   ]
  },
  {
   "cell_type": "markdown",
   "metadata": {},
   "source": [
    "A l'aide du 11, on est capable de comparer la repartition des classes selon la fonction kmeans implementées plus tot dans l'etude et la fonction pré-definie dans python. La fonction disponible sur python nous donne un peu plus de visages dans la classe 2 que dans les autres classes or qu'avec notre fonction, la repartition est plus homogene. Nous avons egalement implémenté une fonction appliquant la méthode des k plus proches (voir code 12)."
   ]
  },
  {
   "cell_type": "markdown",
   "metadata": {},
   "source": [
    "**6. Offrez des recommandations pour ameliorer le modele.**"
   ]
  },
  {
   "cell_type": "markdown",
   "metadata": {},
   "source": [
    "Supposons un modèle de régression linéaire ou le but serait de prédire les labels de l'echantillon d'apprentissage et les labels de l'echantillon test. On calculerait l'efficacité de notre prédiction en calculant l'erreur quadratique moyenne pour les deux echantillons : test et train (voir annexe code 13). \n",
    "Nous pourrions comparer l'efficacité de ce modèle en le comparant au modèle 2 avec pénalité de Ridge et au modèle 3 avec pénalité de Lasso (on peut considérer un alpha = 10%). En effet, les regressions pénalisées sont des méthodes de régressions adaptées aux jeu de données dont la quantité de variables est très largement supérieur aux nombres d'observation. Pour comparer ces 3 modèles, une possibilité serait de calculer une erreur quadratique moyenne pour ces 3 modèles et de considérer comme meilleure modèle celui dont cet indicateur est le plus bas."
   ]
  },
  {
   "cell_type": "markdown",
   "metadata": {},
   "source": [
    "## ANNEXE"
   ]
  },
  {
   "cell_type": "markdown",
   "metadata": {},
   "source": [
    "### Importation des modules"
   ]
  },
  {
   "cell_type": "markdown",
   "metadata": {},
   "source": [
    "(0)"
   ]
  },
  {
   "cell_type": "code",
   "execution_count": 1,
   "metadata": {},
   "outputs": [],
   "source": [
    "import os   \n",
    "import pandas as pd\n",
    "import numpy as np\n",
    "import seaborn\n",
    "from matplotlib import pyplot as plt  \n",
    "\n",
    "%matplotlib inline\n",
    "\n",
    "from sklearn.decomposition import PCA # ACP\n",
    "from sklearn.preprocessing import scale"
   ]
  },
  {
   "cell_type": "markdown",
   "metadata": {},
   "source": [
    "### Importation des données"
   ]
  },
  {
   "cell_type": "markdown",
   "metadata": {},
   "source": [
    "(1)"
   ]
  },
  {
   "cell_type": "code",
   "execution_count": 2,
   "metadata": {},
   "outputs": [
    {
     "data": {
      "text/plain": [
       "'C:\\\\Users\\\\Rafi\\\\Desktop'"
      ]
     },
     "execution_count": 2,
     "metadata": {},
     "output_type": "execute_result"
    }
   ],
   "source": [
    "os.getcwd() # repertoire de travail"
   ]
  },
  {
   "cell_type": "code",
   "execution_count": 3,
   "metadata": {},
   "outputs": [],
   "source": [
    "# Importation des données :\n",
    "test_inputs = pd.read_csv(\"Faces_Test_Inputs.csv\", sep = \",\",header=None)\n",
    "train_inputs = pd.read_csv(\"Faces_Train_Inputs.csv\", sep = \",\",header=None)\n",
    "test_labels= pd.read_csv(\"Faces_Test_Labels.csv\", sep = \",\")\n",
    "train_labels = pd.read_csv(\"Faces_Train_Labels.csv\", sep = \",\")"
   ]
  },
  {
   "cell_type": "markdown",
   "metadata": {},
   "source": [
    "(2)"
   ]
  },
  {
   "cell_type": "code",
   "execution_count": 4,
   "metadata": {},
   "outputs": [
    {
     "data": {
      "text/plain": [
       "(0, 320)"
      ]
     },
     "execution_count": 4,
     "metadata": {},
     "output_type": "execute_result"
    }
   ],
   "source": [
    "train_labels.head()\n",
    "train_labels.shape"
   ]
  },
  {
   "cell_type": "code",
   "execution_count": 5,
   "metadata": {},
   "outputs": [
    {
     "data": {
      "text/html": [
       "<div>\n",
       "<style scoped>\n",
       "    .dataframe tbody tr th:only-of-type {\n",
       "        vertical-align: middle;\n",
       "    }\n",
       "\n",
       "    .dataframe tbody tr th {\n",
       "        vertical-align: top;\n",
       "    }\n",
       "\n",
       "    .dataframe thead th {\n",
       "        text-align: right;\n",
       "    }\n",
       "</style>\n",
       "<table border=\"1\" class=\"dataframe\">\n",
       "  <thead>\n",
       "    <tr style=\"text-align: right;\">\n",
       "      <th></th>\n",
       "      <th>0</th>\n",
       "      <th>1</th>\n",
       "      <th>2</th>\n",
       "      <th>3</th>\n",
       "      <th>4</th>\n",
       "      <th>5</th>\n",
       "      <th>6</th>\n",
       "      <th>7</th>\n",
       "      <th>8</th>\n",
       "      <th>9</th>\n",
       "      <th>...</th>\n",
       "      <th>10294</th>\n",
       "      <th>10295</th>\n",
       "      <th>10296</th>\n",
       "      <th>10297</th>\n",
       "      <th>10298</th>\n",
       "      <th>10299</th>\n",
       "      <th>10300</th>\n",
       "      <th>10301</th>\n",
       "      <th>10302</th>\n",
       "      <th>10303</th>\n",
       "    </tr>\n",
       "  </thead>\n",
       "  <tbody>\n",
       "    <tr>\n",
       "      <td>0</td>\n",
       "      <td>0.18824</td>\n",
       "      <td>0.17647</td>\n",
       "      <td>0.17647</td>\n",
       "      <td>0.19216</td>\n",
       "      <td>0.18039</td>\n",
       "      <td>0.18431</td>\n",
       "      <td>0.17647</td>\n",
       "      <td>0.18431</td>\n",
       "      <td>0.18824</td>\n",
       "      <td>0.207840</td>\n",
       "      <td>...</td>\n",
       "      <td>0.18431</td>\n",
       "      <td>0.17255</td>\n",
       "      <td>0.18431</td>\n",
       "      <td>0.20392</td>\n",
       "      <td>0.18824</td>\n",
       "      <td>0.192160</td>\n",
       "      <td>0.176470</td>\n",
       "      <td>0.180390</td>\n",
       "      <td>0.18431</td>\n",
       "      <td>0.180390</td>\n",
       "    </tr>\n",
       "    <tr>\n",
       "      <td>1</td>\n",
       "      <td>0.23529</td>\n",
       "      <td>0.22745</td>\n",
       "      <td>0.26667</td>\n",
       "      <td>0.30980</td>\n",
       "      <td>0.19216</td>\n",
       "      <td>0.16863</td>\n",
       "      <td>0.20392</td>\n",
       "      <td>0.20392</td>\n",
       "      <td>0.21961</td>\n",
       "      <td>0.282350</td>\n",
       "      <td>...</td>\n",
       "      <td>0.14510</td>\n",
       "      <td>0.15686</td>\n",
       "      <td>0.14118</td>\n",
       "      <td>0.12549</td>\n",
       "      <td>0.12941</td>\n",
       "      <td>0.145100</td>\n",
       "      <td>0.141180</td>\n",
       "      <td>0.129410</td>\n",
       "      <td>0.12157</td>\n",
       "      <td>0.133330</td>\n",
       "    </tr>\n",
       "    <tr>\n",
       "      <td>2</td>\n",
       "      <td>0.15294</td>\n",
       "      <td>0.17255</td>\n",
       "      <td>0.23137</td>\n",
       "      <td>0.21176</td>\n",
       "      <td>0.24314</td>\n",
       "      <td>0.27059</td>\n",
       "      <td>0.29020</td>\n",
       "      <td>0.23922</td>\n",
       "      <td>0.17255</td>\n",
       "      <td>0.184310</td>\n",
       "      <td>...</td>\n",
       "      <td>0.15294</td>\n",
       "      <td>0.14510</td>\n",
       "      <td>0.13333</td>\n",
       "      <td>0.12157</td>\n",
       "      <td>0.12549</td>\n",
       "      <td>0.133330</td>\n",
       "      <td>0.109800</td>\n",
       "      <td>0.109800</td>\n",
       "      <td>0.10588</td>\n",
       "      <td>0.113730</td>\n",
       "    </tr>\n",
       "    <tr>\n",
       "      <td>3</td>\n",
       "      <td>0.24706</td>\n",
       "      <td>0.21961</td>\n",
       "      <td>0.20392</td>\n",
       "      <td>0.15686</td>\n",
       "      <td>0.16863</td>\n",
       "      <td>0.16863</td>\n",
       "      <td>0.11373</td>\n",
       "      <td>0.11765</td>\n",
       "      <td>0.11765</td>\n",
       "      <td>0.094118</td>\n",
       "      <td>...</td>\n",
       "      <td>0.16078</td>\n",
       "      <td>0.16078</td>\n",
       "      <td>0.13725</td>\n",
       "      <td>0.12549</td>\n",
       "      <td>0.10588</td>\n",
       "      <td>0.094118</td>\n",
       "      <td>0.090196</td>\n",
       "      <td>0.098039</td>\n",
       "      <td>0.10980</td>\n",
       "      <td>0.094118</td>\n",
       "    </tr>\n",
       "    <tr>\n",
       "      <td>4</td>\n",
       "      <td>0.25098</td>\n",
       "      <td>0.23529</td>\n",
       "      <td>0.24706</td>\n",
       "      <td>0.20784</td>\n",
       "      <td>0.23529</td>\n",
       "      <td>0.16078</td>\n",
       "      <td>0.11765</td>\n",
       "      <td>0.10980</td>\n",
       "      <td>0.14902</td>\n",
       "      <td>0.215690</td>\n",
       "      <td>...</td>\n",
       "      <td>0.15686</td>\n",
       "      <td>0.17255</td>\n",
       "      <td>0.15686</td>\n",
       "      <td>0.16863</td>\n",
       "      <td>0.16471</td>\n",
       "      <td>0.160780</td>\n",
       "      <td>0.160780</td>\n",
       "      <td>0.137250</td>\n",
       "      <td>0.16471</td>\n",
       "      <td>0.152940</td>\n",
       "    </tr>\n",
       "  </tbody>\n",
       "</table>\n",
       "<p>5 rows × 10304 columns</p>\n",
       "</div>"
      ],
      "text/plain": [
       "     0        1        2        3        4        5        6        7      \\\n",
       "0  0.18824  0.17647  0.17647  0.19216  0.18039  0.18431  0.17647  0.18431   \n",
       "1  0.23529  0.22745  0.26667  0.30980  0.19216  0.16863  0.20392  0.20392   \n",
       "2  0.15294  0.17255  0.23137  0.21176  0.24314  0.27059  0.29020  0.23922   \n",
       "3  0.24706  0.21961  0.20392  0.15686  0.16863  0.16863  0.11373  0.11765   \n",
       "4  0.25098  0.23529  0.24706  0.20784  0.23529  0.16078  0.11765  0.10980   \n",
       "\n",
       "     8         9      ...    10294    10295    10296    10297    10298  \\\n",
       "0  0.18824  0.207840  ...  0.18431  0.17255  0.18431  0.20392  0.18824   \n",
       "1  0.21961  0.282350  ...  0.14510  0.15686  0.14118  0.12549  0.12941   \n",
       "2  0.17255  0.184310  ...  0.15294  0.14510  0.13333  0.12157  0.12549   \n",
       "3  0.11765  0.094118  ...  0.16078  0.16078  0.13725  0.12549  0.10588   \n",
       "4  0.14902  0.215690  ...  0.15686  0.17255  0.15686  0.16863  0.16471   \n",
       "\n",
       "      10299     10300     10301    10302     10303  \n",
       "0  0.192160  0.176470  0.180390  0.18431  0.180390  \n",
       "1  0.145100  0.141180  0.129410  0.12157  0.133330  \n",
       "2  0.133330  0.109800  0.109800  0.10588  0.113730  \n",
       "3  0.094118  0.090196  0.098039  0.10980  0.094118  \n",
       "4  0.160780  0.160780  0.137250  0.16471  0.152940  \n",
       "\n",
       "[5 rows x 10304 columns]"
      ]
     },
     "execution_count": 5,
     "metadata": {},
     "output_type": "execute_result"
    }
   ],
   "source": [
    "train_inputs.head()"
   ]
  },
  {
   "cell_type": "code",
   "execution_count": 6,
   "metadata": {},
   "outputs": [
    {
     "data": {
      "text/plain": [
       "(320, 10304)"
      ]
     },
     "execution_count": 6,
     "metadata": {},
     "output_type": "execute_result"
    }
   ],
   "source": [
    "train_inputs.shape"
   ]
  },
  {
   "cell_type": "code",
   "execution_count": 7,
   "metadata": {},
   "outputs": [
    {
     "data": {
      "text/html": [
       "<div>\n",
       "<style scoped>\n",
       "    .dataframe tbody tr th:only-of-type {\n",
       "        vertical-align: middle;\n",
       "    }\n",
       "\n",
       "    .dataframe tbody tr th {\n",
       "        vertical-align: top;\n",
       "    }\n",
       "\n",
       "    .dataframe thead th {\n",
       "        text-align: right;\n",
       "    }\n",
       "</style>\n",
       "<table border=\"1\" class=\"dataframe\">\n",
       "  <thead>\n",
       "    <tr style=\"text-align: right;\">\n",
       "      <th></th>\n",
       "      <th>0</th>\n",
       "      <th>1</th>\n",
       "      <th>2</th>\n",
       "      <th>3</th>\n",
       "      <th>4</th>\n",
       "      <th>5</th>\n",
       "      <th>6</th>\n",
       "      <th>7</th>\n",
       "      <th>8</th>\n",
       "      <th>9</th>\n",
       "      <th>...</th>\n",
       "      <th>10294</th>\n",
       "      <th>10295</th>\n",
       "      <th>10296</th>\n",
       "      <th>10297</th>\n",
       "      <th>10298</th>\n",
       "      <th>10299</th>\n",
       "      <th>10300</th>\n",
       "      <th>10301</th>\n",
       "      <th>10302</th>\n",
       "      <th>10303</th>\n",
       "    </tr>\n",
       "  </thead>\n",
       "  <tbody>\n",
       "    <tr>\n",
       "      <td>count</td>\n",
       "      <td>320.00</td>\n",
       "      <td>320.00</td>\n",
       "      <td>320.00</td>\n",
       "      <td>320.00</td>\n",
       "      <td>320.00</td>\n",
       "      <td>320.00</td>\n",
       "      <td>320.00</td>\n",
       "      <td>320.00</td>\n",
       "      <td>320.00</td>\n",
       "      <td>320.00</td>\n",
       "      <td>...</td>\n",
       "      <td>320.00</td>\n",
       "      <td>320.00</td>\n",
       "      <td>320.00</td>\n",
       "      <td>320.00</td>\n",
       "      <td>320.00</td>\n",
       "      <td>320.00</td>\n",
       "      <td>320.00</td>\n",
       "      <td>320.00</td>\n",
       "      <td>320.00</td>\n",
       "      <td>320.00</td>\n",
       "    </tr>\n",
       "    <tr>\n",
       "      <td>mean</td>\n",
       "      <td>0.34</td>\n",
       "      <td>0.34</td>\n",
       "      <td>0.34</td>\n",
       "      <td>0.34</td>\n",
       "      <td>0.34</td>\n",
       "      <td>0.34</td>\n",
       "      <td>0.34</td>\n",
       "      <td>0.34</td>\n",
       "      <td>0.34</td>\n",
       "      <td>0.34</td>\n",
       "      <td>...</td>\n",
       "      <td>0.25</td>\n",
       "      <td>0.25</td>\n",
       "      <td>0.26</td>\n",
       "      <td>0.26</td>\n",
       "      <td>0.27</td>\n",
       "      <td>0.28</td>\n",
       "      <td>0.28</td>\n",
       "      <td>0.28</td>\n",
       "      <td>0.28</td>\n",
       "      <td>0.29</td>\n",
       "    </tr>\n",
       "    <tr>\n",
       "      <td>std</td>\n",
       "      <td>0.14</td>\n",
       "      <td>0.14</td>\n",
       "      <td>0.14</td>\n",
       "      <td>0.14</td>\n",
       "      <td>0.14</td>\n",
       "      <td>0.14</td>\n",
       "      <td>0.14</td>\n",
       "      <td>0.14</td>\n",
       "      <td>0.14</td>\n",
       "      <td>0.13</td>\n",
       "      <td>...</td>\n",
       "      <td>0.13</td>\n",
       "      <td>0.14</td>\n",
       "      <td>0.14</td>\n",
       "      <td>0.15</td>\n",
       "      <td>0.15</td>\n",
       "      <td>0.16</td>\n",
       "      <td>0.16</td>\n",
       "      <td>0.16</td>\n",
       "      <td>0.16</td>\n",
       "      <td>0.17</td>\n",
       "    </tr>\n",
       "    <tr>\n",
       "      <td>min</td>\n",
       "      <td>0.07</td>\n",
       "      <td>0.09</td>\n",
       "      <td>0.09</td>\n",
       "      <td>0.09</td>\n",
       "      <td>0.09</td>\n",
       "      <td>0.09</td>\n",
       "      <td>0.08</td>\n",
       "      <td>0.08</td>\n",
       "      <td>0.08</td>\n",
       "      <td>0.09</td>\n",
       "      <td>...</td>\n",
       "      <td>0.06</td>\n",
       "      <td>0.06</td>\n",
       "      <td>0.04</td>\n",
       "      <td>0.05</td>\n",
       "      <td>0.05</td>\n",
       "      <td>0.06</td>\n",
       "      <td>0.06</td>\n",
       "      <td>0.06</td>\n",
       "      <td>0.06</td>\n",
       "      <td>0.05</td>\n",
       "    </tr>\n",
       "    <tr>\n",
       "      <td>25%</td>\n",
       "      <td>0.19</td>\n",
       "      <td>0.20</td>\n",
       "      <td>0.20</td>\n",
       "      <td>0.20</td>\n",
       "      <td>0.19</td>\n",
       "      <td>0.19</td>\n",
       "      <td>0.20</td>\n",
       "      <td>0.20</td>\n",
       "      <td>0.20</td>\n",
       "      <td>0.20</td>\n",
       "      <td>...</td>\n",
       "      <td>0.15</td>\n",
       "      <td>0.15</td>\n",
       "      <td>0.15</td>\n",
       "      <td>0.15</td>\n",
       "      <td>0.16</td>\n",
       "      <td>0.16</td>\n",
       "      <td>0.16</td>\n",
       "      <td>0.16</td>\n",
       "      <td>0.16</td>\n",
       "      <td>0.16</td>\n",
       "    </tr>\n",
       "    <tr>\n",
       "      <td>50%</td>\n",
       "      <td>0.39</td>\n",
       "      <td>0.38</td>\n",
       "      <td>0.39</td>\n",
       "      <td>0.39</td>\n",
       "      <td>0.39</td>\n",
       "      <td>0.39</td>\n",
       "      <td>0.39</td>\n",
       "      <td>0.39</td>\n",
       "      <td>0.39</td>\n",
       "      <td>0.39</td>\n",
       "      <td>...</td>\n",
       "      <td>0.22</td>\n",
       "      <td>0.22</td>\n",
       "      <td>0.22</td>\n",
       "      <td>0.22</td>\n",
       "      <td>0.22</td>\n",
       "      <td>0.24</td>\n",
       "      <td>0.25</td>\n",
       "      <td>0.24</td>\n",
       "      <td>0.24</td>\n",
       "      <td>0.25</td>\n",
       "    </tr>\n",
       "    <tr>\n",
       "      <td>75%</td>\n",
       "      <td>0.45</td>\n",
       "      <td>0.45</td>\n",
       "      <td>0.45</td>\n",
       "      <td>0.45</td>\n",
       "      <td>0.45</td>\n",
       "      <td>0.45</td>\n",
       "      <td>0.45</td>\n",
       "      <td>0.45</td>\n",
       "      <td>0.45</td>\n",
       "      <td>0.45</td>\n",
       "      <td>...</td>\n",
       "      <td>0.32</td>\n",
       "      <td>0.33</td>\n",
       "      <td>0.33</td>\n",
       "      <td>0.33</td>\n",
       "      <td>0.33</td>\n",
       "      <td>0.33</td>\n",
       "      <td>0.34</td>\n",
       "      <td>0.34</td>\n",
       "      <td>0.35</td>\n",
       "      <td>0.36</td>\n",
       "    </tr>\n",
       "    <tr>\n",
       "      <td>max</td>\n",
       "      <td>0.62</td>\n",
       "      <td>0.61</td>\n",
       "      <td>0.61</td>\n",
       "      <td>0.61</td>\n",
       "      <td>0.61</td>\n",
       "      <td>0.61</td>\n",
       "      <td>0.60</td>\n",
       "      <td>0.61</td>\n",
       "      <td>0.61</td>\n",
       "      <td>0.61</td>\n",
       "      <td>...</td>\n",
       "      <td>0.74</td>\n",
       "      <td>0.75</td>\n",
       "      <td>0.73</td>\n",
       "      <td>0.84</td>\n",
       "      <td>0.82</td>\n",
       "      <td>0.87</td>\n",
       "      <td>0.85</td>\n",
       "      <td>0.78</td>\n",
       "      <td>0.79</td>\n",
       "      <td>0.85</td>\n",
       "    </tr>\n",
       "  </tbody>\n",
       "</table>\n",
       "<p>8 rows × 10304 columns</p>\n",
       "</div>"
      ],
      "text/plain": [
       "        0       1       2       3       4       5       6       7       8      \\\n",
       "count  320.00  320.00  320.00  320.00  320.00  320.00  320.00  320.00  320.00   \n",
       "mean     0.34    0.34    0.34    0.34    0.34    0.34    0.34    0.34    0.34   \n",
       "std      0.14    0.14    0.14    0.14    0.14    0.14    0.14    0.14    0.14   \n",
       "min      0.07    0.09    0.09    0.09    0.09    0.09    0.08    0.08    0.08   \n",
       "25%      0.19    0.20    0.20    0.20    0.19    0.19    0.20    0.20    0.20   \n",
       "50%      0.39    0.38    0.39    0.39    0.39    0.39    0.39    0.39    0.39   \n",
       "75%      0.45    0.45    0.45    0.45    0.45    0.45    0.45    0.45    0.45   \n",
       "max      0.62    0.61    0.61    0.61    0.61    0.61    0.60    0.61    0.61   \n",
       "\n",
       "        9      ...   10294   10295   10296   10297   10298   10299   10300  \\\n",
       "count  320.00  ...  320.00  320.00  320.00  320.00  320.00  320.00  320.00   \n",
       "mean     0.34  ...    0.25    0.25    0.26    0.26    0.27    0.28    0.28   \n",
       "std      0.13  ...    0.13    0.14    0.14    0.15    0.15    0.16    0.16   \n",
       "min      0.09  ...    0.06    0.06    0.04    0.05    0.05    0.06    0.06   \n",
       "25%      0.20  ...    0.15    0.15    0.15    0.15    0.16    0.16    0.16   \n",
       "50%      0.39  ...    0.22    0.22    0.22    0.22    0.22    0.24    0.25   \n",
       "75%      0.45  ...    0.32    0.33    0.33    0.33    0.33    0.33    0.34   \n",
       "max      0.61  ...    0.74    0.75    0.73    0.84    0.82    0.87    0.85   \n",
       "\n",
       "        10301   10302   10303  \n",
       "count  320.00  320.00  320.00  \n",
       "mean     0.28    0.28    0.29  \n",
       "std      0.16    0.16    0.17  \n",
       "min      0.06    0.06    0.05  \n",
       "25%      0.16    0.16    0.16  \n",
       "50%      0.24    0.24    0.25  \n",
       "75%      0.34    0.35    0.36  \n",
       "max      0.78    0.79    0.85  \n",
       "\n",
       "[8 rows x 10304 columns]"
      ]
     },
     "execution_count": 7,
     "metadata": {},
     "output_type": "execute_result"
    }
   ],
   "source": [
    "train_inputs.describe().round(2)"
   ]
  },
  {
   "cell_type": "code",
   "execution_count": 8,
   "metadata": {},
   "outputs": [
    {
     "data": {
      "text/html": [
       "<div>\n",
       "<style scoped>\n",
       "    .dataframe tbody tr th:only-of-type {\n",
       "        vertical-align: middle;\n",
       "    }\n",
       "\n",
       "    .dataframe tbody tr th {\n",
       "        vertical-align: top;\n",
       "    }\n",
       "\n",
       "    .dataframe thead th {\n",
       "        text-align: right;\n",
       "    }\n",
       "</style>\n",
       "<table border=\"1\" class=\"dataframe\">\n",
       "  <thead>\n",
       "    <tr style=\"text-align: right;\">\n",
       "      <th></th>\n",
       "      <th>0</th>\n",
       "      <th>1</th>\n",
       "      <th>2</th>\n",
       "      <th>3</th>\n",
       "      <th>4</th>\n",
       "      <th>5</th>\n",
       "      <th>6</th>\n",
       "      <th>7</th>\n",
       "      <th>8</th>\n",
       "      <th>9</th>\n",
       "      <th>...</th>\n",
       "      <th>10294</th>\n",
       "      <th>10295</th>\n",
       "      <th>10296</th>\n",
       "      <th>10297</th>\n",
       "      <th>10298</th>\n",
       "      <th>10299</th>\n",
       "      <th>10300</th>\n",
       "      <th>10301</th>\n",
       "      <th>10302</th>\n",
       "      <th>10303</th>\n",
       "    </tr>\n",
       "  </thead>\n",
       "  <tbody>\n",
       "    <tr>\n",
       "      <td>0</td>\n",
       "      <td>0.164706</td>\n",
       "      <td>0.160784</td>\n",
       "      <td>0.211765</td>\n",
       "      <td>0.188235</td>\n",
       "      <td>0.168627</td>\n",
       "      <td>0.156863</td>\n",
       "      <td>0.180392</td>\n",
       "      <td>0.176471</td>\n",
       "      <td>0.160784</td>\n",
       "      <td>0.160784</td>\n",
       "      <td>...</td>\n",
       "      <td>0.168627</td>\n",
       "      <td>0.156863</td>\n",
       "      <td>0.160784</td>\n",
       "      <td>0.164706</td>\n",
       "      <td>0.180392</td>\n",
       "      <td>0.164706</td>\n",
       "      <td>0.168627</td>\n",
       "      <td>0.156863</td>\n",
       "      <td>0.152941</td>\n",
       "      <td>0.160784</td>\n",
       "    </tr>\n",
       "    <tr>\n",
       "      <td>1</td>\n",
       "      <td>0.133333</td>\n",
       "      <td>0.137255</td>\n",
       "      <td>0.133333</td>\n",
       "      <td>0.133333</td>\n",
       "      <td>0.149020</td>\n",
       "      <td>0.141176</td>\n",
       "      <td>0.117647</td>\n",
       "      <td>0.105882</td>\n",
       "      <td>0.094118</td>\n",
       "      <td>0.105882</td>\n",
       "      <td>...</td>\n",
       "      <td>0.184314</td>\n",
       "      <td>0.172549</td>\n",
       "      <td>0.184314</td>\n",
       "      <td>0.168627</td>\n",
       "      <td>0.164706</td>\n",
       "      <td>0.149020</td>\n",
       "      <td>0.164706</td>\n",
       "      <td>0.160784</td>\n",
       "      <td>0.152941</td>\n",
       "      <td>0.129412</td>\n",
       "    </tr>\n",
       "    <tr>\n",
       "      <td>2</td>\n",
       "      <td>0.168627</td>\n",
       "      <td>0.149020</td>\n",
       "      <td>0.152941</td>\n",
       "      <td>0.145098</td>\n",
       "      <td>0.156863</td>\n",
       "      <td>0.160784</td>\n",
       "      <td>0.164706</td>\n",
       "      <td>0.168627</td>\n",
       "      <td>0.176471</td>\n",
       "      <td>0.152941</td>\n",
       "      <td>...</td>\n",
       "      <td>0.125490</td>\n",
       "      <td>0.125490</td>\n",
       "      <td>0.117647</td>\n",
       "      <td>0.109804</td>\n",
       "      <td>0.105882</td>\n",
       "      <td>0.098039</td>\n",
       "      <td>0.105882</td>\n",
       "      <td>0.109804</td>\n",
       "      <td>0.121569</td>\n",
       "      <td>0.552941</td>\n",
       "    </tr>\n",
       "    <tr>\n",
       "      <td>3</td>\n",
       "      <td>0.145098</td>\n",
       "      <td>0.121569</td>\n",
       "      <td>0.133333</td>\n",
       "      <td>0.149020</td>\n",
       "      <td>0.160784</td>\n",
       "      <td>0.156863</td>\n",
       "      <td>0.149020</td>\n",
       "      <td>0.164706</td>\n",
       "      <td>0.156863</td>\n",
       "      <td>0.152941</td>\n",
       "      <td>...</td>\n",
       "      <td>0.117647</td>\n",
       "      <td>0.121569</td>\n",
       "      <td>0.105882</td>\n",
       "      <td>0.098039</td>\n",
       "      <td>0.101961</td>\n",
       "      <td>0.090196</td>\n",
       "      <td>0.101961</td>\n",
       "      <td>0.105882</td>\n",
       "      <td>0.262745</td>\n",
       "      <td>0.521569</td>\n",
       "    </tr>\n",
       "    <tr>\n",
       "      <td>4</td>\n",
       "      <td>0.407843</td>\n",
       "      <td>0.407843</td>\n",
       "      <td>0.415686</td>\n",
       "      <td>0.419608</td>\n",
       "      <td>0.419608</td>\n",
       "      <td>0.423529</td>\n",
       "      <td>0.396078</td>\n",
       "      <td>0.419608</td>\n",
       "      <td>0.415686</td>\n",
       "      <td>0.407843</td>\n",
       "      <td>...</td>\n",
       "      <td>0.215686</td>\n",
       "      <td>0.227451</td>\n",
       "      <td>0.207843</td>\n",
       "      <td>0.215686</td>\n",
       "      <td>0.239216</td>\n",
       "      <td>0.243137</td>\n",
       "      <td>0.250980</td>\n",
       "      <td>0.247059</td>\n",
       "      <td>0.235294</td>\n",
       "      <td>0.219608</td>\n",
       "    </tr>\n",
       "  </tbody>\n",
       "</table>\n",
       "<p>5 rows × 10304 columns</p>\n",
       "</div>"
      ],
      "text/plain": [
       "      0         1         2         3         4         5         6      \\\n",
       "0  0.164706  0.160784  0.211765  0.188235  0.168627  0.156863  0.180392   \n",
       "1  0.133333  0.137255  0.133333  0.133333  0.149020  0.141176  0.117647   \n",
       "2  0.168627  0.149020  0.152941  0.145098  0.156863  0.160784  0.164706   \n",
       "3  0.145098  0.121569  0.133333  0.149020  0.160784  0.156863  0.149020   \n",
       "4  0.407843  0.407843  0.415686  0.419608  0.419608  0.423529  0.396078   \n",
       "\n",
       "      7         8         9      ...     10294     10295     10296     10297  \\\n",
       "0  0.176471  0.160784  0.160784  ...  0.168627  0.156863  0.160784  0.164706   \n",
       "1  0.105882  0.094118  0.105882  ...  0.184314  0.172549  0.184314  0.168627   \n",
       "2  0.168627  0.176471  0.152941  ...  0.125490  0.125490  0.117647  0.109804   \n",
       "3  0.164706  0.156863  0.152941  ...  0.117647  0.121569  0.105882  0.098039   \n",
       "4  0.419608  0.415686  0.407843  ...  0.215686  0.227451  0.207843  0.215686   \n",
       "\n",
       "      10298     10299     10300     10301     10302     10303  \n",
       "0  0.180392  0.164706  0.168627  0.156863  0.152941  0.160784  \n",
       "1  0.164706  0.149020  0.164706  0.160784  0.152941  0.129412  \n",
       "2  0.105882  0.098039  0.105882  0.109804  0.121569  0.552941  \n",
       "3  0.101961  0.090196  0.101961  0.105882  0.262745  0.521569  \n",
       "4  0.239216  0.243137  0.250980  0.247059  0.235294  0.219608  \n",
       "\n",
       "[5 rows x 10304 columns]"
      ]
     },
     "execution_count": 8,
     "metadata": {},
     "output_type": "execute_result"
    }
   ],
   "source": [
    "test_inputs.head()"
   ]
  },
  {
   "cell_type": "code",
   "execution_count": 9,
   "metadata": {},
   "outputs": [
    {
     "data": {
      "text/plain": [
       "(80, 10304)"
      ]
     },
     "execution_count": 9,
     "metadata": {},
     "output_type": "execute_result"
    }
   ],
   "source": [
    "test_inputs.shape"
   ]
  },
  {
   "cell_type": "code",
   "execution_count": 10,
   "metadata": {},
   "outputs": [
    {
     "data": {
      "text/html": [
       "<div>\n",
       "<style scoped>\n",
       "    .dataframe tbody tr th:only-of-type {\n",
       "        vertical-align: middle;\n",
       "    }\n",
       "\n",
       "    .dataframe tbody tr th {\n",
       "        vertical-align: top;\n",
       "    }\n",
       "\n",
       "    .dataframe thead th {\n",
       "        text-align: right;\n",
       "    }\n",
       "</style>\n",
       "<table border=\"1\" class=\"dataframe\">\n",
       "  <thead>\n",
       "    <tr style=\"text-align: right;\">\n",
       "      <th></th>\n",
       "      <th>1</th>\n",
       "      <th>1.1</th>\n",
       "      <th>2</th>\n",
       "      <th>2.1</th>\n",
       "      <th>3</th>\n",
       "      <th>3.1</th>\n",
       "      <th>4</th>\n",
       "      <th>4.1</th>\n",
       "      <th>5</th>\n",
       "      <th>5.1</th>\n",
       "      <th>...</th>\n",
       "      <th>36</th>\n",
       "      <th>36.1</th>\n",
       "      <th>37</th>\n",
       "      <th>37.1</th>\n",
       "      <th>38</th>\n",
       "      <th>38.1</th>\n",
       "      <th>39</th>\n",
       "      <th>39.1</th>\n",
       "      <th>40</th>\n",
       "      <th>40.1</th>\n",
       "    </tr>\n",
       "  </thead>\n",
       "  <tbody>\n",
       "  </tbody>\n",
       "</table>\n",
       "<p>0 rows × 80 columns</p>\n",
       "</div>"
      ],
      "text/plain": [
       "Empty DataFrame\n",
       "Columns: [1, 1.1, 2, 2.1, 3, 3.1, 4, 4.1, 5, 5.1, 6, 6.1, 7, 7.1, 8, 8.1, 9, 9.1, 10, 10.1, 11, 11.1, 12, 12.1, 13, 13.1, 14, 14.1, 15, 15.1, 16, 16.1, 17, 17.1, 18, 18.1, 19, 19.1, 20, 20.1, 21, 21.1, 22, 22.1, 23, 23.1, 24, 24.1, 25, 25.1, 26, 26.1, 27, 27.1, 28, 28.1, 29, 29.1, 30, 30.1, 31, 31.1, 32, 32.1, 33, 33.1, 34, 34.1, 35, 35.1, 36, 36.1, 37, 37.1, 38, 38.1, 39, 39.1, 40, 40.1]\n",
       "Index: []\n",
       "\n",
       "[0 rows x 80 columns]"
      ]
     },
     "execution_count": 10,
     "metadata": {},
     "output_type": "execute_result"
    }
   ],
   "source": [
    "test_labels.head()"
   ]
  },
  {
   "cell_type": "markdown",
   "metadata": {},
   "source": [
    "### Visage moyen"
   ]
  },
  {
   "cell_type": "markdown",
   "metadata": {},
   "source": [
    "(3)"
   ]
  },
  {
   "cell_type": "code",
   "execution_count": 11,
   "metadata": {},
   "outputs": [
    {
     "data": {
      "text/plain": [
       "(92, 112)"
      ]
     },
     "execution_count": 11,
     "metadata": {},
     "output_type": "execute_result"
    }
   ],
   "source": [
    "mamoy = np.mean(train_inputs, 0)\n",
    "mamoy = mamoy.values.reshape(92, 112)\n",
    "mamoy.shape"
   ]
  },
  {
   "cell_type": "code",
   "execution_count": 12,
   "metadata": {},
   "outputs": [
    {
     "data": {
      "text/plain": [
       "<matplotlib.image.AxesImage at 0x286c1000d48>"
      ]
     },
     "execution_count": 12,
     "metadata": {},
     "output_type": "execute_result"
    },
    {
     "data": {
      "image/png": "[encoded data removed]",
      "text/plain": [
       "<Figure size 216x216 with 1 Axes>"
      ]
     },
     "metadata": {
      "needs_background": "light"
     },
     "output_type": "display_data"
    }
   ],
   "source": [
    "plt.rcParams['figure.figsize'] = (3, 3)\n",
    "plt.imshow(mamoy) "
   ]
  },
  {
   "cell_type": "code",
   "execution_count": 13,
   "metadata": {},
   "outputs": [
    {
     "data": {
      "text/plain": [
       "<matplotlib.image.AxesImage at 0x286c0fafe88>"
      ]
     },
     "execution_count": 13,
     "metadata": {},
     "output_type": "execute_result"
    },
    {
     "data": {
      "image/png": "[encoded data removed]",
      "text/plain": [
       "<Figure size 216x216 with 1 Axes>"
      ]
     },
     "metadata": {
      "needs_background": "light"
     },
     "output_type": "display_data"
    }
   ],
   "source": [
    "plt.imshow(mamoy.T) # on transpose notre vecteur qui contient la moyenne de chaque observation"
   ]
  },
  {
   "cell_type": "markdown",
   "metadata": {},
   "source": [
    "### ACP"
   ]
  },
  {
   "cell_type": "markdown",
   "metadata": {},
   "source": [
    "(4)"
   ]
  },
  {
   "cell_type": "code",
   "execution_count": 14,
   "metadata": {},
   "outputs": [
    {
     "data": {
      "text/plain": [
       "PCA(copy=True, iterated_power='auto', n_components=None, random_state=None,\n",
       "    svd_solver='auto', tol=0.0, whiten=False)"
      ]
     },
     "execution_count": 14,
     "metadata": {},
     "output_type": "execute_result"
    }
   ],
   "source": [
    "pca = PCA()\n",
    "pca.fit(train_inputs)"
   ]
  },
  {
   "cell_type": "code",
   "execution_count": 15,
   "metadata": {},
   "outputs": [
    {
     "data": {
      "text/html": [
       "<div>\n",
       "<style scoped>\n",
       "    .dataframe tbody tr th:only-of-type {\n",
       "        vertical-align: middle;\n",
       "    }\n",
       "\n",
       "    .dataframe tbody tr th {\n",
       "        vertical-align: top;\n",
       "    }\n",
       "\n",
       "    .dataframe thead th {\n",
       "        text-align: right;\n",
       "    }\n",
       "</style>\n",
       "<table border=\"1\" class=\"dataframe\">\n",
       "  <thead>\n",
       "    <tr style=\"text-align: right;\">\n",
       "      <th></th>\n",
       "      <th>Dimension</th>\n",
       "      <th>Valeur propre</th>\n",
       "      <th>% variance expliquée</th>\n",
       "      <th>% cum. var. expliquée</th>\n",
       "    </tr>\n",
       "  </thead>\n",
       "  <tbody>\n",
       "    <tr>\n",
       "      <td>0</td>\n",
       "      <td>Dim1</td>\n",
       "      <td>4.486233e+01</td>\n",
       "      <td>18.0</td>\n",
       "      <td>18.0</td>\n",
       "    </tr>\n",
       "    <tr>\n",
       "      <td>1</td>\n",
       "      <td>Dim2</td>\n",
       "      <td>3.145702e+01</td>\n",
       "      <td>13.0</td>\n",
       "      <td>31.0</td>\n",
       "    </tr>\n",
       "    <tr>\n",
       "      <td>2</td>\n",
       "      <td>Dim3</td>\n",
       "      <td>1.713816e+01</td>\n",
       "      <td>7.0</td>\n",
       "      <td>38.0</td>\n",
       "    </tr>\n",
       "    <tr>\n",
       "      <td>3</td>\n",
       "      <td>Dim4</td>\n",
       "      <td>1.350549e+01</td>\n",
       "      <td>5.0</td>\n",
       "      <td>43.0</td>\n",
       "    </tr>\n",
       "    <tr>\n",
       "      <td>4</td>\n",
       "      <td>Dim5</td>\n",
       "      <td>1.233703e+01</td>\n",
       "      <td>5.0</td>\n",
       "      <td>48.0</td>\n",
       "    </tr>\n",
       "    <tr>\n",
       "      <td>...</td>\n",
       "      <td>...</td>\n",
       "      <td>...</td>\n",
       "      <td>...</td>\n",
       "      <td>...</td>\n",
       "    </tr>\n",
       "    <tr>\n",
       "      <td>315</td>\n",
       "      <td>Dim316</td>\n",
       "      <td>2.734853e-02</td>\n",
       "      <td>0.0</td>\n",
       "      <td>100.0</td>\n",
       "    </tr>\n",
       "    <tr>\n",
       "      <td>316</td>\n",
       "      <td>Dim317</td>\n",
       "      <td>2.523313e-02</td>\n",
       "      <td>0.0</td>\n",
       "      <td>100.0</td>\n",
       "    </tr>\n",
       "    <tr>\n",
       "      <td>317</td>\n",
       "      <td>Dim318</td>\n",
       "      <td>2.351231e-02</td>\n",
       "      <td>0.0</td>\n",
       "      <td>100.0</td>\n",
       "    </tr>\n",
       "    <tr>\n",
       "      <td>318</td>\n",
       "      <td>Dim319</td>\n",
       "      <td>2.236519e-02</td>\n",
       "      <td>0.0</td>\n",
       "      <td>100.0</td>\n",
       "    </tr>\n",
       "    <tr>\n",
       "      <td>319</td>\n",
       "      <td>Dim320</td>\n",
       "      <td>1.766804e-29</td>\n",
       "      <td>0.0</td>\n",
       "      <td>100.0</td>\n",
       "    </tr>\n",
       "  </tbody>\n",
       "</table>\n",
       "<p>320 rows × 4 columns</p>\n",
       "</div>"
      ],
      "text/plain": [
       "    Dimension  Valeur propre  % variance expliquée  % cum. var. expliquée\n",
       "0        Dim1   4.486233e+01                  18.0                   18.0\n",
       "1        Dim2   3.145702e+01                  13.0                   31.0\n",
       "2        Dim3   1.713816e+01                   7.0                   38.0\n",
       "3        Dim4   1.350549e+01                   5.0                   43.0\n",
       "4        Dim5   1.233703e+01                   5.0                   48.0\n",
       "..        ...            ...                   ...                    ...\n",
       "315    Dim316   2.734853e-02                   0.0                  100.0\n",
       "316    Dim317   2.523313e-02                   0.0                  100.0\n",
       "317    Dim318   2.351231e-02                   0.0                  100.0\n",
       "318    Dim319   2.236519e-02                   0.0                  100.0\n",
       "319    Dim320   1.766804e-29                   0.0                  100.0\n",
       "\n",
       "[320 rows x 4 columns]"
      ]
     },
     "execution_count": 15,
     "metadata": {},
     "output_type": "execute_result"
    }
   ],
   "source": [
    "eig = pd.DataFrame(\n",
    "    {\n",
    "        \"Dimension\" : [\"Dim\" + str(x + 1) for x in range(320)], \n",
    "        \"Valeur propre\" : pca.explained_variance_,\n",
    "        \"% variance expliquée\" : np.round(pca.explained_variance_ratio_ * 100),\n",
    "        \"% cum. var. expliquée\" : np.round(np.cumsum(pca.explained_variance_ratio_) * 100)\n",
    "    },\n",
    "    columns = [\"Dimension\", \"Valeur propre\", \"% variance expliquée\", \"% cum. var. expliquée\"]\n",
    ")\n",
    "eig"
   ]
  },
  {
   "cell_type": "code",
   "execution_count": 16,
   "metadata": {},
   "outputs": [
    {
     "data": {
      "text/html": [
       "<div>\n",
       "<style scoped>\n",
       "    .dataframe tbody tr th:only-of-type {\n",
       "        vertical-align: middle;\n",
       "    }\n",
       "\n",
       "    .dataframe tbody tr th {\n",
       "        vertical-align: top;\n",
       "    }\n",
       "\n",
       "    .dataframe thead th {\n",
       "        text-align: right;\n",
       "    }\n",
       "</style>\n",
       "<table border=\"1\" class=\"dataframe\">\n",
       "  <thead>\n",
       "    <tr style=\"text-align: right;\">\n",
       "      <th></th>\n",
       "      <th>Dimension</th>\n",
       "      <th>Valeur propre</th>\n",
       "      <th>% variance expliquée</th>\n",
       "      <th>% cum. var. expliquée</th>\n",
       "    </tr>\n",
       "  </thead>\n",
       "  <tbody>\n",
       "    <tr>\n",
       "      <td>0</td>\n",
       "      <td>Dim1</td>\n",
       "      <td>44.862325</td>\n",
       "      <td>18.0</td>\n",
       "      <td>18.0</td>\n",
       "    </tr>\n",
       "    <tr>\n",
       "      <td>1</td>\n",
       "      <td>Dim2</td>\n",
       "      <td>31.457020</td>\n",
       "      <td>13.0</td>\n",
       "      <td>31.0</td>\n",
       "    </tr>\n",
       "    <tr>\n",
       "      <td>2</td>\n",
       "      <td>Dim3</td>\n",
       "      <td>17.138156</td>\n",
       "      <td>7.0</td>\n",
       "      <td>38.0</td>\n",
       "    </tr>\n",
       "    <tr>\n",
       "      <td>3</td>\n",
       "      <td>Dim4</td>\n",
       "      <td>13.505486</td>\n",
       "      <td>5.0</td>\n",
       "      <td>43.0</td>\n",
       "    </tr>\n",
       "    <tr>\n",
       "      <td>4</td>\n",
       "      <td>Dim5</td>\n",
       "      <td>12.337035</td>\n",
       "      <td>5.0</td>\n",
       "      <td>48.0</td>\n",
       "    </tr>\n",
       "  </tbody>\n",
       "</table>\n",
       "</div>"
      ],
      "text/plain": [
       "  Dimension  Valeur propre  % variance expliquée  % cum. var. expliquée\n",
       "0      Dim1      44.862325                  18.0                   18.0\n",
       "1      Dim2      31.457020                  13.0                   31.0\n",
       "2      Dim3      17.138156                   7.0                   38.0\n",
       "3      Dim4      13.505486                   5.0                   43.0\n",
       "4      Dim5      12.337035                   5.0                   48.0"
      ]
     },
     "execution_count": 16,
     "metadata": {},
     "output_type": "execute_result"
    }
   ],
   "source": [
    "# Dimension : k = 5\n",
    "eig.iloc[0:5,:]"
   ]
  },
  {
   "cell_type": "code",
   "execution_count": 17,
   "metadata": {},
   "outputs": [
    {
     "data": {
      "text/html": [
       "<div>\n",
       "<style scoped>\n",
       "    .dataframe tbody tr th:only-of-type {\n",
       "        vertical-align: middle;\n",
       "    }\n",
       "\n",
       "    .dataframe tbody tr th {\n",
       "        vertical-align: top;\n",
       "    }\n",
       "\n",
       "    .dataframe thead th {\n",
       "        text-align: right;\n",
       "    }\n",
       "</style>\n",
       "<table border=\"1\" class=\"dataframe\">\n",
       "  <thead>\n",
       "    <tr style=\"text-align: right;\">\n",
       "      <th></th>\n",
       "      <th>Dimension</th>\n",
       "      <th>Valeur propre</th>\n",
       "      <th>% variance expliquée</th>\n",
       "      <th>% cum. var. expliquée</th>\n",
       "    </tr>\n",
       "  </thead>\n",
       "  <tbody>\n",
       "    <tr>\n",
       "      <td>0</td>\n",
       "      <td>Dim1</td>\n",
       "      <td>44.862325</td>\n",
       "      <td>18.0</td>\n",
       "      <td>18.0</td>\n",
       "    </tr>\n",
       "    <tr>\n",
       "      <td>1</td>\n",
       "      <td>Dim2</td>\n",
       "      <td>31.457020</td>\n",
       "      <td>13.0</td>\n",
       "      <td>31.0</td>\n",
       "    </tr>\n",
       "    <tr>\n",
       "      <td>2</td>\n",
       "      <td>Dim3</td>\n",
       "      <td>17.138156</td>\n",
       "      <td>7.0</td>\n",
       "      <td>38.0</td>\n",
       "    </tr>\n",
       "    <tr>\n",
       "      <td>3</td>\n",
       "      <td>Dim4</td>\n",
       "      <td>13.505486</td>\n",
       "      <td>5.0</td>\n",
       "      <td>43.0</td>\n",
       "    </tr>\n",
       "    <tr>\n",
       "      <td>4</td>\n",
       "      <td>Dim5</td>\n",
       "      <td>12.337035</td>\n",
       "      <td>5.0</td>\n",
       "      <td>48.0</td>\n",
       "    </tr>\n",
       "    <tr>\n",
       "      <td>5</td>\n",
       "      <td>Dim6</td>\n",
       "      <td>8.360183</td>\n",
       "      <td>3.0</td>\n",
       "      <td>52.0</td>\n",
       "    </tr>\n",
       "    <tr>\n",
       "      <td>6</td>\n",
       "      <td>Dim7</td>\n",
       "      <td>6.119220</td>\n",
       "      <td>2.0</td>\n",
       "      <td>54.0</td>\n",
       "    </tr>\n",
       "    <tr>\n",
       "      <td>7</td>\n",
       "      <td>Dim8</td>\n",
       "      <td>5.991577</td>\n",
       "      <td>2.0</td>\n",
       "      <td>57.0</td>\n",
       "    </tr>\n",
       "    <tr>\n",
       "      <td>8</td>\n",
       "      <td>Dim9</td>\n",
       "      <td>4.874963</td>\n",
       "      <td>2.0</td>\n",
       "      <td>58.0</td>\n",
       "    </tr>\n",
       "    <tr>\n",
       "      <td>9</td>\n",
       "      <td>Dim10</td>\n",
       "      <td>4.630409</td>\n",
       "      <td>2.0</td>\n",
       "      <td>60.0</td>\n",
       "    </tr>\n",
       "  </tbody>\n",
       "</table>\n",
       "</div>"
      ],
      "text/plain": [
       "  Dimension  Valeur propre  % variance expliquée  % cum. var. expliquée\n",
       "0      Dim1      44.862325                  18.0                   18.0\n",
       "1      Dim2      31.457020                  13.0                   31.0\n",
       "2      Dim3      17.138156                   7.0                   38.0\n",
       "3      Dim4      13.505486                   5.0                   43.0\n",
       "4      Dim5      12.337035                   5.0                   48.0\n",
       "5      Dim6       8.360183                   3.0                   52.0\n",
       "6      Dim7       6.119220                   2.0                   54.0\n",
       "7      Dim8       5.991577                   2.0                   57.0\n",
       "8      Dim9       4.874963                   2.0                   58.0\n",
       "9     Dim10       4.630409                   2.0                   60.0"
      ]
     },
     "execution_count": 17,
     "metadata": {},
     "output_type": "execute_result"
    }
   ],
   "source": [
    "# Dimension : k = 10\n",
    "eig.iloc[0:10,:]"
   ]
  },
  {
   "cell_type": "code",
   "execution_count": 18,
   "metadata": {},
   "outputs": [
    {
     "data": {
      "text/html": [
       "<div>\n",
       "<style scoped>\n",
       "    .dataframe tbody tr th:only-of-type {\n",
       "        vertical-align: middle;\n",
       "    }\n",
       "\n",
       "    .dataframe tbody tr th {\n",
       "        vertical-align: top;\n",
       "    }\n",
       "\n",
       "    .dataframe thead th {\n",
       "        text-align: right;\n",
       "    }\n",
       "</style>\n",
       "<table border=\"1\" class=\"dataframe\">\n",
       "  <thead>\n",
       "    <tr style=\"text-align: right;\">\n",
       "      <th></th>\n",
       "      <th>Dimension</th>\n",
       "      <th>Valeur propre</th>\n",
       "      <th>% variance expliquée</th>\n",
       "      <th>% cum. var. expliquée</th>\n",
       "    </tr>\n",
       "  </thead>\n",
       "  <tbody>\n",
       "    <tr>\n",
       "      <td>0</td>\n",
       "      <td>Dim1</td>\n",
       "      <td>44.862325</td>\n",
       "      <td>18.0</td>\n",
       "      <td>18.0</td>\n",
       "    </tr>\n",
       "    <tr>\n",
       "      <td>1</td>\n",
       "      <td>Dim2</td>\n",
       "      <td>31.457020</td>\n",
       "      <td>13.0</td>\n",
       "      <td>31.0</td>\n",
       "    </tr>\n",
       "    <tr>\n",
       "      <td>2</td>\n",
       "      <td>Dim3</td>\n",
       "      <td>17.138156</td>\n",
       "      <td>7.0</td>\n",
       "      <td>38.0</td>\n",
       "    </tr>\n",
       "    <tr>\n",
       "      <td>3</td>\n",
       "      <td>Dim4</td>\n",
       "      <td>13.505486</td>\n",
       "      <td>5.0</td>\n",
       "      <td>43.0</td>\n",
       "    </tr>\n",
       "    <tr>\n",
       "      <td>4</td>\n",
       "      <td>Dim5</td>\n",
       "      <td>12.337035</td>\n",
       "      <td>5.0</td>\n",
       "      <td>48.0</td>\n",
       "    </tr>\n",
       "    <tr>\n",
       "      <td>5</td>\n",
       "      <td>Dim6</td>\n",
       "      <td>8.360183</td>\n",
       "      <td>3.0</td>\n",
       "      <td>52.0</td>\n",
       "    </tr>\n",
       "    <tr>\n",
       "      <td>6</td>\n",
       "      <td>Dim7</td>\n",
       "      <td>6.119220</td>\n",
       "      <td>2.0</td>\n",
       "      <td>54.0</td>\n",
       "    </tr>\n",
       "    <tr>\n",
       "      <td>7</td>\n",
       "      <td>Dim8</td>\n",
       "      <td>5.991577</td>\n",
       "      <td>2.0</td>\n",
       "      <td>57.0</td>\n",
       "    </tr>\n",
       "    <tr>\n",
       "      <td>8</td>\n",
       "      <td>Dim9</td>\n",
       "      <td>4.874963</td>\n",
       "      <td>2.0</td>\n",
       "      <td>58.0</td>\n",
       "    </tr>\n",
       "    <tr>\n",
       "      <td>9</td>\n",
       "      <td>Dim10</td>\n",
       "      <td>4.630409</td>\n",
       "      <td>2.0</td>\n",
       "      <td>60.0</td>\n",
       "    </tr>\n",
       "    <tr>\n",
       "      <td>10</td>\n",
       "      <td>Dim11</td>\n",
       "      <td>3.795421</td>\n",
       "      <td>2.0</td>\n",
       "      <td>62.0</td>\n",
       "    </tr>\n",
       "    <tr>\n",
       "      <td>11</td>\n",
       "      <td>Dim12</td>\n",
       "      <td>3.378415</td>\n",
       "      <td>1.0</td>\n",
       "      <td>63.0</td>\n",
       "    </tr>\n",
       "    <tr>\n",
       "      <td>12</td>\n",
       "      <td>Dim13</td>\n",
       "      <td>2.792084</td>\n",
       "      <td>1.0</td>\n",
       "      <td>64.0</td>\n",
       "    </tr>\n",
       "    <tr>\n",
       "      <td>13</td>\n",
       "      <td>Dim14</td>\n",
       "      <td>2.705141</td>\n",
       "      <td>1.0</td>\n",
       "      <td>65.0</td>\n",
       "    </tr>\n",
       "    <tr>\n",
       "      <td>14</td>\n",
       "      <td>Dim15</td>\n",
       "      <td>2.444200</td>\n",
       "      <td>1.0</td>\n",
       "      <td>66.0</td>\n",
       "    </tr>\n",
       "    <tr>\n",
       "      <td>15</td>\n",
       "      <td>Dim16</td>\n",
       "      <td>2.235961</td>\n",
       "      <td>1.0</td>\n",
       "      <td>67.0</td>\n",
       "    </tr>\n",
       "    <tr>\n",
       "      <td>16</td>\n",
       "      <td>Dim17</td>\n",
       "      <td>2.214481</td>\n",
       "      <td>1.0</td>\n",
       "      <td>68.0</td>\n",
       "    </tr>\n",
       "    <tr>\n",
       "      <td>17</td>\n",
       "      <td>Dim18</td>\n",
       "      <td>2.138616</td>\n",
       "      <td>1.0</td>\n",
       "      <td>69.0</td>\n",
       "    </tr>\n",
       "    <tr>\n",
       "      <td>18</td>\n",
       "      <td>Dim19</td>\n",
       "      <td>1.914121</td>\n",
       "      <td>1.0</td>\n",
       "      <td>70.0</td>\n",
       "    </tr>\n",
       "    <tr>\n",
       "      <td>19</td>\n",
       "      <td>Dim20</td>\n",
       "      <td>1.810517</td>\n",
       "      <td>1.0</td>\n",
       "      <td>71.0</td>\n",
       "    </tr>\n",
       "    <tr>\n",
       "      <td>20</td>\n",
       "      <td>Dim21</td>\n",
       "      <td>1.694886</td>\n",
       "      <td>1.0</td>\n",
       "      <td>71.0</td>\n",
       "    </tr>\n",
       "    <tr>\n",
       "      <td>21</td>\n",
       "      <td>Dim22</td>\n",
       "      <td>1.611883</td>\n",
       "      <td>1.0</td>\n",
       "      <td>72.0</td>\n",
       "    </tr>\n",
       "    <tr>\n",
       "      <td>22</td>\n",
       "      <td>Dim23</td>\n",
       "      <td>1.520451</td>\n",
       "      <td>1.0</td>\n",
       "      <td>73.0</td>\n",
       "    </tr>\n",
       "    <tr>\n",
       "      <td>23</td>\n",
       "      <td>Dim24</td>\n",
       "      <td>1.382918</td>\n",
       "      <td>1.0</td>\n",
       "      <td>73.0</td>\n",
       "    </tr>\n",
       "    <tr>\n",
       "      <td>24</td>\n",
       "      <td>Dim25</td>\n",
       "      <td>1.343639</td>\n",
       "      <td>1.0</td>\n",
       "      <td>74.0</td>\n",
       "    </tr>\n",
       "    <tr>\n",
       "      <td>25</td>\n",
       "      <td>Dim26</td>\n",
       "      <td>1.289639</td>\n",
       "      <td>1.0</td>\n",
       "      <td>74.0</td>\n",
       "    </tr>\n",
       "    <tr>\n",
       "      <td>26</td>\n",
       "      <td>Dim27</td>\n",
       "      <td>1.243413</td>\n",
       "      <td>1.0</td>\n",
       "      <td>75.0</td>\n",
       "    </tr>\n",
       "    <tr>\n",
       "      <td>27</td>\n",
       "      <td>Dim28</td>\n",
       "      <td>1.215426</td>\n",
       "      <td>0.0</td>\n",
       "      <td>75.0</td>\n",
       "    </tr>\n",
       "    <tr>\n",
       "      <td>28</td>\n",
       "      <td>Dim29</td>\n",
       "      <td>1.170041</td>\n",
       "      <td>0.0</td>\n",
       "      <td>76.0</td>\n",
       "    </tr>\n",
       "    <tr>\n",
       "      <td>29</td>\n",
       "      <td>Dim30</td>\n",
       "      <td>1.147690</td>\n",
       "      <td>0.0</td>\n",
       "      <td>76.0</td>\n",
       "    </tr>\n",
       "    <tr>\n",
       "      <td>30</td>\n",
       "      <td>Dim31</td>\n",
       "      <td>1.096784</td>\n",
       "      <td>0.0</td>\n",
       "      <td>77.0</td>\n",
       "    </tr>\n",
       "    <tr>\n",
       "      <td>31</td>\n",
       "      <td>Dim32</td>\n",
       "      <td>1.058973</td>\n",
       "      <td>0.0</td>\n",
       "      <td>77.0</td>\n",
       "    </tr>\n",
       "    <tr>\n",
       "      <td>32</td>\n",
       "      <td>Dim33</td>\n",
       "      <td>1.017527</td>\n",
       "      <td>0.0</td>\n",
       "      <td>77.0</td>\n",
       "    </tr>\n",
       "    <tr>\n",
       "      <td>33</td>\n",
       "      <td>Dim34</td>\n",
       "      <td>0.981914</td>\n",
       "      <td>0.0</td>\n",
       "      <td>78.0</td>\n",
       "    </tr>\n",
       "    <tr>\n",
       "      <td>34</td>\n",
       "      <td>Dim35</td>\n",
       "      <td>0.955981</td>\n",
       "      <td>0.0</td>\n",
       "      <td>78.0</td>\n",
       "    </tr>\n",
       "    <tr>\n",
       "      <td>35</td>\n",
       "      <td>Dim36</td>\n",
       "      <td>0.917428</td>\n",
       "      <td>0.0</td>\n",
       "      <td>79.0</td>\n",
       "    </tr>\n",
       "    <tr>\n",
       "      <td>36</td>\n",
       "      <td>Dim37</td>\n",
       "      <td>0.891494</td>\n",
       "      <td>0.0</td>\n",
       "      <td>79.0</td>\n",
       "    </tr>\n",
       "    <tr>\n",
       "      <td>37</td>\n",
       "      <td>Dim38</td>\n",
       "      <td>0.841754</td>\n",
       "      <td>0.0</td>\n",
       "      <td>79.0</td>\n",
       "    </tr>\n",
       "    <tr>\n",
       "      <td>38</td>\n",
       "      <td>Dim39</td>\n",
       "      <td>0.819744</td>\n",
       "      <td>0.0</td>\n",
       "      <td>80.0</td>\n",
       "    </tr>\n",
       "    <tr>\n",
       "      <td>39</td>\n",
       "      <td>Dim40</td>\n",
       "      <td>0.784938</td>\n",
       "      <td>0.0</td>\n",
       "      <td>80.0</td>\n",
       "    </tr>\n",
       "    <tr>\n",
       "      <td>40</td>\n",
       "      <td>Dim41</td>\n",
       "      <td>0.765373</td>\n",
       "      <td>0.0</td>\n",
       "      <td>80.0</td>\n",
       "    </tr>\n",
       "    <tr>\n",
       "      <td>41</td>\n",
       "      <td>Dim42</td>\n",
       "      <td>0.753420</td>\n",
       "      <td>0.0</td>\n",
       "      <td>81.0</td>\n",
       "    </tr>\n",
       "    <tr>\n",
       "      <td>42</td>\n",
       "      <td>Dim43</td>\n",
       "      <td>0.732423</td>\n",
       "      <td>0.0</td>\n",
       "      <td>81.0</td>\n",
       "    </tr>\n",
       "    <tr>\n",
       "      <td>43</td>\n",
       "      <td>Dim44</td>\n",
       "      <td>0.713892</td>\n",
       "      <td>0.0</td>\n",
       "      <td>81.0</td>\n",
       "    </tr>\n",
       "    <tr>\n",
       "      <td>44</td>\n",
       "      <td>Dim45</td>\n",
       "      <td>0.678037</td>\n",
       "      <td>0.0</td>\n",
       "      <td>81.0</td>\n",
       "    </tr>\n",
       "    <tr>\n",
       "      <td>45</td>\n",
       "      <td>Dim46</td>\n",
       "      <td>0.673152</td>\n",
       "      <td>0.0</td>\n",
       "      <td>82.0</td>\n",
       "    </tr>\n",
       "    <tr>\n",
       "      <td>46</td>\n",
       "      <td>Dim47</td>\n",
       "      <td>0.661642</td>\n",
       "      <td>0.0</td>\n",
       "      <td>82.0</td>\n",
       "    </tr>\n",
       "    <tr>\n",
       "      <td>47</td>\n",
       "      <td>Dim48</td>\n",
       "      <td>0.643596</td>\n",
       "      <td>0.0</td>\n",
       "      <td>82.0</td>\n",
       "    </tr>\n",
       "    <tr>\n",
       "      <td>48</td>\n",
       "      <td>Dim49</td>\n",
       "      <td>0.616819</td>\n",
       "      <td>0.0</td>\n",
       "      <td>82.0</td>\n",
       "    </tr>\n",
       "    <tr>\n",
       "      <td>49</td>\n",
       "      <td>Dim50</td>\n",
       "      <td>0.610895</td>\n",
       "      <td>0.0</td>\n",
       "      <td>83.0</td>\n",
       "    </tr>\n",
       "  </tbody>\n",
       "</table>\n",
       "</div>"
      ],
      "text/plain": [
       "   Dimension  Valeur propre  % variance expliquée  % cum. var. expliquée\n",
       "0       Dim1      44.862325                  18.0                   18.0\n",
       "1       Dim2      31.457020                  13.0                   31.0\n",
       "2       Dim3      17.138156                   7.0                   38.0\n",
       "3       Dim4      13.505486                   5.0                   43.0\n",
       "4       Dim5      12.337035                   5.0                   48.0\n",
       "5       Dim6       8.360183                   3.0                   52.0\n",
       "6       Dim7       6.119220                   2.0                   54.0\n",
       "7       Dim8       5.991577                   2.0                   57.0\n",
       "8       Dim9       4.874963                   2.0                   58.0\n",
       "9      Dim10       4.630409                   2.0                   60.0\n",
       "10     Dim11       3.795421                   2.0                   62.0\n",
       "11     Dim12       3.378415                   1.0                   63.0\n",
       "12     Dim13       2.792084                   1.0                   64.0\n",
       "13     Dim14       2.705141                   1.0                   65.0\n",
       "14     Dim15       2.444200                   1.0                   66.0\n",
       "15     Dim16       2.235961                   1.0                   67.0\n",
       "16     Dim17       2.214481                   1.0                   68.0\n",
       "17     Dim18       2.138616                   1.0                   69.0\n",
       "18     Dim19       1.914121                   1.0                   70.0\n",
       "19     Dim20       1.810517                   1.0                   71.0\n",
       "20     Dim21       1.694886                   1.0                   71.0\n",
       "21     Dim22       1.611883                   1.0                   72.0\n",
       "22     Dim23       1.520451                   1.0                   73.0\n",
       "23     Dim24       1.382918                   1.0                   73.0\n",
       "24     Dim25       1.343639                   1.0                   74.0\n",
       "25     Dim26       1.289639                   1.0                   74.0\n",
       "26     Dim27       1.243413                   1.0                   75.0\n",
       "27     Dim28       1.215426                   0.0                   75.0\n",
       "28     Dim29       1.170041                   0.0                   76.0\n",
       "29     Dim30       1.147690                   0.0                   76.0\n",
       "30     Dim31       1.096784                   0.0                   77.0\n",
       "31     Dim32       1.058973                   0.0                   77.0\n",
       "32     Dim33       1.017527                   0.0                   77.0\n",
       "33     Dim34       0.981914                   0.0                   78.0\n",
       "34     Dim35       0.955981                   0.0                   78.0\n",
       "35     Dim36       0.917428                   0.0                   79.0\n",
       "36     Dim37       0.891494                   0.0                   79.0\n",
       "37     Dim38       0.841754                   0.0                   79.0\n",
       "38     Dim39       0.819744                   0.0                   80.0\n",
       "39     Dim40       0.784938                   0.0                   80.0\n",
       "40     Dim41       0.765373                   0.0                   80.0\n",
       "41     Dim42       0.753420                   0.0                   81.0\n",
       "42     Dim43       0.732423                   0.0                   81.0\n",
       "43     Dim44       0.713892                   0.0                   81.0\n",
       "44     Dim45       0.678037                   0.0                   81.0\n",
       "45     Dim46       0.673152                   0.0                   82.0\n",
       "46     Dim47       0.661642                   0.0                   82.0\n",
       "47     Dim48       0.643596                   0.0                   82.0\n",
       "48     Dim49       0.616819                   0.0                   82.0\n",
       "49     Dim50       0.610895                   0.0                   83.0"
      ]
     },
     "execution_count": 18,
     "metadata": {},
     "output_type": "execute_result"
    }
   ],
   "source": [
    "# Dimension : k = 50\n",
    "eig.iloc[0:50,:]"
   ]
  },
  {
   "cell_type": "markdown",
   "metadata": {},
   "source": [
    "### Visage après ACP"
   ]
  },
  {
   "cell_type": "markdown",
   "metadata": {},
   "source": [
    "(5)"
   ]
  },
  {
   "cell_type": "code",
   "execution_count": 25,
   "metadata": {},
   "outputs": [
    {
     "data": {
      "text/plain": [
       "<matplotlib.image.AxesImage at 0x286c0c54288>"
      ]
     },
     "execution_count": 25,
     "metadata": {},
     "output_type": "execute_result"
    },
    {
     "data": {
      "image/png": "[encoded data removed]",
      "text/plain": [
       "<Figure size 216x216 with 1 Axes>"
      ]
     },
     "metadata": {
      "needs_background": "light"
     },
     "output_type": "display_data"
    }
   ],
   "source": [
    "pca1 = PCA(n_components=5).fit(train_inputs)\n",
    "new_df1 = pca1.transform(train_inputs)\n",
    "pca2 = PCA(n_components=10).fit(train_inputs)\n",
    "new_df2 = pca2.transform(train_inputs)\n",
    "pca3 = PCA(n_components=50).fit(train_inputs)\n",
    "new_df3 = pca3.transform(train_inputs)\n",
    "\n",
    "plt.rcParams['figure.figsize'] = (3, 3)\n",
    "plt.imshow(pca.components_[3].reshape(92, 112).T)"
   ]
  },
  {
   "cell_type": "code",
   "execution_count": 26,
   "metadata": {},
   "outputs": [
    {
     "data": {
      "text/plain": [
       "<matplotlib.image.AxesImage at 0x286c0df6f08>"
      ]
     },
     "execution_count": 26,
     "metadata": {},
     "output_type": "execute_result"
    },
    {
     "data": {
      "image/png": "[encoded data removed]",
      "text/plain": [
       "<Figure size 216x216 with 1 Axes>"
      ]
     },
     "metadata": {
      "needs_background": "light"
     },
     "output_type": "display_data"
    }
   ],
   "source": [
    "plt.imshow(pca.components_[7].reshape(92, 112).T)"
   ]
  },
  {
   "cell_type": "code",
   "execution_count": 27,
   "metadata": {},
   "outputs": [
    {
     "data": {
      "text/plain": [
       "<matplotlib.image.AxesImage at 0x286c0ab1648>"
      ]
     },
     "execution_count": 27,
     "metadata": {},
     "output_type": "execute_result"
    },
    {
     "data": {
      "image/png": "[encoded data removed]",
      "text/plain": [
       "<Figure size 216x216 with 1 Axes>"
      ]
     },
     "metadata": {
      "needs_background": "light"
     },
     "output_type": "display_data"
    }
   ],
   "source": [
    "plt.imshow(pca.components_[47].reshape(92, 112).T)"
   ]
  },
  {
   "cell_type": "markdown",
   "metadata": {},
   "source": [
    "### Kmeans"
   ]
  },
  {
   "cell_type": "markdown",
   "metadata": {},
   "source": [
    "(6)"
   ]
  },
  {
   "cell_type": "code",
   "execution_count": 28,
   "metadata": {},
   "outputs": [],
   "source": [
    "def dist_euclid(X, y):\n",
    "    return np.sum(np.abs(X - y), axis = 1)"
   ]
  },
  {
   "cell_type": "code",
   "execution_count": 29,
   "metadata": {},
   "outputs": [],
   "source": [
    "def dist_euclidnorm(X, y): \n",
    "    return np.sqrt(np.sum(np.square(X - y),axis = 1))"
   ]
  },
  {
   "cell_type": "markdown",
   "metadata": {},
   "source": [
    "(7)"
   ]
  },
  {
   "cell_type": "code",
   "execution_count": 30,
   "metadata": {},
   "outputs": [],
   "source": [
    "def init(X, K = 4 , seed = 26): \n",
    "    centes_initiaux = np.zeros((K, X.shape[1]))\n",
    "    np.random.seed(seed)\n",
    "    for k in range(K):\n",
    "        a = np.random.randint(0, X.shape[0])\n",
    "        centes_initiaux[k] = X.iloc[a, :]\n",
    "        return centes_initiaux"
   ]
  },
  {
   "cell_type": "markdown",
   "metadata": {},
   "source": [
    "(8)"
   ]
  },
  {
   "cell_type": "code",
   "execution_count": 31,
   "metadata": {},
   "outputs": [],
   "source": [
    "def cluster(X, centres, dist = \"eucl\"): \n",
    "    mesdist = np.zeros(shape = (X.shape[0], centres.shape[0]))\n",
    "    classes = np.zeros(shape = (X.shape[0], 1))\n",
    "    for k in range(centres.shape[0]):\n",
    "        if dist == \"eucl\":\n",
    "            mesdist[:, k] = dist_euclid(X, centres[k])\n",
    "            if dist == \"euclnorm\":\n",
    "                mesdist[:, k] = dist_euclidnorm(X, centres[k])\n",
    "                classes = pd.DataFrame(mesdist).apply(lambda x : pd.Series.idxmin(x), axis = 1)\n",
    "                d = 0\n",
    "                for i in range(mesdist.shape[0]):\n",
    "                    d += np.square(mesdist[i, classes[i]]) # distance aux carres avec mes centres\n",
    "                    return classes, d"
   ]
  },
  {
   "cell_type": "markdown",
   "metadata": {},
   "source": [
    "(9)"
   ]
  },
  {
   "cell_type": "code",
   "execution_count": 32,
   "metadata": {},
   "outputs": [],
   "source": [
    "def centres_finaux(X, mesclasses,K):\n",
    "    centresf = np.zeros((K, X.shape[1]))\n",
    "    for k in range(K):\n",
    "        if np.sum(mesclasses == k) > 0:\n",
    "            centresf[k] = np.sum(X[mesclasses == k]) / np.sum(mesclasses == k)\n",
    "            if np.sum(mesclasses == k) == 0:\n",
    "                centresf[k] = np.array([0, 0])\n",
    "                return centresf"
   ]
  },
  {
   "cell_type": "markdown",
   "metadata": {},
   "source": [
    "(10)"
   ]
  },
  {
   "cell_type": "code",
   "execution_count": 33,
   "metadata": {},
   "outputs": [],
   "source": [
    "def km(X, K,dist = \"eucl\", niter = 20, seed = 2):\n",
    "    centref = init(X, K = K, seed = seed) \n",
    "    for i in range(niter):\n",
    "        mesclusters, d = cluster(X, centres = centref, dist = dist)\n",
    "        centroids = centres_finaux(X, mesclusters, K) \n",
    "        return mesclusters, d"
   ]
  },
  {
   "cell_type": "markdown",
   "metadata": {},
   "source": [
    "(11)"
   ]
  },
  {
   "cell_type": "code",
   "execution_count": 1,
   "metadata": {},
   "outputs": [
    {
     "ename": "NameError",
     "evalue": "name 'pd' is not defined",
     "output_type": "error",
     "traceback": [
      "\u001b[1;31m---------------------------------------------------------------------------\u001b[0m",
      "\u001b[1;31mNameError\u001b[0m                                 Traceback (most recent call last)",
      "\u001b[1;32m<ipython-input-1-ad2d8d878f86>\u001b[0m in \u001b[0;36m<module>\u001b[1;34m\u001b[0m\n\u001b[1;32m----> 1\u001b[1;33m \u001b[0mdata\u001b[0m \u001b[1;33m=\u001b[0m \u001b[0mpd\u001b[0m\u001b[1;33m.\u001b[0m\u001b[0mDataFrame\u001b[0m\u001b[1;33m(\u001b[0m\u001b[0mnew_df1\u001b[0m\u001b[1;33m)\u001b[0m\u001b[1;33m\u001b[0m\u001b[1;33m\u001b[0m\u001b[0m\n\u001b[0m\u001b[0;32m      2\u001b[0m \u001b[0mprint\u001b[0m\u001b[1;33m(\u001b[0m\u001b[0mdata\u001b[0m\u001b[1;33m.\u001b[0m\u001b[0mshape\u001b[0m\u001b[1;33m)\u001b[0m\u001b[1;33m\u001b[0m\u001b[1;33m\u001b[0m\u001b[0m\n\u001b[0;32m      3\u001b[0m \u001b[0mdata\u001b[0m\u001b[1;33m.\u001b[0m\u001b[0mhead\u001b[0m\u001b[1;33m(\u001b[0m\u001b[1;33m)\u001b[0m\u001b[1;33m\u001b[0m\u001b[1;33m\u001b[0m\u001b[0m\n\u001b[0;32m      4\u001b[0m \u001b[0msave\u001b[0m \u001b[1;33m=\u001b[0m \u001b[0mdata\u001b[0m\u001b[1;33m.\u001b[0m\u001b[0mcopy\u001b[0m\u001b[1;33m(\u001b[0m\u001b[1;33m)\u001b[0m\u001b[1;33m\u001b[0m\u001b[1;33m\u001b[0m\u001b[0m\n",
      "\u001b[1;31mNameError\u001b[0m: name 'pd' is not defined"
     ]
    }
   ],
   "source": [
    "data = pd.DataFrame(new_df1)\n",
    "print(data.shape)\n",
    "data.head()\n",
    "save = data.copy()"
   ]
  },
  {
   "cell_type": "code",
   "execution_count": 34,
   "metadata": {},
   "outputs": [
    {
     "ename": "NameError",
     "evalue": "name 'save' is not defined",
     "output_type": "error",
     "traceback": [
      "\u001b[1;31m---------------------------------------------------------------------------\u001b[0m",
      "\u001b[1;31mNameError\u001b[0m                                 Traceback (most recent call last)",
      "\u001b[1;32m<ipython-input-34-e5aa8d2435f2>\u001b[0m in \u001b[0;36m<module>\u001b[1;34m\u001b[0m\n\u001b[0;32m      2\u001b[0m \u001b[1;32mfrom\u001b[0m \u001b[0msklearn\u001b[0m\u001b[1;33m.\u001b[0m\u001b[0mcluster\u001b[0m \u001b[1;32mimport\u001b[0m \u001b[0mKMeans\u001b[0m\u001b[1;33m\u001b[0m\u001b[1;33m\u001b[0m\u001b[0m\n\u001b[0;32m      3\u001b[0m \u001b[0mkmm\u001b[0m \u001b[1;33m=\u001b[0m \u001b[0mKMeans\u001b[0m\u001b[1;33m(\u001b[0m\u001b[1;36m5\u001b[0m\u001b[1;33m)\u001b[0m\u001b[1;33m\u001b[0m\u001b[1;33m\u001b[0m\u001b[0m\n\u001b[1;32m----> 4\u001b[1;33m \u001b[0mkm5\u001b[0m \u001b[1;33m=\u001b[0m \u001b[0mkmm\u001b[0m\u001b[1;33m.\u001b[0m\u001b[0mfit\u001b[0m\u001b[1;33m(\u001b[0m\u001b[0msave\u001b[0m\u001b[1;33m)\u001b[0m\u001b[1;33m\u001b[0m\u001b[1;33m\u001b[0m\u001b[0m\n\u001b[0m\u001b[0;32m      5\u001b[0m \u001b[0mkm5\u001b[0m\u001b[1;33m.\u001b[0m\u001b[0minertia_\u001b[0m\u001b[1;33m\u001b[0m\u001b[1;33m\u001b[0m\u001b[0m\n",
      "\u001b[1;31mNameError\u001b[0m: name 'save' is not defined"
     ]
    }
   ],
   "source": [
    "# KMeans de Python\n",
    "from sklearn.cluster import KMeans\n",
    "kmm = KMeans(5)\n",
    "km5 = kmm.fit(save)\n",
    "km5.inertia_"
   ]
  },
  {
   "cell_type": "code",
   "execution_count": 35,
   "metadata": {},
   "outputs": [
    {
     "ename": "NameError",
     "evalue": "name 'save' is not defined",
     "output_type": "error",
     "traceback": [
      "\u001b[1;31m---------------------------------------------------------------------------\u001b[0m",
      "\u001b[1;31mNameError\u001b[0m                                 Traceback (most recent call last)",
      "\u001b[1;32m<ipython-input-35-2fc948d94519>\u001b[0m in \u001b[0;36m<module>\u001b[1;34m\u001b[0m\n\u001b[1;32m----> 1\u001b[1;33m \u001b[0mplt\u001b[0m\u001b[1;33m.\u001b[0m\u001b[0mscatter\u001b[0m\u001b[1;33m(\u001b[0m\u001b[0msave\u001b[0m\u001b[1;33m.\u001b[0m\u001b[0miloc\u001b[0m\u001b[1;33m[\u001b[0m\u001b[1;33m:\u001b[0m\u001b[1;33m,\u001b[0m \u001b[1;36m0\u001b[0m\u001b[1;33m]\u001b[0m\u001b[1;33m,\u001b[0m \u001b[0msave\u001b[0m\u001b[1;33m.\u001b[0m\u001b[0miloc\u001b[0m\u001b[1;33m[\u001b[0m\u001b[1;33m:\u001b[0m\u001b[1;33m,\u001b[0m \u001b[1;36m1\u001b[0m\u001b[1;33m]\u001b[0m\u001b[1;33m,\u001b[0m\u001b[0mc\u001b[0m \u001b[1;33m=\u001b[0m \u001b[0mkmm\u001b[0m\u001b[1;33m.\u001b[0m\u001b[0mfit_predict\u001b[0m\u001b[1;33m(\u001b[0m\u001b[0msave\u001b[0m\u001b[1;33m)\u001b[0m\u001b[1;33m)\u001b[0m\u001b[1;33m\u001b[0m\u001b[1;33m\u001b[0m\u001b[0m\n\u001b[0m",
      "\u001b[1;31mNameError\u001b[0m: name 'save' is not defined"
     ]
    }
   ],
   "source": [
    "plt.scatter(save.iloc[:, 0], save.iloc[:, 1],c = kmm.fit_predict(save))"
   ]
  },
  {
   "cell_type": "code",
   "execution_count": null,
   "metadata": {},
   "outputs": [],
   "source": [
    "# Ma fonction kmeans\n",
    "data = pd.DataFrame(new_df1)\n",
    "print(data.shape)\n",
    "data.head()\n",
    "save = data.copy()"
   ]
  },
  {
   "cell_type": "code",
   "execution_count": null,
   "metadata": {},
   "outputs": [],
   "source": [
    "save = data.copy()\n",
    "save[\"classi_kmeans\"], inertie = km(data, K = 5,dist = \"euclnorm\", niter = 10, seed = 2)"
   ]
  },
  {
   "cell_type": "code",
   "execution_count": null,
   "metadata": {},
   "outputs": [],
   "source": [
    "plt.scatter(data.iloc[:, 0], data.iloc[:, 1], c = save[\"classi_kmeans\"], cmap = \"rainbow\")"
   ]
  },
  {
   "cell_type": "code",
   "execution_count": null,
   "metadata": {},
   "outputs": [],
   "source": [
    "# Repartition par classes du KMeans de Python :\n",
    "l1 = pd.DataFrame({'classif_km_python' : km5.labels_})\n",
    "dataf = l1[\"classif_km_python\"].groupby([l1['classif_km_python']]).count()\n",
    "print(dataf)"
   ]
  },
  {
   "cell_type": "code",
   "execution_count": null,
   "metadata": {},
   "outputs": [],
   "source": [
    "# Repartition par classes de ma fonction kmeans :\n",
    "l2 = pd.DataFrame({'classif_ma_km' : save[\"classif_ma_km\"]})\n",
    "dataf2 = l2['classif_ma_km'].groupby([l2['classif_ma_km']]).count()\n",
    "print(dataf2)"
   ]
  },
  {
   "cell_type": "markdown",
   "metadata": {},
   "source": [
    "(12)"
   ]
  },
  {
   "cell_type": "code",
   "execution_count": null,
   "metadata": {},
   "outputs": [],
   "source": [
    "def madist(a,b):\n",
    "    if (len(a)!=len(b)):\n",
    "        return(-1)\n",
    "    s=0\n",
    "    for i in range(len(a)):\n",
    "        s +=(a[i]-b[i])*(a[i]-b[i])\n",
    "    return (s**(0.5))  "
   ]
  },
  {
   "cell_type": "code",
   "execution_count": null,
   "metadata": {},
   "outputs": [],
   "source": [
    "def kplusprochevoisin(data,x,k,n):\n",
    "    ldist=[]\n",
    "    for i in range(len(data)):\n",
    "        ldist.append(madist(x,data.iloc[i,0:n-1]))\n",
    "    maliste=[]\n",
    "    for i in range(k):\n",
    "        v=float(\"inf\")\n",
    "        for j in range(len(data)):\n",
    "            if ldist[j]!=0 and ldist[j]<v and j not in maliste:\n",
    "                v=ldist[j]\n",
    "                ind=j\n",
    "        maliste.append(ind)      \n",
    "    return (maliste)"
   ]
  },
  {
   "cell_type": "code",
   "execution_count": null,
   "metadata": {},
   "outputs": [],
   "source": [
    "kplusprochevoisin(data,data.iloc[120,0:9],8,10) # data = jeu de donnees reduit a 5 dimensions"
   ]
  },
  {
   "cell_type": "markdown",
   "metadata": {},
   "source": [
    "(13)"
   ]
  },
  {
   "cell_type": "code",
   "execution_count": null,
   "metadata": {},
   "outputs": [],
   "source": [
    "def err_quad_moy(Ypredi,Yobs):\n",
    "    return (np.sqrt(np.mean(np.square(y_pred-y_true))))"
   ]
  },
  {
   "cell_type": "markdown",
   "metadata": {},
   "source": [
    "# EXERCICE 2"
   ]
  },
  {
   "cell_type": "markdown",
   "metadata": {},
   "source": [
    "## COMPTE-RENDU"
   ]
  },
  {
   "cell_type": "markdown",
   "metadata": {},
   "source": [
    "Le fichier train.csv contient un echantillon de produits appartenant aux 20 plus grandes\n",
    "categories d’un catalogue de e-commerce. Pour chaque produit, on a les champs:\n",
    "\n",
    "• **category id** : identifiant de la categorie du produit (entier entre 0 et 19)\n",
    "\n",
    "• **category** : nom de la cat´egorie du produit\n",
    "\n",
    "• **title** : titre du produit description : description du produit"
   ]
  },
  {
   "cell_type": "markdown",
   "metadata": {},
   "source": [
    "Après avoir importé nos données (code 1 de l'annexe), nous utilisons le code 2 de l'annexe afin d'avoir un premier aperçu de nos données. Train qui est notre jeu de données d'apprentissage contient 20000 observations décrites par 4 variables, les 3 citées précedemment en plus de la variable description chargées d'apporter des précisions sur le produit.  On constate egalement (code 3) qu'il existe 20 differentes catégories de produits dans nos données."
   ]
  },
  {
   "cell_type": "markdown",
   "metadata": {},
   "source": [
    "**Q1.\n",
    "Ecrivez un algorithme de classiﬁcation supervisée qui prévoit la catégorie d’un produit à partir de son titre et de sa description. Vous mettrez de côté un ensemble de validation et donnerez le taux de classiﬁcation correcte sur ledit ensemble. Vous appliquerez l’algorithme sur les données de test contenues dans le ﬁchier test.csv**"
   ]
  },
  {
   "cell_type": "markdown",
   "metadata": {},
   "source": [
    "La description du produit suffit à catégoriser ce produit. On va donc utiliser la chaine de caractère de la description, utiliser les fonctions replace(),upper() et split() et essayer de correspondre les mots dans les catégories avec les mots dans la description. Le code (4) présente un exemple de la procédure que nous allons mener par la suite dans le code (5)."
   ]
  },
  {
   "cell_type": "markdown",
   "metadata": {},
   "source": [
    "Il est toutefois nécessaire d'evaluer l'efficacité de notre algorithme. Pour ce faire, on dénombre les bonnes et mauvaises classifications avec mots-clés et sans mots-clés. On obtient un taux de 64% de classification correcte et environ 45% sans les mots-clés."
   ]
  },
  {
   "cell_type": "markdown",
   "metadata": {},
   "source": [
    "Afin de mieux cibler nos erreurs, on peut les observer pour chaque catégorie et observer egalement la description pour identifier les paramètres qui pourraient compromettre une bonne classification (voir code 7). On remarque qu'il y a beaucoup d'erreurs (environ 1000 observations mal classées) pour les mots \"batterie\", \"chargeur\", \"bracelet\" qui sont dans plusieurs catégories différentes. De plus, on a aussi beaucoup d'erreur pour les catégories de bijoux et d'informatique car il s'agit mots décrivant des catégories deja existantes."
   ]
  },
  {
   "cell_type": "markdown",
   "metadata": {},
   "source": [
    "Egalement des erreurs pour les livres de la littérature française (996 obs.) ou encore d'autres erreurs liées à la similarité entre marque d'imprimante et d'appareil photo (Canon)."
   ]
  },
  {
   "cell_type": "markdown",
   "metadata": {},
   "source": [
    "Une solution serait de peaufiner les mots-clés pour qu'il soit plus explicite."
   ]
  },
  {
   "cell_type": "markdown",
   "metadata": {},
   "source": [
    "On peut également regarder les problèmes dans notre classification (classification = 0). Pour cela, voir le code (8) de l'annexe ou l'on remarque que certaines descriptions sont insuffisantes pour proposer une classification."
   ]
  },
  {
   "cell_type": "markdown",
   "metadata": {},
   "source": [
    "Par la suite, on réalise les prédictions de classification selon la description des produits du jeu de données tests (code 9)"
   ]
  },
  {
   "cell_type": "markdown",
   "metadata": {},
   "source": [
    "**Q2.Ecrivez un programme pour estimer la fonction de densité de probabilité conjointe, par la méthode d’estimation par noyau. Illustrez la fonction sous forme de carte de chaleur.**"
   ]
  },
  {
   "cell_type": "markdown",
   "metadata": {},
   "source": [
    "Dans un premier temps, on souhaite avoir le nombre d'heures écoulées dans la journée (code 10). Dans un second temps, on veut une variable aléatoire H qui prend des valeurs dans [0,23], il faut donc sommer tous les prix pour chaque heure."
   ]
  },
  {
   "cell_type": "markdown",
   "metadata": {},
   "source": [
    "On obtient un premier aperçu des resultats a l'aide des graphiques du code 11 (par seaborn), puis la fonction demandé au code 12. On peut y constater une forte concentration aux alentours 15H."
   ]
  },
  {
   "cell_type": "markdown",
   "metadata": {},
   "source": [
    "## ANNEXE"
   ]
  },
  {
   "cell_type": "markdown",
   "metadata": {},
   "source": [
    "### Importation/Vue d'ensemble"
   ]
  },
  {
   "cell_type": "code",
   "execution_count": 36,
   "metadata": {},
   "outputs": [],
   "source": [
    "import pandas as pd\n",
    "import numpy as np\n",
    "import seaborn\n",
    "import scipy.stats as st\n",
    "from matplotlib import pyplot as plt  \n",
    "\n",
    "%matplotlib inline"
   ]
  },
  {
   "cell_type": "markdown",
   "metadata": {},
   "source": [
    "(1)"
   ]
  },
  {
   "cell_type": "code",
   "execution_count": 37,
   "metadata": {},
   "outputs": [],
   "source": [
    "train = pd.read_csv(\"train.csv\", sep=\",\", encoding = 'unicode_escape')\n",
    "test = pd.read_csv(\"test.csv\", sep=\",\", encoding = 'unicode_escape')\n",
    "purchases = pd.read_csv(\"purchases.csv\", sep=\",\")"
   ]
  },
  {
   "cell_type": "markdown",
   "metadata": {},
   "source": [
    "(2)"
   ]
  },
  {
   "cell_type": "code",
   "execution_count": 44,
   "metadata": {},
   "outputs": [
    {
     "data": {
      "text/html": [
       "<div>\n",
       "<style scoped>\n",
       "    .dataframe tbody tr th:only-of-type {\n",
       "        vertical-align: middle;\n",
       "    }\n",
       "\n",
       "    .dataframe tbody tr th {\n",
       "        vertical-align: top;\n",
       "    }\n",
       "\n",
       "    .dataframe thead th {\n",
       "        text-align: right;\n",
       "    }\n",
       "</style>\n",
       "<table border=\"1\" class=\"dataframe\">\n",
       "  <thead>\n",
       "    <tr style=\"text-align: right;\">\n",
       "      <th></th>\n",
       "      <th>category_id</th>\n",
       "      <th>category</th>\n",
       "      <th>title</th>\n",
       "      <th>description</th>\n",
       "    </tr>\n",
       "  </thead>\n",
       "  <tbody>\n",
       "    <tr>\n",
       "      <td>0</td>\n",
       "      <td>0</td>\n",
       "      <td>TELEPHONIE - GPS | ACCESSOIRE TELEPHONE | COQU...</td>\n",
       "      <td>Coque  Samsung ACE S5830 Cassette audio transpa</td>\n",
       "      <td>Coque  Samsung ACE S5830 Cassette audio transp...</td>\n",
       "    </tr>\n",
       "    <tr>\n",
       "      <td>1</td>\n",
       "      <td>0</td>\n",
       "      <td>TELEPHONIE - GPS | ACCESSOIRE TELEPHONE | COQU...</td>\n",
       "      <td>Coque rigide Violette pour NOKIA LUMIA 625 moti</td>\n",
       "      <td>Coque rigide Violette pour NOKIA LUMIA 625 mot...</td>\n",
       "    </tr>\n",
       "    <tr>\n",
       "      <td>2</td>\n",
       "      <td>0</td>\n",
       "      <td>TELEPHONIE - GPS | ACCESSOIRE TELEPHONE | COQU...</td>\n",
       "      <td>Coque rigide Rose bonbon pour HUAWEI ASCEND P2</td>\n",
       "      <td>Coque rigide Rose bonbon pour HUAWEI ASCEND P2...</td>\n",
       "    </tr>\n",
       "    <tr>\n",
       "      <td>3</td>\n",
       "      <td>0</td>\n",
       "      <td>TELEPHONIE - GPS | ACCESSOIRE TELEPHONE | COQU...</td>\n",
       "      <td>Coque souple Grise pour SONY XPERIA Z1 motif Dr</td>\n",
       "      <td>Coque souple Grise pour SONY XPERIA Z1 motif D...</td>\n",
       "    </tr>\n",
       "    <tr>\n",
       "      <td>4</td>\n",
       "      <td>0</td>\n",
       "      <td>TELEPHONIE - GPS | ACCESSOIRE TELEPHONE | COQU...</td>\n",
       "      <td>Coque HTC One S 4,3''  Dessin Tête de Girafe ...</td>\n",
       "      <td>Coque HTC One S 4,3''  Dessin Tête de Girafe ...</td>\n",
       "    </tr>\n",
       "  </tbody>\n",
       "</table>\n",
       "</div>"
      ],
      "text/plain": [
       "   category_id                                           category  \\\n",
       "0            0  TELEPHONIE - GPS | ACCESSOIRE TELEPHONE | COQU...   \n",
       "1            0  TELEPHONIE - GPS | ACCESSOIRE TELEPHONE | COQU...   \n",
       "2            0  TELEPHONIE - GPS | ACCESSOIRE TELEPHONE | COQU...   \n",
       "3            0  TELEPHONIE - GPS | ACCESSOIRE TELEPHONE | COQU...   \n",
       "4            0  TELEPHONIE - GPS | ACCESSOIRE TELEPHONE | COQU...   \n",
       "\n",
       "                                               title  \\\n",
       "0   Coque  Samsung ACE S5830 Cassette audio transpa\n",
       "   \n",
       "1   Coque rigide Violette pour NOKIA LUMIA 625 moti\n",
       "   \n",
       "2   Coque rigide Rose bonbon pour HUAWEI ASCEND P2 \n",
       "   \n",
       "3   Coque souple Grise pour SONY XPERIA Z1 motif Dr\n",
       "   \n",
       "4  Coque HTC One S 4,3''  Dessin Tête de Girafe ...   \n",
       "\n",
       "                                         description  \n",
       "0  Coque  Samsung ACE S5830 Cassette audio transp...  \n",
       "1  Coque rigide Violette pour NOKIA LUMIA 625 mot...  \n",
       "2  Coque rigide Rose bonbon pour HUAWEI ASCEND P2...  \n",
       "3  Coque souple Grise pour SONY XPERIA Z1 motif D...  \n",
       "4  Coque HTC One S 4,3''  Dessin Tête de Girafe ...  "
      ]
     },
     "execution_count": 44,
     "metadata": {},
     "output_type": "execute_result"
    }
   ],
   "source": [
    "train.head()"
   ]
  },
  {
   "cell_type": "code",
   "execution_count": 45,
   "metadata": {},
   "outputs": [
    {
     "data": {
      "text/plain": [
       "(20000, 4)"
      ]
     },
     "execution_count": 45,
     "metadata": {},
     "output_type": "execute_result"
    }
   ],
   "source": [
    "train.shape"
   ]
  },
  {
   "cell_type": "markdown",
   "metadata": {},
   "source": [
    "20000 obs (ici ce sont des produits), 4 variables."
   ]
  },
  {
   "cell_type": "markdown",
   "metadata": {},
   "source": [
    "(3)"
   ]
  },
  {
   "cell_type": "code",
   "execution_count": 46,
   "metadata": {},
   "outputs": [
    {
     "data": {
      "text/plain": [
       "array(['TELEPHONIE - GPS | ACCESSOIRE TELEPHONE | COQUE - BUMPER - FACADE TELEPHONE',\n",
       "       'LIBRAIRIE | AUTRES LIVRES | AUTRES LIVRES',\n",
       "       'INFORMATIQUE | CONNECTIQUE - ALIMENTATION | BATTERIE',\n",
       "       'INFORMATIQUE | CONNECTIQUE - ALIMENTATION | CHARGEUR - ADAPTATEUR SECTEUR - ALLUME CIGARE - SOLAIRE',\n",
       "       'TELEPHONIE - GPS | ACCESSOIRE TELEPHONE | HOUSSE - ETUI - CHAUSSETTE',\n",
       "       'DECO - LINGE - LUMINAIRE | DECORATION MURALE - TABLEAU - CADRE PHOTO - STICKER | STICKERS - LETTRES ADHESIVES',\n",
       "       'BIJOUX -  LUNETTES - MONTRES | MONTRES | MONTRE BRACELET',\n",
       "       'VETEMENTS - LINGERIE  | T-SHIRT - DEBARDEUR | T-SHIRT',\n",
       "       'CULTURE - JEUX | MUSIQUE | CD',\n",
       "       \"INFORMATIQUE | COMPOSANT - PIECE DETACHEE | DALLE D'ECRAN\",\n",
       "       'BIJOUX -  LUNETTES - MONTRES | BIJOUX | BOUCLE D OREILLE',\n",
       "       'ELECTROMENAGER | GROS APPAREILS LAVAGE-SECHAGE  | ACCESSOIRES ET PIECES - LAVAGE-SECHAGE',\n",
       "       'TELEPHONIE - GPS | ACCESSOIRE TELEPHONE | CHARGEUR - ADAPTATEUR ALIMENTATION TELEPHONE',\n",
       "       'TELEPHONIE - GPS | ACCESSOIRE TELEPHONE | BATTERIE TELEPHONE',\n",
       "       'BIJOUX -  LUNETTES - MONTRES | BIJOUX | BRACELET - GOURMETTE',\n",
       "       'LIBRAIRIE | LITTERATURE  | LITTERATURE FRANCAISE',\n",
       "       'BIJOUX -  LUNETTES - MONTRES | BIJOUX | SAUTOIR ET COLLIER',\n",
       "       'INFORMATIQUE | IMPRESSION - SCANNER | TONER - RECUPERATEUR DE TONER',\n",
       "       'PHOTO - OPTIQUE | ACCESSOIRES PHOTO - OPTIQUE | BATTERIE PHOTO - OPTIQUE',\n",
       "       'AUTO - MOTO (NEW) | PIECES | KIT GROS FREIN'], dtype=object)"
      ]
     },
     "execution_count": 46,
     "metadata": {},
     "output_type": "execute_result"
    }
   ],
   "source": [
    "train[\"category\"].unique()"
   ]
  },
  {
   "cell_type": "code",
   "execution_count": 47,
   "metadata": {},
   "outputs": [
    {
     "data": {
      "text/plain": [
       "20"
      ]
     },
     "execution_count": 47,
     "metadata": {},
     "output_type": "execute_result"
    }
   ],
   "source": [
    "len(train[\"category\"].unique())"
   ]
  },
  {
   "cell_type": "markdown",
   "metadata": {},
   "source": [
    "(4)"
   ]
  },
  {
   "cell_type": "code",
   "execution_count": 48,
   "metadata": {
    "scrolled": false
   },
   "outputs": [
    {
     "data": {
      "text/plain": [
       "[['TELEPHONIE',\n",
       "  'GPS',\n",
       "  'ACCESSOIRE',\n",
       "  'TELEPHONE',\n",
       "  'COQUE',\n",
       "  'BUMPER',\n",
       "  'FACADE',\n",
       "  'TELEPHONE'],\n",
       " ['LIBRAIRIE', 'AUTRES', 'LIVRES', 'AUTRES', 'LIVRES'],\n",
       " ['INFORMATIQUE', 'CONNECTIQUE', 'ALIMENTATION', 'BATTERIE'],\n",
       " ['INFORMATIQUE',\n",
       "  'CONNECTIQUE',\n",
       "  'ALIMENTATION',\n",
       "  'CHARGEUR',\n",
       "  'ADAPTATEUR',\n",
       "  'SECTEUR',\n",
       "  'ALLUME',\n",
       "  'CIGARE',\n",
       "  'SOLAIRE'],\n",
       " ['TELEPHONIE',\n",
       "  'GPS',\n",
       "  'ACCESSOIRE',\n",
       "  'TELEPHONE',\n",
       "  'HOUSSE',\n",
       "  'ETUI',\n",
       "  'CHAUSSETTE'],\n",
       " ['DECO',\n",
       "  'LINGE',\n",
       "  'LUMINAIRE',\n",
       "  'DECORATION',\n",
       "  'MURALE',\n",
       "  'TABLEAU',\n",
       "  'CADRE',\n",
       "  'PHOTO',\n",
       "  'STICKER',\n",
       "  'STICKERS',\n",
       "  'LETTRES',\n",
       "  'ADHESIVES'],\n",
       " ['BIJOUX', 'LUNETTES', 'MONTRES', 'MONTRES', 'MONTRE', 'BRACELET'],\n",
       " ['VETEMENTS', 'LINGERIE', 'TSHIRT', 'DEBARDEUR', 'TSHIRT'],\n",
       " ['CULTURE', 'JEUX', 'MUSIQUE', 'CD'],\n",
       " ['INFORMATIQUE', 'COMPOSANT', 'PIECE', 'DETACHEE', 'DALLE', \"D'ECRAN\"],\n",
       " ['BIJOUX', 'LUNETTES', 'MONTRES', 'BIJOUX', 'BOUCLE', 'D', 'OREILLE'],\n",
       " ['ELECTROMENAGER',\n",
       "  'GROS',\n",
       "  'APPAREILS',\n",
       "  'LAVAGESECHAGE',\n",
       "  'ACCESSOIRES',\n",
       "  'ET',\n",
       "  'PIECES',\n",
       "  'LAVAGESECHAGE'],\n",
       " ['TELEPHONIE',\n",
       "  'GPS',\n",
       "  'ACCESSOIRE',\n",
       "  'TELEPHONE',\n",
       "  'CHARGEUR',\n",
       "  'ADAPTATEUR',\n",
       "  'ALIMENTATION',\n",
       "  'TELEPHONE'],\n",
       " ['TELEPHONIE', 'GPS', 'ACCESSOIRE', 'TELEPHONE', 'BATTERIE', 'TELEPHONE'],\n",
       " ['BIJOUX', 'LUNETTES', 'MONTRES', 'BIJOUX', 'BRACELET', 'GOURMETTE'],\n",
       " ['LIBRAIRIE', 'LITTERATURE', 'LITTERATURE', 'FRANCAISE'],\n",
       " ['BIJOUX', 'LUNETTES', 'MONTRES', 'BIJOUX', 'SAUTOIR', 'ET', 'COLLIER'],\n",
       " ['INFORMATIQUE',\n",
       "  'IMPRESSION',\n",
       "  'SCANNER',\n",
       "  'TONER',\n",
       "  'RECUPERATEUR',\n",
       "  'DE',\n",
       "  'TONER'],\n",
       " ['PHOTO',\n",
       "  'OPTIQUE',\n",
       "  'ACCESSOIRES',\n",
       "  'PHOTO',\n",
       "  'OPTIQUE',\n",
       "  'BATTERIE',\n",
       "  'PHOTO',\n",
       "  'OPTIQUE'],\n",
       " ['AUTO', 'MOTO', '(NEW)', 'PIECES', 'KIT', 'GROS', 'FREIN']]"
      ]
     },
     "execution_count": 48,
     "metadata": {},
     "output_type": "execute_result"
    }
   ],
   "source": [
    "a = [s.replace('-', '').replace('|','').split(\" \") for s in train[\"category\"].unique()]\n",
    "b = [list(filter(lambda x: x != \"\", i)) for i in a]\n",
    "b"
   ]
  },
  {
   "cell_type": "markdown",
   "metadata": {},
   "source": [
    "### Algo"
   ]
  },
  {
   "cell_type": "markdown",
   "metadata": {},
   "source": [
    "(5)"
   ]
  },
  {
   "cell_type": "code",
   "execution_count": 49,
   "metadata": {},
   "outputs": [],
   "source": [
    "def algo(desc, data):\n",
    "    \n",
    "    #Préparation de la liste de mot (cf au dessus)\n",
    "    categorie = data[\"category\"].unique()\n",
    "    cat = [s.replace('-', '').replace('|','').split(\" \") for s in categorie]\n",
    "    cat2 = [list(filter(lambda x: x != \"\", i)) for i in cat]\n",
    "    \n",
    "    #liste de mot-clé à rajouter dans les catégories pour une meilleure classification\n",
    "    cat2[0].insert(0,'CASE')\n",
    "    cat2[1].insert(0,'ÉDITION')\n",
    "    cat2[2].insert(0,'MAH')\n",
    "    cat2[3].insert(0,'ORDINATEUR')\n",
    "    cat2[4].insert(0,'ÉTUI')\n",
    "    cat2[6].insert(0,'HOMME')\n",
    "    cat2[6].insert(1,'FEMME')\n",
    "    cat2[7].insert(0,'SHIRT')\n",
    "    cat2[8].insert(0,'TRACK')\n",
    "    cat2[9].insert(0,'ÉCRAN')\n",
    "    cat2[11].insert(0,'JOINT')\n",
    "    cat2[11].insert(1,'VIDANGE')\n",
    "    cat2[17].insert(0,'ENCRE')\n",
    "    cat2[17].insert(1,'INK')\n",
    "    cat2[18].insert(0,'CANON')\n",
    "    \n",
    "    s=[]\n",
    "    for p in desc:               #pour chaque description dans la colonne description\n",
    "        a = p.upper().split(\" \") #créer une liste de tous les mots dans p en majuscule (pour comparer avec category)\n",
    "        l = []\n",
    "        \n",
    "        #on va tester pour chaque mot de longueur>2 dans chaque catégorie, si il est dans les mots de a\n",
    "        for i in a:\n",
    "            for k in cat2:       \n",
    "                if any((j in i) for j in k if len(j)>2):\n",
    "                    l.append(categorie[cat2.index(k)])\n",
    "                    \n",
    "                #on fait le test pour \"CD\" car longueur=2 mais présent dans presque toutes les descriptions des albums/musiques\n",
    "                if \"CD\" in i:                      \n",
    "                    l.append(categorie[8])\n",
    "\n",
    "                \n",
    "        if len(l)==0:            #si il n'y a aucune correspondance entre les mots, on ajoute 0\n",
    "            s.append(0)\n",
    "        else:                    #sinon, on ajoute le 1er element\n",
    "            s.append(l[0])\n",
    "            \n",
    "    dic = {'desc':list(desc),\n",
    "           'catégorie':data[\"category\"],\n",
    "          'classification':s}        \n",
    "    \n",
    "    df = pd.DataFrame(dic)       #on crée un dataframe avec pour chaque description, sa vrai catégorie et la classif\n",
    "    \n",
    "    return df"
   ]
  },
  {
   "cell_type": "markdown",
   "metadata": {},
   "source": [
    "### Validation"
   ]
  },
  {
   "cell_type": "markdown",
   "metadata": {},
   "source": [
    "(6)"
   ]
  },
  {
   "cell_type": "code",
   "execution_count": 50,
   "metadata": {},
   "outputs": [
    {
     "data": {
      "text/html": [
       "<div>\n",
       "<style scoped>\n",
       "    .dataframe tbody tr th:only-of-type {\n",
       "        vertical-align: middle;\n",
       "    }\n",
       "\n",
       "    .dataframe tbody tr th {\n",
       "        vertical-align: top;\n",
       "    }\n",
       "\n",
       "    .dataframe thead th {\n",
       "        text-align: right;\n",
       "    }\n",
       "</style>\n",
       "<table border=\"1\" class=\"dataframe\">\n",
       "  <thead>\n",
       "    <tr style=\"text-align: right;\">\n",
       "      <th></th>\n",
       "      <th>desc</th>\n",
       "      <th>catégorie</th>\n",
       "      <th>classification</th>\n",
       "    </tr>\n",
       "  </thead>\n",
       "  <tbody>\n",
       "    <tr>\n",
       "      <td>0</td>\n",
       "      <td>Coque  Samsung ACE S5830 Cassette audio transp...</td>\n",
       "      <td>TELEPHONIE - GPS | ACCESSOIRE TELEPHONE | COQU...</td>\n",
       "      <td>TELEPHONIE - GPS | ACCESSOIRE TELEPHONE | COQU...</td>\n",
       "    </tr>\n",
       "    <tr>\n",
       "      <td>1</td>\n",
       "      <td>Coque rigide Violette pour NOKIA LUMIA 625 mot...</td>\n",
       "      <td>TELEPHONIE - GPS | ACCESSOIRE TELEPHONE | COQU...</td>\n",
       "      <td>TELEPHONIE - GPS | ACCESSOIRE TELEPHONE | COQU...</td>\n",
       "    </tr>\n",
       "    <tr>\n",
       "      <td>2</td>\n",
       "      <td>Coque rigide Rose bonbon pour HUAWEI ASCEND P2...</td>\n",
       "      <td>TELEPHONIE - GPS | ACCESSOIRE TELEPHONE | COQU...</td>\n",
       "      <td>TELEPHONIE - GPS | ACCESSOIRE TELEPHONE | COQU...</td>\n",
       "    </tr>\n",
       "    <tr>\n",
       "      <td>3</td>\n",
       "      <td>Coque souple Grise pour SONY XPERIA Z1 motif D...</td>\n",
       "      <td>TELEPHONIE - GPS | ACCESSOIRE TELEPHONE | COQU...</td>\n",
       "      <td>TELEPHONIE - GPS | ACCESSOIRE TELEPHONE | COQU...</td>\n",
       "    </tr>\n",
       "    <tr>\n",
       "      <td>4</td>\n",
       "      <td>Coque HTC One S 4,3''  Dessin Tête de Girafe ...</td>\n",
       "      <td>TELEPHONIE - GPS | ACCESSOIRE TELEPHONE | COQU...</td>\n",
       "      <td>TELEPHONIE - GPS | ACCESSOIRE TELEPHONE | COQU...</td>\n",
       "    </tr>\n",
       "    <tr>\n",
       "      <td>...</td>\n",
       "      <td>...</td>\n",
       "      <td>...</td>\n",
       "      <td>...</td>\n",
       "    </tr>\n",
       "    <tr>\n",
       "      <td>19995</td>\n",
       "      <td>Kit Gros Freins K-Sport 6 Pistons rear MERCEDE...</td>\n",
       "      <td>AUTO - MOTO (NEW) | PIECES | KIT GROS FREIN</td>\n",
       "      <td>AUTO - MOTO (NEW) | PIECES | KIT GROS FREIN</td>\n",
       "    </tr>\n",
       "    <tr>\n",
       "      <td>19996</td>\n",
       "      <td>Kit Gros Freins K-Sport 6 Pistons NISSAN MAXIM...</td>\n",
       "      <td>AUTO - MOTO (NEW) | PIECES | KIT GROS FREIN</td>\n",
       "      <td>AUTO - MOTO (NEW) | PIECES | KIT GROS FREIN</td>\n",
       "    </tr>\n",
       "    <tr>\n",
       "      <td>19997</td>\n",
       "      <td>Kit Gros Freins K-Sport 8 Pistons HONDA JAZZ 4...</td>\n",
       "      <td>AUTO - MOTO (NEW) | PIECES | KIT GROS FREIN</td>\n",
       "      <td>AUTO - MOTO (NEW) | PIECES | KIT GROS FREIN</td>\n",
       "    </tr>\n",
       "    <tr>\n",
       "      <td>19998</td>\n",
       "      <td>Kit Gros Freins K-Sport 4 Pistons rear AUDI A1...</td>\n",
       "      <td>AUTO - MOTO (NEW) | PIECES | KIT GROS FREIN</td>\n",
       "      <td>AUTO - MOTO (NEW) | PIECES | KIT GROS FREIN</td>\n",
       "    </tr>\n",
       "    <tr>\n",
       "      <td>19999</td>\n",
       "      <td>Kit Gros Freins K-Sport 8 Pistons SAAB 9-5 5 X...</td>\n",
       "      <td>AUTO - MOTO (NEW) | PIECES | KIT GROS FREIN</td>\n",
       "      <td>AUTO - MOTO (NEW) | PIECES | KIT GROS FREIN</td>\n",
       "    </tr>\n",
       "  </tbody>\n",
       "</table>\n",
       "<p>20000 rows × 3 columns</p>\n",
       "</div>"
      ],
      "text/plain": [
       "                                                    desc  \\\n",
       "0      Coque  Samsung ACE S5830 Cassette audio transp...   \n",
       "1      Coque rigide Violette pour NOKIA LUMIA 625 mot...   \n",
       "2      Coque rigide Rose bonbon pour HUAWEI ASCEND P2...   \n",
       "3      Coque souple Grise pour SONY XPERIA Z1 motif D...   \n",
       "4      Coque HTC One S 4,3''  Dessin Tête de Girafe ...   \n",
       "...                                                  ...   \n",
       "19995  Kit Gros Freins K-Sport 6 Pistons rear MERCEDE...   \n",
       "19996  Kit Gros Freins K-Sport 6 Pistons NISSAN MAXIM...   \n",
       "19997  Kit Gros Freins K-Sport 8 Pistons HONDA JAZZ 4...   \n",
       "19998  Kit Gros Freins K-Sport 4 Pistons rear AUDI A1...   \n",
       "19999  Kit Gros Freins K-Sport 8 Pistons SAAB 9-5 5 X...   \n",
       "\n",
       "                                               catégorie  \\\n",
       "0      TELEPHONIE - GPS | ACCESSOIRE TELEPHONE | COQU...   \n",
       "1      TELEPHONIE - GPS | ACCESSOIRE TELEPHONE | COQU...   \n",
       "2      TELEPHONIE - GPS | ACCESSOIRE TELEPHONE | COQU...   \n",
       "3      TELEPHONIE - GPS | ACCESSOIRE TELEPHONE | COQU...   \n",
       "4      TELEPHONIE - GPS | ACCESSOIRE TELEPHONE | COQU...   \n",
       "...                                                  ...   \n",
       "19995        AUTO - MOTO (NEW) | PIECES | KIT GROS FREIN   \n",
       "19996        AUTO - MOTO (NEW) | PIECES | KIT GROS FREIN   \n",
       "19997        AUTO - MOTO (NEW) | PIECES | KIT GROS FREIN   \n",
       "19998        AUTO - MOTO (NEW) | PIECES | KIT GROS FREIN   \n",
       "19999        AUTO - MOTO (NEW) | PIECES | KIT GROS FREIN   \n",
       "\n",
       "                                          classification  \n",
       "0      TELEPHONIE - GPS | ACCESSOIRE TELEPHONE | COQU...  \n",
       "1      TELEPHONIE - GPS | ACCESSOIRE TELEPHONE | COQU...  \n",
       "2      TELEPHONIE - GPS | ACCESSOIRE TELEPHONE | COQU...  \n",
       "3      TELEPHONIE - GPS | ACCESSOIRE TELEPHONE | COQU...  \n",
       "4      TELEPHONIE - GPS | ACCESSOIRE TELEPHONE | COQU...  \n",
       "...                                                  ...  \n",
       "19995        AUTO - MOTO (NEW) | PIECES | KIT GROS FREIN  \n",
       "19996        AUTO - MOTO (NEW) | PIECES | KIT GROS FREIN  \n",
       "19997        AUTO - MOTO (NEW) | PIECES | KIT GROS FREIN  \n",
       "19998        AUTO - MOTO (NEW) | PIECES | KIT GROS FREIN  \n",
       "19999        AUTO - MOTO (NEW) | PIECES | KIT GROS FREIN  \n",
       "\n",
       "[20000 rows x 3 columns]"
      ]
     },
     "execution_count": 50,
     "metadata": {},
     "output_type": "execute_result"
    }
   ],
   "source": [
    "algo(train[\"description\"],train)"
   ]
  },
  {
   "cell_type": "code",
   "execution_count": 51,
   "metadata": {},
   "outputs": [
    {
     "data": {
      "text/plain": [
       "12758"
      ]
     },
     "execution_count": 51,
     "metadata": {},
     "output_type": "execute_result"
    }
   ],
   "source": [
    "gg = algo(train[\"description\"],train)\n",
    "t = list(gg[\"catégorie\"]==gg[\"classification\"]) #test pour les classes correctes\n",
    "t2 = list(gg[\"catégorie\"]!=gg[\"classification\"]) #test pour les classes fausses\n",
    "sum(t)"
   ]
  },
  {
   "cell_type": "code",
   "execution_count": 52,
   "metadata": {},
   "outputs": [
    {
     "name": "stdout",
     "output_type": "stream",
     "text": [
      "taux de classification correcte: 0.64\n"
     ]
    }
   ],
   "source": [
    "print('taux de classification correcte:',round(sum(t)/len(t),2))"
   ]
  },
  {
   "cell_type": "markdown",
   "metadata": {},
   "source": [
    "64% de bonnes classification."
   ]
  },
  {
   "cell_type": "markdown",
   "metadata": {},
   "source": [
    "Sans les mots-clés qu'on a rajouté, on obtient un taux d'environ 0.45."
   ]
  },
  {
   "cell_type": "markdown",
   "metadata": {},
   "source": [
    "### Regarder les erreurs"
   ]
  },
  {
   "cell_type": "markdown",
   "metadata": {},
   "source": [
    "(7)"
   ]
  },
  {
   "cell_type": "markdown",
   "metadata": {},
   "source": [
    "On peut regarder catégorie par catégorie les erreurs de classification, regarder le problème dans les descriptions des produits."
   ]
  },
  {
   "cell_type": "markdown",
   "metadata": {},
   "source": [
    "Exemple :"
   ]
  },
  {
   "cell_type": "code",
   "execution_count": 53,
   "metadata": {
    "scrolled": false
   },
   "outputs": [
    {
     "data": {
      "text/html": [
       "<div>\n",
       "<style scoped>\n",
       "    .dataframe tbody tr th:only-of-type {\n",
       "        vertical-align: middle;\n",
       "    }\n",
       "\n",
       "    .dataframe tbody tr th {\n",
       "        vertical-align: top;\n",
       "    }\n",
       "\n",
       "    .dataframe thead th {\n",
       "        text-align: right;\n",
       "    }\n",
       "</style>\n",
       "<table border=\"1\" class=\"dataframe\">\n",
       "  <thead>\n",
       "    <tr style=\"text-align: right;\">\n",
       "      <th></th>\n",
       "      <th>desc</th>\n",
       "      <th>catégorie</th>\n",
       "      <th>classification</th>\n",
       "    </tr>\n",
       "  </thead>\n",
       "  <tbody>\n",
       "    <tr>\n",
       "      <td>18000</td>\n",
       "      <td>Specifications:Tension:3,7VCapacite:800mAh/3Wh...</td>\n",
       "      <td>PHOTO - OPTIQUE | ACCESSOIRES PHOTO - OPTIQUE ...</td>\n",
       "      <td>INFORMATIQUE | CONNECTIQUE - ALIMENTATION | BA...</td>\n",
       "    </tr>\n",
       "    <tr>\n",
       "      <td>18001</td>\n",
       "      <td>Batterie pour CANON BP-406 - Batterie Camescop...</td>\n",
       "      <td>PHOTO - OPTIQUE | ACCESSOIRES PHOTO - OPTIQUE ...</td>\n",
       "      <td>INFORMATIQUE | CONNECTIQUE - ALIMENTATION | BA...</td>\n",
       "    </tr>\n",
       "    <tr>\n",
       "      <td>18003</td>\n",
       "      <td>Batterie pour PANASONIC DMC-FX7 - Batterie App...</td>\n",
       "      <td>PHOTO - OPTIQUE | ACCESSOIRES PHOTO - OPTIQUE ...</td>\n",
       "      <td>INFORMATIQUE | CONNECTIQUE - ALIMENTATION | BA...</td>\n",
       "    </tr>\n",
       "    <tr>\n",
       "      <td>18004</td>\n",
       "      <td>Specifications:Tension:14,4VCapacite:7800mAh/1...</td>\n",
       "      <td>PHOTO - OPTIQUE | ACCESSOIRES PHOTO - OPTIQUE ...</td>\n",
       "      <td>INFORMATIQUE | CONNECTIQUE - ALIMENTATION | BA...</td>\n",
       "    </tr>\n",
       "    <tr>\n",
       "      <td>18005</td>\n",
       "      <td>Batterie pour SAMSUNG SC-DC165 - Haute capacit...</td>\n",
       "      <td>PHOTO - OPTIQUE | ACCESSOIRES PHOTO - OPTIQUE ...</td>\n",
       "      <td>INFORMATIQUE | CONNECTIQUE - ALIMENTATION | BA...</td>\n",
       "    </tr>\n",
       "    <tr>\n",
       "      <td>...</td>\n",
       "      <td>...</td>\n",
       "      <td>...</td>\n",
       "      <td>...</td>\n",
       "    </tr>\n",
       "    <tr>\n",
       "      <td>18995</td>\n",
       "      <td>Specifications:Tension:3,7VCapacite:1200mAh/4W...</td>\n",
       "      <td>PHOTO - OPTIQUE | ACCESSOIRES PHOTO - OPTIQUE ...</td>\n",
       "      <td>INFORMATIQUE | CONNECTIQUE - ALIMENTATION | BA...</td>\n",
       "    </tr>\n",
       "    <tr>\n",
       "      <td>18996</td>\n",
       "      <td>Ordro HDV-D328 Batterie - CNP-40 Batterie pour...</td>\n",
       "      <td>PHOTO - OPTIQUE | ACCESSOIRES PHOTO - OPTIQUE ...</td>\n",
       "      <td>INFORMATIQUE | CONNECTIQUE - ALIMENTATION | BA...</td>\n",
       "    </tr>\n",
       "    <tr>\n",
       "      <td>18997</td>\n",
       "      <td>Batterie pour Sharp VL-NZ50S 950mAh - &lt;p&gt;Batte...</td>\n",
       "      <td>PHOTO - OPTIQUE | ACCESSOIRES PHOTO - OPTIQUE ...</td>\n",
       "      <td>INFORMATIQUE | CONNECTIQUE - ALIMENTATION | BA...</td>\n",
       "    </tr>\n",
       "    <tr>\n",
       "      <td>18998</td>\n",
       "      <td>Specifications:Tension:7,2VCapacite:4800mAh/34...</td>\n",
       "      <td>PHOTO - OPTIQUE | ACCESSOIRES PHOTO - OPTIQUE ...</td>\n",
       "      <td>INFORMATIQUE | CONNECTIQUE - ALIMENTATION | BA...</td>\n",
       "    </tr>\n",
       "    <tr>\n",
       "      <td>18999</td>\n",
       "      <td>Batterie pour JVC GZ-MG430B - Batterie pour JV...</td>\n",
       "      <td>PHOTO - OPTIQUE | ACCESSOIRES PHOTO - OPTIQUE ...</td>\n",
       "      <td>INFORMATIQUE | CONNECTIQUE - ALIMENTATION | BA...</td>\n",
       "    </tr>\n",
       "  </tbody>\n",
       "</table>\n",
       "<p>991 rows × 3 columns</p>\n",
       "</div>"
      ],
      "text/plain": [
       "                                                    desc  \\\n",
       "18000  Specifications:Tension:3,7VCapacite:800mAh/3Wh...   \n",
       "18001  Batterie pour CANON BP-406 - Batterie Camescop...   \n",
       "18003  Batterie pour PANASONIC DMC-FX7 - Batterie App...   \n",
       "18004  Specifications:Tension:14,4VCapacite:7800mAh/1...   \n",
       "18005  Batterie pour SAMSUNG SC-DC165 - Haute capacit...   \n",
       "...                                                  ...   \n",
       "18995  Specifications:Tension:3,7VCapacite:1200mAh/4W...   \n",
       "18996  Ordro HDV-D328 Batterie - CNP-40 Batterie pour...   \n",
       "18997  Batterie pour Sharp VL-NZ50S 950mAh - <p>Batte...   \n",
       "18998  Specifications:Tension:7,2VCapacite:4800mAh/34...   \n",
       "18999  Batterie pour JVC GZ-MG430B - Batterie pour JV...   \n",
       "\n",
       "                                               catégorie  \\\n",
       "18000  PHOTO - OPTIQUE | ACCESSOIRES PHOTO - OPTIQUE ...   \n",
       "18001  PHOTO - OPTIQUE | ACCESSOIRES PHOTO - OPTIQUE ...   \n",
       "18003  PHOTO - OPTIQUE | ACCESSOIRES PHOTO - OPTIQUE ...   \n",
       "18004  PHOTO - OPTIQUE | ACCESSOIRES PHOTO - OPTIQUE ...   \n",
       "18005  PHOTO - OPTIQUE | ACCESSOIRES PHOTO - OPTIQUE ...   \n",
       "...                                                  ...   \n",
       "18995  PHOTO - OPTIQUE | ACCESSOIRES PHOTO - OPTIQUE ...   \n",
       "18996  PHOTO - OPTIQUE | ACCESSOIRES PHOTO - OPTIQUE ...   \n",
       "18997  PHOTO - OPTIQUE | ACCESSOIRES PHOTO - OPTIQUE ...   \n",
       "18998  PHOTO - OPTIQUE | ACCESSOIRES PHOTO - OPTIQUE ...   \n",
       "18999  PHOTO - OPTIQUE | ACCESSOIRES PHOTO - OPTIQUE ...   \n",
       "\n",
       "                                          classification  \n",
       "18000  INFORMATIQUE | CONNECTIQUE - ALIMENTATION | BA...  \n",
       "18001  INFORMATIQUE | CONNECTIQUE - ALIMENTATION | BA...  \n",
       "18003  INFORMATIQUE | CONNECTIQUE - ALIMENTATION | BA...  \n",
       "18004  INFORMATIQUE | CONNECTIQUE - ALIMENTATION | BA...  \n",
       "18005  INFORMATIQUE | CONNECTIQUE - ALIMENTATION | BA...  \n",
       "...                                                  ...  \n",
       "18995  INFORMATIQUE | CONNECTIQUE - ALIMENTATION | BA...  \n",
       "18996  INFORMATIQUE | CONNECTIQUE - ALIMENTATION | BA...  \n",
       "18997  INFORMATIQUE | CONNECTIQUE - ALIMENTATION | BA...  \n",
       "18998  INFORMATIQUE | CONNECTIQUE - ALIMENTATION | BA...  \n",
       "18999  INFORMATIQUE | CONNECTIQUE - ALIMENTATION | BA...  \n",
       "\n",
       "[991 rows x 3 columns]"
      ]
     },
     "execution_count": 53,
     "metadata": {},
     "output_type": "execute_result"
    }
   ],
   "source": [
    "faux = gg[gg[\"catégorie\"]!=gg[\"classification\"]]\n",
    "faux[faux[\"catégorie\"]== 'PHOTO - OPTIQUE | ACCESSOIRES PHOTO - OPTIQUE | BATTERIE PHOTO - OPTIQUE']"
   ]
  },
  {
   "cell_type": "markdown",
   "metadata": {},
   "source": [
    "CCL :"
   ]
  },
  {
   "cell_type": "markdown",
   "metadata": {},
   "source": [
    "Se trompe beaucoup (~1000 obs.) pour les mots \"batterie\", \"chargeur\", \"bracelet\" qui sont dans plusieurs catégories différentes. Beaucoup d'erreur pour les catégories de bijoux, d'informatique car mots similaires.\n",
    "\n",
    "Se trompe pour les livres de la littérature française (996 obs.)"
   ]
  },
  {
   "cell_type": "markdown",
   "metadata": {},
   "source": [
    "Similarité entre marque d'imprimante et d'appareil photo (Canon)."
   ]
  },
  {
   "cell_type": "markdown",
   "metadata": {},
   "source": [
    "Solutions envisageable : peaufiner les mots-clés, en ajouter d'autres, etc."
   ]
  },
  {
   "cell_type": "markdown",
   "metadata": {},
   "source": [
    "On peut regarder les problèmes dans notre classification (classification = 0)."
   ]
  },
  {
   "cell_type": "markdown",
   "metadata": {},
   "source": [
    "(8)"
   ]
  },
  {
   "cell_type": "code",
   "execution_count": 57,
   "metadata": {},
   "outputs": [
    {
     "data": {
      "text/html": [
       "<div>\n",
       "<style scoped>\n",
       "    .dataframe tbody tr th:only-of-type {\n",
       "        vertical-align: middle;\n",
       "    }\n",
       "\n",
       "    .dataframe tbody tr th {\n",
       "        vertical-align: top;\n",
       "    }\n",
       "\n",
       "    .dataframe thead th {\n",
       "        text-align: right;\n",
       "    }\n",
       "</style>\n",
       "<table border=\"1\" class=\"dataframe\">\n",
       "  <thead>\n",
       "    <tr style=\"text-align: right;\">\n",
       "      <th></th>\n",
       "      <th>desc</th>\n",
       "      <th>catégorie</th>\n",
       "      <th>classification</th>\n",
       "    </tr>\n",
       "  </thead>\n",
       "  <tbody>\n",
       "    <tr>\n",
       "      <td>297</td>\n",
       "      <td>CompatibilitéiPhone 4, iPhone 4/4S, Caractéris...</td>\n",
       "      <td>TELEPHONIE - GPS | ACCESSOIRE TELEPHONE | COQU...</td>\n",
       "      <td>0</td>\n",
       "    </tr>\n",
       "    <tr>\n",
       "      <td>299</td>\n",
       "      <td>VINTAGEMANETTE NINTENDO NESCOULEUR GRISENEUVEI...</td>\n",
       "      <td>TELEPHONIE - GPS | ACCESSOIRE TELEPHONE | COQU...</td>\n",
       "      <td>0</td>\n",
       "    </tr>\n",
       "    <tr>\n",
       "      <td>896</td>\n",
       "      <td>CompatibilitéiPhone 5S, iPhone 5, Caractéristi...</td>\n",
       "      <td>TELEPHONIE - GPS | ACCESSOIRE TELEPHONE | COQU...</td>\n",
       "      <td>0</td>\n",
       "    </tr>\n",
       "    <tr>\n",
       "      <td>977</td>\n",
       "      <td>CompatibilitéiPhone 4/4S, CaractéristiquesCouv...</td>\n",
       "      <td>TELEPHONIE - GPS | ACCESSOIRE TELEPHONE | COQU...</td>\n",
       "      <td>0</td>\n",
       "    </tr>\n",
       "    <tr>\n",
       "      <td>1010</td>\n",
       "      <td>The Cambridge Companion to Baseball - Cassuto,...</td>\n",
       "      <td>LIBRAIRIE | AUTRES LIVRES | AUTRES LIVRES</td>\n",
       "      <td>0</td>\n",
       "    </tr>\n",
       "    <tr>\n",
       "      <td>...</td>\n",
       "      <td>...</td>\n",
       "      <td>...</td>\n",
       "      <td>...</td>\n",
       "    </tr>\n",
       "    <tr>\n",
       "      <td>17895</td>\n",
       "      <td>Brother HL-5140 LT - Original Brother DR-3000 ...</td>\n",
       "      <td>INFORMATIQUE | IMPRESSION - SCANNER | TONER - ...</td>\n",
       "      <td>0</td>\n",
       "    </tr>\n",
       "    <tr>\n",
       "      <td>17922</td>\n",
       "      <td>OKI C 5950 - Original OKI 43870022 - Tambour M...</td>\n",
       "      <td>INFORMATIQUE | IMPRESSION - SCANNER | TONER - ...</td>\n",
       "      <td>0</td>\n",
       "    </tr>\n",
       "    <tr>\n",
       "      <td>17940</td>\n",
       "      <td>Lexmark X 466 - Original Lexmark 0E260X22G - T...</td>\n",
       "      <td>INFORMATIQUE | IMPRESSION - SCANNER | TONER - ...</td>\n",
       "      <td>0</td>\n",
       "    </tr>\n",
       "    <tr>\n",
       "      <td>17972</td>\n",
       "      <td>SAGEM - Drum DRM 756 20Ksh f MF35x/3625-3660-8...</td>\n",
       "      <td>INFORMATIQUE | IMPRESSION - SCANNER | TONER - ...</td>\n",
       "      <td>0</td>\n",
       "    </tr>\n",
       "    <tr>\n",
       "      <td>17994</td>\n",
       "      <td>OKI C 9600 HDTN - Original OKI 42918105 - Tamb...</td>\n",
       "      <td>INFORMATIQUE | IMPRESSION - SCANNER | TONER - ...</td>\n",
       "      <td>0</td>\n",
       "    </tr>\n",
       "  </tbody>\n",
       "</table>\n",
       "<p>1774 rows × 3 columns</p>\n",
       "</div>"
      ],
      "text/plain": [
       "                                                    desc  \\\n",
       "297    CompatibilitéiPhone 4, iPhone 4/4S, Caractéris...   \n",
       "299    VINTAGEMANETTE NINTENDO NESCOULEUR GRISENEUVEI...   \n",
       "896    CompatibilitéiPhone 5S, iPhone 5, Caractéristi...   \n",
       "977    CompatibilitéiPhone 4/4S, CaractéristiquesCouv...   \n",
       "1010   The Cambridge Companion to Baseball - Cassuto,...   \n",
       "...                                                  ...   \n",
       "17895  Brother HL-5140 LT - Original Brother DR-3000 ...   \n",
       "17922  OKI C 5950 - Original OKI 43870022 - Tambour M...   \n",
       "17940  Lexmark X 466 - Original Lexmark 0E260X22G - T...   \n",
       "17972  SAGEM - Drum DRM 756 20Ksh f MF35x/3625-3660-8...   \n",
       "17994  OKI C 9600 HDTN - Original OKI 42918105 - Tamb...   \n",
       "\n",
       "                                               catégorie classification  \n",
       "297    TELEPHONIE - GPS | ACCESSOIRE TELEPHONE | COQU...              0  \n",
       "299    TELEPHONIE - GPS | ACCESSOIRE TELEPHONE | COQU...              0  \n",
       "896    TELEPHONIE - GPS | ACCESSOIRE TELEPHONE | COQU...              0  \n",
       "977    TELEPHONIE - GPS | ACCESSOIRE TELEPHONE | COQU...              0  \n",
       "1010           LIBRAIRIE | AUTRES LIVRES | AUTRES LIVRES              0  \n",
       "...                                                  ...            ...  \n",
       "17895  INFORMATIQUE | IMPRESSION - SCANNER | TONER - ...              0  \n",
       "17922  INFORMATIQUE | IMPRESSION - SCANNER | TONER - ...              0  \n",
       "17940  INFORMATIQUE | IMPRESSION - SCANNER | TONER - ...              0  \n",
       "17972  INFORMATIQUE | IMPRESSION - SCANNER | TONER - ...              0  \n",
       "17994  INFORMATIQUE | IMPRESSION - SCANNER | TONER - ...              0  \n",
       "\n",
       "[1774 rows x 3 columns]"
      ]
     },
     "execution_count": 57,
     "metadata": {},
     "output_type": "execute_result"
    }
   ],
   "source": [
    "gg[gg[\"classification\"]==0]"
   ]
  },
  {
   "cell_type": "markdown",
   "metadata": {},
   "source": [
    "1174 problèmes de classification."
   ]
  },
  {
   "cell_type": "code",
   "execution_count": 58,
   "metadata": {},
   "outputs": [
    {
     "data": {
      "text/plain": [
       "297      CompatibilitéiPhone 4, iPhone 4/4S, Caractéris...\n",
       "299      VINTAGEMANETTE NINTENDO NESCOULEUR GRISENEUVEI...\n",
       "896      CompatibilitéiPhone 5S, iPhone 5, Caractéristi...\n",
       "977      CompatibilitéiPhone 4/4S, CaractéristiquesCouv...\n",
       "1010     The Cambridge Companion to Baseball - Cassuto,...\n",
       "                               ...                        \n",
       "17895    Brother HL-5140 LT - Original Brother DR-3000 ...\n",
       "17922    OKI C 5950 - Original OKI 43870022 - Tambour M...\n",
       "17940    Lexmark X 466 - Original Lexmark 0E260X22G - T...\n",
       "17972    SAGEM - Drum DRM 756 20Ksh f MF35x/3625-3660-8...\n",
       "17994    OKI C 9600 HDTN - Original OKI 42918105 - Tamb...\n",
       "Name: desc, Length: 1774, dtype: object"
      ]
     },
     "execution_count": 58,
     "metadata": {},
     "output_type": "execute_result"
    }
   ],
   "source": [
    "classe0 = gg[gg[\"classification\"]==0]\n",
    "classe0[\"desc\"]"
   ]
  },
  {
   "cell_type": "code",
   "execution_count": 59,
   "metadata": {},
   "outputs": [
    {
     "name": "stdout",
     "output_type": "stream",
     "text": [
      "CompatibilitéiPhone 4, iPhone 4/4S, CaractéristiquesCouvre arrière, MatérielPolycarbonate, StyleDesign spécial, CouleurDoré, Noir, Dime\n",
      "VINTAGEMANETTE NINTENDO NESCOULEUR GRISENEUVEIPHONE 5Pour nous suivre aimez la 97eme https://www.facebook.com/la97eme\n",
      "Real Influence - Goulston, Mark - Real Influence - Goulston, Mark",
      " Voir la présentation\n"
     ]
    }
   ],
   "source": [
    "print(classe0[\"desc\"][297])\n",
    "print(classe0[\"desc\"][299])\n",
    "print(classe0[\"desc\"][1955])"
   ]
  },
  {
   "cell_type": "markdown",
   "metadata": {},
   "source": [
    "Description insuffisante pour classifier."
   ]
  },
  {
   "cell_type": "code",
   "execution_count": 17,
   "metadata": {},
   "outputs": [
    {
     "data": {
      "text/html": [
       "<div>\n",
       "<style scoped>\n",
       "    .dataframe tbody tr th:only-of-type {\n",
       "        vertical-align: middle;\n",
       "    }\n",
       "\n",
       "    .dataframe tbody tr th {\n",
       "        vertical-align: top;\n",
       "    }\n",
       "\n",
       "    .dataframe thead th {\n",
       "        text-align: right;\n",
       "    }\n",
       "</style>\n",
       "<table border=\"1\" class=\"dataframe\">\n",
       "  <thead>\n",
       "    <tr style=\"text-align: right;\">\n",
       "      <th></th>\n",
       "      <th>desc</th>\n",
       "      <th>catégorie</th>\n",
       "      <th>classification</th>\n",
       "    </tr>\n",
       "  </thead>\n",
       "  <tbody>\n",
       "    <tr>\n",
       "      <td>1010</td>\n",
       "      <td>The Cambridge Companion to Baseball - Cassuto,...</td>\n",
       "      <td>LIBRAIRIE | AUTRES LIVRES | AUTRES LIVRES</td>\n",
       "      <td>0</td>\n",
       "    </tr>\n",
       "    <tr>\n",
       "      <td>1019</td>\n",
       "      <td>The Diplomat's Wife - Pam Jenoff - The Diploma...</td>\n",
       "      <td>LIBRAIRIE | AUTRES LIVRES | AUTRES LIVRES</td>\n",
       "      <td>0</td>\n",
       "    </tr>\n",
       "    <tr>\n",
       "      <td>1020</td>\n",
       "      <td>ECRIN/TROUSSE ROSE RIGIDE A ELASTIQUE - MOLESKINE</td>\n",
       "      <td>LIBRAIRIE | AUTRES LIVRES | AUTRES LIVRES</td>\n",
       "      <td>0</td>\n",
       "    </tr>\n",
       "    <tr>\n",
       "      <td>1022</td>\n",
       "      <td>General Anatomy - Eizenberg, - General Anatomy...</td>\n",
       "      <td>LIBRAIRIE | AUTRES LIVRES | AUTRES LIVRES</td>\n",
       "      <td>0</td>\n",
       "    </tr>\n",
       "    <tr>\n",
       "      <td>1023</td>\n",
       "      <td>TASSE CONTES DE GRIMM CF - BERNADETTE</td>\n",
       "      <td>LIBRAIRIE | AUTRES LIVRES | AUTRES LIVRES</td>\n",
       "      <td>0</td>\n",
       "    </tr>\n",
       "    <tr>\n",
       "      <td>...</td>\n",
       "      <td>...</td>\n",
       "      <td>...</td>\n",
       "      <td>...</td>\n",
       "    </tr>\n",
       "    <tr>\n",
       "      <td>1955</td>\n",
       "      <td>Real Influence - Goulston, Mark - Real Influen...</td>\n",
       "      <td>LIBRAIRIE | AUTRES LIVRES | AUTRES LIVRES</td>\n",
       "      <td>0</td>\n",
       "    </tr>\n",
       "    <tr>\n",
       "      <td>1960</td>\n",
       "      <td>An Offer You Can't Refuse - Jill Mansell - An ...</td>\n",
       "      <td>LIBRAIRIE | AUTRES LIVRES | AUTRES LIVRES</td>\n",
       "      <td>0</td>\n",
       "    </tr>\n",
       "    <tr>\n",
       "      <td>1963</td>\n",
       "      <td>Schooling - Heather McGowan - Schooling - Heat...</td>\n",
       "      <td>LIBRAIRIE | AUTRES LIVRES | AUTRES LIVRES</td>\n",
       "      <td>0</td>\n",
       "    </tr>\n",
       "    <tr>\n",
       "      <td>1967</td>\n",
       "      <td>Savage Stone Age - Deary, Terry - Savage Stone...</td>\n",
       "      <td>LIBRAIRIE | AUTRES LIVRES | AUTRES LIVRES</td>\n",
       "      <td>0</td>\n",
       "    </tr>\n",
       "    <tr>\n",
       "      <td>1971</td>\n",
       "      <td>The Scent of Water - Elizabeth Goudge - The Sc...</td>\n",
       "      <td>LIBRAIRIE | AUTRES LIVRES | AUTRES LIVRES</td>\n",
       "      <td>0</td>\n",
       "    </tr>\n",
       "  </tbody>\n",
       "</table>\n",
       "<p>114 rows × 3 columns</p>\n",
       "</div>"
      ],
      "text/plain": [
       "                                                   desc  \\\n",
       "1010  The Cambridge Companion to Baseball - Cassuto,...   \n",
       "1019  The Diplomat's Wife - Pam Jenoff - The Diploma...   \n",
       "1020  ECRIN/TROUSSE ROSE RIGIDE A ELASTIQUE - MOLESKINE   \n",
       "1022  General Anatomy - Eizenberg, - General Anatomy...   \n",
       "1023              TASSE CONTES DE GRIMM CF - BERNADETTE   \n",
       "...                                                 ...   \n",
       "1955  Real Influence - Goulston, Mark - Real Influen...   \n",
       "1960  An Offer You Can't Refuse - Jill Mansell - An ...   \n",
       "1963  Schooling - Heather McGowan - Schooling - Heat...   \n",
       "1967  Savage Stone Age - Deary, Terry - Savage Stone...   \n",
       "1971  The Scent of Water - Elizabeth Goudge - The Sc...   \n",
       "\n",
       "                                      catégorie classification  \n",
       "1010  LIBRAIRIE | AUTRES LIVRES | AUTRES LIVRES              0  \n",
       "1019  LIBRAIRIE | AUTRES LIVRES | AUTRES LIVRES              0  \n",
       "1020  LIBRAIRIE | AUTRES LIVRES | AUTRES LIVRES              0  \n",
       "1022  LIBRAIRIE | AUTRES LIVRES | AUTRES LIVRES              0  \n",
       "1023  LIBRAIRIE | AUTRES LIVRES | AUTRES LIVRES              0  \n",
       "...                                         ...            ...  \n",
       "1955  LIBRAIRIE | AUTRES LIVRES | AUTRES LIVRES              0  \n",
       "1960  LIBRAIRIE | AUTRES LIVRES | AUTRES LIVRES              0  \n",
       "1963  LIBRAIRIE | AUTRES LIVRES | AUTRES LIVRES              0  \n",
       "1967  LIBRAIRIE | AUTRES LIVRES | AUTRES LIVRES              0  \n",
       "1971  LIBRAIRIE | AUTRES LIVRES | AUTRES LIVRES              0  \n",
       "\n",
       "[114 rows x 3 columns]"
      ]
     },
     "execution_count": 17,
     "metadata": {},
     "output_type": "execute_result"
    }
   ],
   "source": [
    "classe0[classe0[\"catégorie\"]=='LIBRAIRIE | AUTRES LIVRES | AUTRES LIVRES']"
   ]
  },
  {
   "cell_type": "markdown",
   "metadata": {},
   "source": [
    "114 livres non classifiés. Description non reconnaissable."
   ]
  },
  {
   "cell_type": "markdown",
   "metadata": {},
   "source": [
    "### Test"
   ]
  },
  {
   "cell_type": "markdown",
   "metadata": {},
   "source": [
    "(9)"
   ]
  },
  {
   "cell_type": "code",
   "execution_count": 60,
   "metadata": {},
   "outputs": [
    {
     "data": {
      "text/html": [
       "<div>\n",
       "<style scoped>\n",
       "    .dataframe tbody tr th:only-of-type {\n",
       "        vertical-align: middle;\n",
       "    }\n",
       "\n",
       "    .dataframe tbody tr th {\n",
       "        vertical-align: top;\n",
       "    }\n",
       "\n",
       "    .dataframe thead th {\n",
       "        text-align: right;\n",
       "    }\n",
       "</style>\n",
       "<table border=\"1\" class=\"dataframe\">\n",
       "  <thead>\n",
       "    <tr style=\"text-align: right;\">\n",
       "      <th></th>\n",
       "      <th>id</th>\n",
       "      <th>title</th>\n",
       "      <th>description</th>\n",
       "    </tr>\n",
       "  </thead>\n",
       "  <tbody>\n",
       "    <tr>\n",
       "      <td>0</td>\n",
       "      <td>0</td>\n",
       "      <td>HTC One X / X+ coque dure case noir - Naives K...</td>\n",
       "      <td>HTC One X / X+ coque dure case noir - Naives K...</td>\n",
       "    </tr>\n",
       "    <tr>\n",
       "      <td>1</td>\n",
       "      <td>1</td>\n",
       "      <td>Xoxo XO1084 femmes Montre</td>\n",
       "      <td>Xoxo XO1084 femmes Montre - Acheter Authentiqu...</td>\n",
       "    </tr>\n",
       "    <tr>\n",
       "      <td>2</td>\n",
       "      <td>2</td>\n",
       "      <td>L'Europe et la Révolution française. I, Les mo...</td>\n",
       "      <td>Albert Sorel</td>\n",
       "    </tr>\n",
       "    <tr>\n",
       "      <td>3</td>\n",
       "      <td>3</td>\n",
       "      <td>Kit Gros Freins K-Sport 8 Pistons RENAULT NEW</td>\n",
       "      <td>Kit Gros Freins K-Sport 8 Pistons RENAULT NEW ...</td>\n",
       "    </tr>\n",
       "    <tr>\n",
       "      <td>4</td>\n",
       "      <td>4</td>\n",
       "      <td>Chargeur + Chargeur allume cigare + Cable USB +</td>\n",
       "      <td>Chargeur + Chargeur allume cigare + Cable USB ...</td>\n",
       "    </tr>\n",
       "    <tr>\n",
       "      <td>...</td>\n",
       "      <td>...</td>\n",
       "      <td>...</td>\n",
       "      <td>...</td>\n",
       "    </tr>\n",
       "    <tr>\n",
       "      <td>19995</td>\n",
       "      <td>19995</td>\n",
       "      <td>T-shirt Manga - Parodie Nar XL</td>\n",
       "      <td>T-shirt Manga - Parodie Naruto Shippuden - Pas...</td>\n",
       "    </tr>\n",
       "    <tr>\n",
       "      <td>19996</td>\n",
       "      <td>19996</td>\n",
       "      <td>Fossil JR9824 Mens Trend montre</td>\n",
       "      <td>Fossil JR9824 Mens Trend montre - Authentique ...</td>\n",
       "    </tr>\n",
       "    <tr>\n",
       "      <td>19997</td>\n",
       "      <td>19997</td>\n",
       "      <td>Pack charge 3 en 1 Colorblock gris métal micro</td>\n",
       "      <td>Pack charge 3 en 1 Colorblock gris métal micro...</td>\n",
       "    </tr>\n",
       "    <tr>\n",
       "      <td>19998</td>\n",
       "      <td>19998</td>\n",
       "      <td>Bracelet EQ Balance - Couleur - Blanc, Deuxieme</td>\n",
       "      <td>Bracelet EQ Balance - Couleur - Blanc, Deuxiem...</td>\n",
       "    </tr>\n",
       "    <tr>\n",
       "      <td>19999</td>\n",
       "      <td>19999</td>\n",
       "      <td>Housse TPU 2 Tons Moxie noire mat et brillant -</td>\n",
       "      <td>Housse TPU 2 Tons Moxie noire mat et brillant ...</td>\n",
       "    </tr>\n",
       "  </tbody>\n",
       "</table>\n",
       "<p>20000 rows × 3 columns</p>\n",
       "</div>"
      ],
      "text/plain": [
       "          id                                              title  \\\n",
       "0          0  HTC One X / X+ coque dure case noir - Naives K...   \n",
       "1          1                          Xoxo XO1084 femmes Montre   \n",
       "2          2  L'Europe et la Révolution française. I, Les mo...   \n",
       "3          3   Kit Gros Freins K-Sport 8 Pistons RENAULT NEW  \n",
       "   \n",
       "4          4   Chargeur + Chargeur allume cigare + Cable USB +\n",
       "   \n",
       "...      ...                                                ...   \n",
       "19995  19995                     T-shirt Manga - Parodie Nar XL   \n",
       "19996  19996                    Fossil JR9824 Mens Trend montre   \n",
       "19997  19997   Pack charge 3 en 1 Colorblock gris métal micro \n",
       "   \n",
       "19998  19998   Bracelet EQ Balance - Couleur - Blanc, Deuxieme\n",
       "   \n",
       "19999  19999   Housse TPU 2 Tons Moxie noire mat et brillant -\n",
       "   \n",
       "\n",
       "                                             description  \n",
       "0      HTC One X / X+ coque dure case noir - Naives K...  \n",
       "1      Xoxo XO1084 femmes Montre - Acheter Authentiqu...  \n",
       "2                                           Albert Sorel  \n",
       "3      Kit Gros Freins K-Sport 8 Pistons RENAULT NEW ...  \n",
       "4      Chargeur + Chargeur allume cigare + Cable USB ...  \n",
       "...                                                  ...  \n",
       "19995  T-shirt Manga - Parodie Naruto Shippuden - Pas...  \n",
       "19996  Fossil JR9824 Mens Trend montre - Authentique ...  \n",
       "19997  Pack charge 3 en 1 Colorblock gris métal micro...  \n",
       "19998  Bracelet EQ Balance - Couleur - Blanc, Deuxiem...  \n",
       "19999  Housse TPU 2 Tons Moxie noire mat et brillant ...  \n",
       "\n",
       "[20000 rows x 3 columns]"
      ]
     },
     "execution_count": 60,
     "metadata": {},
     "output_type": "execute_result"
    }
   ],
   "source": [
    "test"
   ]
  },
  {
   "cell_type": "code",
   "execution_count": 61,
   "metadata": {},
   "outputs": [
    {
     "data": {
      "text/html": [
       "<div>\n",
       "<style scoped>\n",
       "    .dataframe tbody tr th:only-of-type {\n",
       "        vertical-align: middle;\n",
       "    }\n",
       "\n",
       "    .dataframe tbody tr th {\n",
       "        vertical-align: top;\n",
       "    }\n",
       "\n",
       "    .dataframe thead th {\n",
       "        text-align: right;\n",
       "    }\n",
       "</style>\n",
       "<table border=\"1\" class=\"dataframe\">\n",
       "  <thead>\n",
       "    <tr style=\"text-align: right;\">\n",
       "      <th></th>\n",
       "      <th>desc</th>\n",
       "      <th>classification</th>\n",
       "    </tr>\n",
       "  </thead>\n",
       "  <tbody>\n",
       "    <tr>\n",
       "      <td>0</td>\n",
       "      <td>HTC One X / X+ coque dure case noir - Naives K...</td>\n",
       "      <td>TELEPHONIE - GPS | ACCESSOIRE TELEPHONE | COQU...</td>\n",
       "    </tr>\n",
       "    <tr>\n",
       "      <td>1</td>\n",
       "      <td>Xoxo XO1084 femmes Montre - Acheter Authentiqu...</td>\n",
       "      <td>BIJOUX -  LUNETTES - MONTRES | MONTRES | MONTR...</td>\n",
       "    </tr>\n",
       "    <tr>\n",
       "      <td>2</td>\n",
       "      <td>Albert Sorel</td>\n",
       "      <td>0</td>\n",
       "    </tr>\n",
       "    <tr>\n",
       "      <td>3</td>\n",
       "      <td>Kit Gros Freins K-Sport 8 Pistons RENAULT NEW ...</td>\n",
       "      <td>AUTO - MOTO (NEW) | PIECES | KIT GROS FREIN</td>\n",
       "    </tr>\n",
       "    <tr>\n",
       "      <td>4</td>\n",
       "      <td>Chargeur + Chargeur allume cigare + Cable USB ...</td>\n",
       "      <td>INFORMATIQUE | CONNECTIQUE - ALIMENTATION | CH...</td>\n",
       "    </tr>\n",
       "    <tr>\n",
       "      <td>...</td>\n",
       "      <td>...</td>\n",
       "      <td>...</td>\n",
       "    </tr>\n",
       "    <tr>\n",
       "      <td>19995</td>\n",
       "      <td>T-shirt Manga - Parodie Naruto Shippuden - Pas...</td>\n",
       "      <td>VETEMENTS - LINGERIE  | T-SHIRT - DEBARDEUR | ...</td>\n",
       "    </tr>\n",
       "    <tr>\n",
       "      <td>19996</td>\n",
       "      <td>Fossil JR9824 Mens Trend montre - Authentique ...</td>\n",
       "      <td>BIJOUX -  LUNETTES - MONTRES | MONTRES | MONTR...</td>\n",
       "    </tr>\n",
       "    <tr>\n",
       "      <td>19997</td>\n",
       "      <td>Pack charge 3 en 1 Colorblock gris métal micro...</td>\n",
       "      <td>0</td>\n",
       "    </tr>\n",
       "    <tr>\n",
       "      <td>19998</td>\n",
       "      <td>Bracelet EQ Balance - Couleur - Blanc, Deuxiem...</td>\n",
       "      <td>BIJOUX -  LUNETTES - MONTRES | MONTRES | MONTR...</td>\n",
       "    </tr>\n",
       "    <tr>\n",
       "      <td>19999</td>\n",
       "      <td>Housse TPU 2 Tons Moxie noire mat et brillant ...</td>\n",
       "      <td>TELEPHONIE - GPS | ACCESSOIRE TELEPHONE | HOUS...</td>\n",
       "    </tr>\n",
       "  </tbody>\n",
       "</table>\n",
       "<p>20000 rows × 2 columns</p>\n",
       "</div>"
      ],
      "text/plain": [
       "                                                    desc  \\\n",
       "0      HTC One X / X+ coque dure case noir - Naives K...   \n",
       "1      Xoxo XO1084 femmes Montre - Acheter Authentiqu...   \n",
       "2                                           Albert Sorel   \n",
       "3      Kit Gros Freins K-Sport 8 Pistons RENAULT NEW ...   \n",
       "4      Chargeur + Chargeur allume cigare + Cable USB ...   \n",
       "...                                                  ...   \n",
       "19995  T-shirt Manga - Parodie Naruto Shippuden - Pas...   \n",
       "19996  Fossil JR9824 Mens Trend montre - Authentique ...   \n",
       "19997  Pack charge 3 en 1 Colorblock gris métal micro...   \n",
       "19998  Bracelet EQ Balance - Couleur - Blanc, Deuxiem...   \n",
       "19999  Housse TPU 2 Tons Moxie noire mat et brillant ...   \n",
       "\n",
       "                                          classification  \n",
       "0      TELEPHONIE - GPS | ACCESSOIRE TELEPHONE | COQU...  \n",
       "1      BIJOUX -  LUNETTES - MONTRES | MONTRES | MONTR...  \n",
       "2                                                      0  \n",
       "3            AUTO - MOTO (NEW) | PIECES | KIT GROS FREIN  \n",
       "4      INFORMATIQUE | CONNECTIQUE - ALIMENTATION | CH...  \n",
       "...                                                  ...  \n",
       "19995  VETEMENTS - LINGERIE  | T-SHIRT - DEBARDEUR | ...  \n",
       "19996  BIJOUX -  LUNETTES - MONTRES | MONTRES | MONTR...  \n",
       "19997                                                  0  \n",
       "19998  BIJOUX -  LUNETTES - MONTRES | MONTRES | MONTR...  \n",
       "19999  TELEPHONIE - GPS | ACCESSOIRE TELEPHONE | HOUS...  \n",
       "\n",
       "[20000 rows x 2 columns]"
      ]
     },
     "execution_count": 61,
     "metadata": {},
     "output_type": "execute_result"
    }
   ],
   "source": [
    "algo(test[\"description\"],train)[[\"desc\",\"classification\"]]"
   ]
  },
  {
   "cell_type": "markdown",
   "metadata": {},
   "source": [
    "Voici nos prédictions."
   ]
  },
  {
   "cell_type": "code",
   "execution_count": 20,
   "metadata": {},
   "outputs": [
    {
     "data": {
      "text/html": [
       "<div>\n",
       "<style scoped>\n",
       "    .dataframe tbody tr th:only-of-type {\n",
       "        vertical-align: middle;\n",
       "    }\n",
       "\n",
       "    .dataframe tbody tr th {\n",
       "        vertical-align: top;\n",
       "    }\n",
       "\n",
       "    .dataframe thead th {\n",
       "        text-align: right;\n",
       "    }\n",
       "</style>\n",
       "<table border=\"1\" class=\"dataframe\">\n",
       "  <thead>\n",
       "    <tr style=\"text-align: right;\">\n",
       "      <th></th>\n",
       "      <th>time</th>\n",
       "      <th>amount</th>\n",
       "    </tr>\n",
       "  </thead>\n",
       "  <tbody>\n",
       "    <tr>\n",
       "      <td>0</td>\n",
       "      <td>2017-09-01 00:00:05</td>\n",
       "      <td>9.950000</td>\n",
       "    </tr>\n",
       "    <tr>\n",
       "      <td>1</td>\n",
       "      <td>2017-09-01 00:00:05</td>\n",
       "      <td>10.890000</td>\n",
       "    </tr>\n",
       "    <tr>\n",
       "      <td>2</td>\n",
       "      <td>2017-09-01 00:00:09</td>\n",
       "      <td>26.990000</td>\n",
       "    </tr>\n",
       "    <tr>\n",
       "      <td>3</td>\n",
       "      <td>2017-09-01 00:00:16</td>\n",
       "      <td>285.679993</td>\n",
       "    </tr>\n",
       "    <tr>\n",
       "      <td>4</td>\n",
       "      <td>2017-09-01 00:00:18</td>\n",
       "      <td>14.990000</td>\n",
       "    </tr>\n",
       "    <tr>\n",
       "      <td>...</td>\n",
       "      <td>...</td>\n",
       "      <td>...</td>\n",
       "    </tr>\n",
       "    <tr>\n",
       "      <td>51704</td>\n",
       "      <td>2017-09-01 23:59:25</td>\n",
       "      <td>6.970000</td>\n",
       "    </tr>\n",
       "    <tr>\n",
       "      <td>51705</td>\n",
       "      <td>2017-09-01 23:59:30</td>\n",
       "      <td>49.779999</td>\n",
       "    </tr>\n",
       "    <tr>\n",
       "      <td>51706</td>\n",
       "      <td>2017-09-01 23:59:30</td>\n",
       "      <td>1.000000</td>\n",
       "    </tr>\n",
       "    <tr>\n",
       "      <td>51707</td>\n",
       "      <td>2017-09-01 23:59:33</td>\n",
       "      <td>29.990000</td>\n",
       "    </tr>\n",
       "    <tr>\n",
       "      <td>51708</td>\n",
       "      <td>2017-09-01 23:59:33</td>\n",
       "      <td>16.990000</td>\n",
       "    </tr>\n",
       "  </tbody>\n",
       "</table>\n",
       "<p>51709 rows × 2 columns</p>\n",
       "</div>"
      ],
      "text/plain": [
       "                      time      amount\n",
       "0      2017-09-01 00:00:05    9.950000\n",
       "1      2017-09-01 00:00:05   10.890000\n",
       "2      2017-09-01 00:00:09   26.990000\n",
       "3      2017-09-01 00:00:16  285.679993\n",
       "4      2017-09-01 00:00:18   14.990000\n",
       "...                    ...         ...\n",
       "51704  2017-09-01 23:59:25    6.970000\n",
       "51705  2017-09-01 23:59:30   49.779999\n",
       "51706  2017-09-01 23:59:30    1.000000\n",
       "51707  2017-09-01 23:59:33   29.990000\n",
       "51708  2017-09-01 23:59:33   16.990000\n",
       "\n",
       "[51709 rows x 2 columns]"
      ]
     },
     "execution_count": 20,
     "metadata": {},
     "output_type": "execute_result"
    }
   ],
   "source": [
    "purchases"
   ]
  },
  {
   "cell_type": "markdown",
   "metadata": {},
   "source": [
    "### Préparation des données"
   ]
  },
  {
   "cell_type": "markdown",
   "metadata": {},
   "source": [
    "(10)"
   ]
  },
  {
   "cell_type": "markdown",
   "metadata": {},
   "source": [
    "On veut le nombre d'heures écoulées dans la journée."
   ]
  },
  {
   "cell_type": "code",
   "execution_count": 65,
   "metadata": {},
   "outputs": [
    {
     "data": {
      "text/html": [
       "<div>\n",
       "<style scoped>\n",
       "    .dataframe tbody tr th:only-of-type {\n",
       "        vertical-align: middle;\n",
       "    }\n",
       "\n",
       "    .dataframe tbody tr th {\n",
       "        vertical-align: top;\n",
       "    }\n",
       "\n",
       "    .dataframe thead th {\n",
       "        text-align: right;\n",
       "    }\n",
       "</style>\n",
       "<table border=\"1\" class=\"dataframe\">\n",
       "  <thead>\n",
       "    <tr style=\"text-align: right;\">\n",
       "      <th></th>\n",
       "      <th>heure</th>\n",
       "      <th>amount</th>\n",
       "    </tr>\n",
       "  </thead>\n",
       "  <tbody>\n",
       "    <tr>\n",
       "      <td>0</td>\n",
       "      <td>0</td>\n",
       "      <td>9.950000</td>\n",
       "    </tr>\n",
       "    <tr>\n",
       "      <td>1</td>\n",
       "      <td>0</td>\n",
       "      <td>10.890000</td>\n",
       "    </tr>\n",
       "    <tr>\n",
       "      <td>2</td>\n",
       "      <td>0</td>\n",
       "      <td>26.990000</td>\n",
       "    </tr>\n",
       "    <tr>\n",
       "      <td>3</td>\n",
       "      <td>0</td>\n",
       "      <td>285.679993</td>\n",
       "    </tr>\n",
       "    <tr>\n",
       "      <td>4</td>\n",
       "      <td>0</td>\n",
       "      <td>14.990000</td>\n",
       "    </tr>\n",
       "    <tr>\n",
       "      <td>...</td>\n",
       "      <td>...</td>\n",
       "      <td>...</td>\n",
       "    </tr>\n",
       "    <tr>\n",
       "      <td>51704</td>\n",
       "      <td>23</td>\n",
       "      <td>6.970000</td>\n",
       "    </tr>\n",
       "    <tr>\n",
       "      <td>51705</td>\n",
       "      <td>23</td>\n",
       "      <td>49.779999</td>\n",
       "    </tr>\n",
       "    <tr>\n",
       "      <td>51706</td>\n",
       "      <td>23</td>\n",
       "      <td>1.000000</td>\n",
       "    </tr>\n",
       "    <tr>\n",
       "      <td>51707</td>\n",
       "      <td>23</td>\n",
       "      <td>29.990000</td>\n",
       "    </tr>\n",
       "    <tr>\n",
       "      <td>51708</td>\n",
       "      <td>23</td>\n",
       "      <td>16.990000</td>\n",
       "    </tr>\n",
       "  </tbody>\n",
       "</table>\n",
       "<p>51709 rows × 2 columns</p>\n",
       "</div>"
      ],
      "text/plain": [
       "       heure      amount\n",
       "0          0    9.950000\n",
       "1          0   10.890000\n",
       "2          0   26.990000\n",
       "3          0  285.679993\n",
       "4          0   14.990000\n",
       "...      ...         ...\n",
       "51704     23    6.970000\n",
       "51705     23   49.779999\n",
       "51706     23    1.000000\n",
       "51707     23   29.990000\n",
       "51708     23   16.990000\n",
       "\n",
       "[51709 rows x 2 columns]"
      ]
     },
     "execution_count": 65,
     "metadata": {},
     "output_type": "execute_result"
    }
   ],
   "source": [
    "p = purchases.assign(heure=[int(i[11:13]) for i in list(purchases[\"time\"])])\n",
    "p = p[[\"heure\",\"amount\"]]\n",
    "p"
   ]
  },
  {
   "cell_type": "markdown",
   "metadata": {},
   "source": [
    "On veut une variable aléatoire H qui prend des valeurs dans [0,23], il faut donc sommer tous les prix pour chaque heure."
   ]
  },
  {
   "cell_type": "code",
   "execution_count": 66,
   "metadata": {},
   "outputs": [
    {
     "data": {
      "text/html": [
       "<div>\n",
       "<style scoped>\n",
       "    .dataframe tbody tr th:only-of-type {\n",
       "        vertical-align: middle;\n",
       "    }\n",
       "\n",
       "    .dataframe tbody tr th {\n",
       "        vertical-align: top;\n",
       "    }\n",
       "\n",
       "    .dataframe thead th {\n",
       "        text-align: right;\n",
       "    }\n",
       "</style>\n",
       "<table border=\"1\" class=\"dataframe\">\n",
       "  <thead>\n",
       "    <tr style=\"text-align: right;\">\n",
       "      <th></th>\n",
       "      <th>heure</th>\n",
       "      <th>somme</th>\n",
       "    </tr>\n",
       "  </thead>\n",
       "  <tbody>\n",
       "    <tr>\n",
       "      <td>0</td>\n",
       "      <td>0</td>\n",
       "      <td>65246.919957</td>\n",
       "    </tr>\n",
       "    <tr>\n",
       "      <td>1</td>\n",
       "      <td>1</td>\n",
       "      <td>35252.649926</td>\n",
       "    </tr>\n",
       "    <tr>\n",
       "      <td>2</td>\n",
       "      <td>2</td>\n",
       "      <td>11872.219965</td>\n",
       "    </tr>\n",
       "    <tr>\n",
       "      <td>3</td>\n",
       "      <td>3</td>\n",
       "      <td>6774.170023</td>\n",
       "    </tr>\n",
       "    <tr>\n",
       "      <td>4</td>\n",
       "      <td>4</td>\n",
       "      <td>4597.279995</td>\n",
       "    </tr>\n",
       "    <tr>\n",
       "      <td>5</td>\n",
       "      <td>5</td>\n",
       "      <td>8285.129995</td>\n",
       "    </tr>\n",
       "    <tr>\n",
       "      <td>6</td>\n",
       "      <td>6</td>\n",
       "      <td>17813.479995</td>\n",
       "    </tr>\n",
       "    <tr>\n",
       "      <td>7</td>\n",
       "      <td>7</td>\n",
       "      <td>50331.529939</td>\n",
       "    </tr>\n",
       "    <tr>\n",
       "      <td>8</td>\n",
       "      <td>8</td>\n",
       "      <td>105135.019606</td>\n",
       "    </tr>\n",
       "    <tr>\n",
       "      <td>9</td>\n",
       "      <td>9</td>\n",
       "      <td>202125.009425</td>\n",
       "    </tr>\n",
       "    <tr>\n",
       "      <td>10</td>\n",
       "      <td>10</td>\n",
       "      <td>247430.339486</td>\n",
       "    </tr>\n",
       "    <tr>\n",
       "      <td>11</td>\n",
       "      <td>11</td>\n",
       "      <td>282282.049286</td>\n",
       "    </tr>\n",
       "    <tr>\n",
       "      <td>12</td>\n",
       "      <td>12</td>\n",
       "      <td>278457.519039</td>\n",
       "    </tr>\n",
       "    <tr>\n",
       "      <td>13</td>\n",
       "      <td>13</td>\n",
       "      <td>282909.509119</td>\n",
       "    </tr>\n",
       "    <tr>\n",
       "      <td>14</td>\n",
       "      <td>14</td>\n",
       "      <td>281470.659255</td>\n",
       "    </tr>\n",
       "    <tr>\n",
       "      <td>15</td>\n",
       "      <td>15</td>\n",
       "      <td>255303.779447</td>\n",
       "    </tr>\n",
       "    <tr>\n",
       "      <td>16</td>\n",
       "      <td>16</td>\n",
       "      <td>273906.399447</td>\n",
       "    </tr>\n",
       "    <tr>\n",
       "      <td>17</td>\n",
       "      <td>17</td>\n",
       "      <td>267633.879448</td>\n",
       "    </tr>\n",
       "    <tr>\n",
       "      <td>18</td>\n",
       "      <td>18</td>\n",
       "      <td>292622.699514</td>\n",
       "    </tr>\n",
       "    <tr>\n",
       "      <td>19</td>\n",
       "      <td>19</td>\n",
       "      <td>260023.218989</td>\n",
       "    </tr>\n",
       "    <tr>\n",
       "      <td>20</td>\n",
       "      <td>20</td>\n",
       "      <td>215307.209429</td>\n",
       "    </tr>\n",
       "    <tr>\n",
       "      <td>21</td>\n",
       "      <td>21</td>\n",
       "      <td>191191.579638</td>\n",
       "    </tr>\n",
       "    <tr>\n",
       "      <td>22</td>\n",
       "      <td>22</td>\n",
       "      <td>171762.799633</td>\n",
       "    </tr>\n",
       "    <tr>\n",
       "      <td>23</td>\n",
       "      <td>23</td>\n",
       "      <td>127902.829579</td>\n",
       "    </tr>\n",
       "  </tbody>\n",
       "</table>\n",
       "</div>"
      ],
      "text/plain": [
       "    heure          somme\n",
       "0       0   65246.919957\n",
       "1       1   35252.649926\n",
       "2       2   11872.219965\n",
       "3       3    6774.170023\n",
       "4       4    4597.279995\n",
       "5       5    8285.129995\n",
       "6       6   17813.479995\n",
       "7       7   50331.529939\n",
       "8       8  105135.019606\n",
       "9       9  202125.009425\n",
       "10     10  247430.339486\n",
       "11     11  282282.049286\n",
       "12     12  278457.519039\n",
       "13     13  282909.509119\n",
       "14     14  281470.659255\n",
       "15     15  255303.779447\n",
       "16     16  273906.399447\n",
       "17     17  267633.879448\n",
       "18     18  292622.699514\n",
       "19     19  260023.218989\n",
       "20     20  215307.209429\n",
       "21     21  191191.579638\n",
       "22     22  171762.799633\n",
       "23     23  127902.829579"
      ]
     },
     "execution_count": 66,
     "metadata": {},
     "output_type": "execute_result"
    }
   ],
   "source": [
    "h = [i for i in range(24)]\n",
    "s=[]\n",
    "for i in h:\n",
    "    df = p[p[\"heure\"]==i]\n",
    "    s.append(sum(df[\"amount\"]))\n",
    "\n",
    "d = {'heure': h, 'somme': s}\n",
    "newdata = pd.DataFrame(data=d)\n",
    "newdata"
   ]
  },
  {
   "cell_type": "markdown",
   "metadata": {},
   "source": [
    "### Avec seaborn"
   ]
  },
  {
   "cell_type": "markdown",
   "metadata": {},
   "source": [
    "(11)"
   ]
  },
  {
   "cell_type": "code",
   "execution_count": 67,
   "metadata": {},
   "outputs": [
    {
     "data": {
      "text/plain": [
       "<matplotlib.axes._subplots.AxesSubplot at 0x286c0bc3808>"
      ]
     },
     "execution_count": 67,
     "metadata": {},
     "output_type": "execute_result"
    },
    {
     "data": {
      "image/png": "[encoded data removed]",
      "text/plain": [
       "<Figure size 432x288 with 1 Axes>"
      ]
     },
     "metadata": {
      "needs_background": "light"
     },
     "output_type": "display_data"
    }
   ],
   "source": [
    "seaborn.boxplot(y = \"somme\", data = newdata)"
   ]
  },
  {
   "cell_type": "code",
   "execution_count": 68,
   "metadata": {},
   "outputs": [
    {
     "data": {
      "text/plain": [
       "<seaborn.axisgrid.JointGrid at 0x286c1809708>"
      ]
     },
     "execution_count": 68,
     "metadata": {},
     "output_type": "execute_result"
    },
    {
     "data": {
      "image/png": "[encoded data removed]",
      "text/plain": [
       "<Figure size 432x432 with 3 Axes>"
      ]
     },
     "metadata": {
      "needs_background": "light"
     },
     "output_type": "display_data"
    }
   ],
   "source": [
    "seaborn.jointplot(x = \"heure\", y = \"somme\", data = newdata, kind = \"kde\")"
   ]
  },
  {
   "cell_type": "code",
   "execution_count": 69,
   "metadata": {},
   "outputs": [
    {
     "data": {
      "text/plain": [
       "<matplotlib.axes._subplots.AxesSubplot at 0x286c3363548>"
      ]
     },
     "execution_count": 69,
     "metadata": {},
     "output_type": "execute_result"
    },
    {
     "data": {
      "image/png": "[encoded data removed]",
      "text/plain": [
       "<Figure size 432x288 with 1 Axes>"
      ]
     },
     "metadata": {
      "needs_background": "light"
     },
     "output_type": "display_data"
    }
   ],
   "source": [
    "seaborn.kdeplot(newdata[\"heure\"],newdata[\"somme\"], cmap=\"Blues\", shade=True, shade_lowest=False)"
   ]
  },
  {
   "cell_type": "markdown",
   "metadata": {},
   "source": [
    "### Avec l'estimation par noyau"
   ]
  },
  {
   "cell_type": "markdown",
   "metadata": {},
   "source": [
    "(12)"
   ]
  },
  {
   "cell_type": "code",
   "execution_count": 72,
   "metadata": {},
   "outputs": [],
   "source": [
    "def algo2(x,y,xmin, xmax,ymin, ymax):\n",
    "    \n",
    "    # Estimation de la densité jointe par noyau\n",
    "    X, Y = np.mgrid[xmin:xmax:100j, ymin:ymax:100j]\n",
    "    positions = np.vstack([X.ravel(), Y.ravel()])\n",
    "    values = np.vstack([x, y])\n",
    "    kernel = st.gaussian_kde(values)\n",
    "    f = np.reshape(kernel(positions).T, X.shape)\n",
    "    print(\"Densité conjointe : \",kernel(positions))\n",
    "    \n",
    "    # Préparation du plot\n",
    "    fig = plt.figure()\n",
    "    ax = fig.gca()\n",
    "    ax.set_title('Carte de chaleur de la densité conjointe')\n",
    "    ax.set_xlim(xmin, xmax)\n",
    "    ax.set_ylim(ymin, ymax)\n",
    "    \n",
    "    # Contourf plot\n",
    "    cfset = ax.contourf(X, Y, f, cmap='Blues')\n",
    "\n",
    "    # Contour plot\n",
    "    cset = ax.contour(X, Y, f, colors='k')\n",
    "    \n",
    "    # Label plot\n",
    "    ax.clabel(cset, inline=1, fontsize=10)\n",
    "    ax.set_xlabel('heure')\n",
    "    ax.set_ylabel('somme')\n",
    "    \n",
    "    CB = fig.colorbar(cfset, shrink=0.8, extend='both')\n",
    "    \n",
    "    plt.show()"
   ]
  },
  {
   "cell_type": "code",
   "execution_count": 73,
   "metadata": {},
   "outputs": [
    {
     "name": "stdout",
     "output_type": "stream",
     "text": [
      "Densité conjointe :  [4.01339441e-10 5.02015808e-10 6.18080847e-10 ... 4.87316574e-10\n",
      " 3.86963544e-10 3.02008818e-10]\n"
     ]
    },
    {
     "data": {
      "image/png": "[encoded data removed]",
      "text/plain": [
       "<Figure size 432x288 with 2 Axes>"
      ]
     },
     "metadata": {
      "needs_background": "light"
     },
     "output_type": "display_data"
    }
   ],
   "source": [
    "# Paramètres\n",
    "x = newdata[\"heure\"].to_numpy()\n",
    "y = newdata[\"somme\"].to_numpy()\n",
    "xmin, xmax = -10, 30\n",
    "ymin, ymax = -200000, 500000\n",
    "\n",
    "# Test\n",
    "algo2(x,y,xmin, xmax,ymin, ymax)"
   ]
  },
  {
   "cell_type": "markdown",
   "metadata": {},
   "source": [
    "# EXERCICE 3"
   ]
  },
  {
   "cell_type": "markdown",
   "metadata": {},
   "source": [
    "## COMPTE-RENDU"
   ]
  },
  {
   "cell_type": "markdown",
   "metadata": {},
   "source": [
    "Le jeu de données utilisé pour l’étude a été obtenu à l’adresse suivante : https://www.kaggle.com/amanajmera1/framingham-heart-study-dataset\n"
   ]
  },
  {
   "cell_type": "markdown",
   "metadata": {},
   "source": [
    "### Un peu d'histoire"
   ]
  },
  {
   "cell_type": "markdown",
   "metadata": {},
   "source": [
    "L’etude Framingham a été réalisée depuis 1948 dans la ville de Framingham, Massachusetts, aux États-Unis, choisie pour sa représentativité de la population globale américaine et la proximité universitaire (Harvard Medical School, l'une des institutions initiatrices du projet). La ville a par ailleurs eu un précédent, avec une première étude épidémiologique sur la tuberculose dans les années 1910. Commencée avec 5 209 personnes, l'étude en est désormais à sa troisième génération de participants. En 1969, le National Institute of Health décide d'arrêter le financement de l'étude. Thomas Royle Dawber, le directeur de l'étude de l'époque, parvient à lever des fonds privés, permettant sa poursuite, jusqu'en 1971, date à laquelle le NIH reprit son financement, permettant d'inclure les enfants de la cohorte initiale. La troisième génération a été incluse à partir de 2002."
   ]
  },
  {
   "cell_type": "markdown",
   "metadata": {},
   "source": [
    "### Pourquoi avoir choisi ce dataset"
   ]
  },
  {
   "cell_type": "markdown",
   "metadata": {},
   "source": [
    "Il y a environ 12 millions de décès dans le monde dû aux maladies cardiaques, selon l'OMS. Un traitement précoce d'une maladie cardiovasculaire, notamment en évitant certains comportements et en ayant un bon mode de vie, peut fortement affecter le risque d'avoir une maladie cardiaque. Certains comportements sont des facteurs de risque, et cette étude vise à cibler les facteurs de risque potentielles d'avoir une maladie coronarienne sur les 10 prochaines années, et à prédire ce risque notamment grâce à une regression logistique. "
   ]
  },
  {
   "cell_type": "markdown",
   "metadata": {},
   "source": [
    "### Présentation du dataset"
   ]
  },
  {
   "cell_type": "markdown",
   "metadata": {},
   "source": [
    "Le jeu de donnée contient des informations sur 4240 patients sur lesquels on a mesuré 16 variables."
   ]
  },
  {
   "cell_type": "markdown",
   "metadata": {},
   "source": [
    "- **Sex:** homme ou femme (ici variable binaire : 0 = Femme, 1 = Homme)\n",
    "- **Age:** l'âge du patient lors de l'étude\n",
    "- **Education:** 1 = Collège/Début Lycée, 2 = Lycée ou GED, 3 = Début de fac, 4 = Diplômé de fac\n",
    "- **currentSmoker:** si le patient est fumeur (0 = non fumeur, 1 = fumeur)\n",
    "- **cigsPerDay:** nombre de cigarette par jour en moyenne\n",
    "- **BPMeds:** si le patient prend des médicaments pour la pression arterielle\n",
    "- **prevalentStroke:** si le patient a déja fait un AVC\n",
    "- **prevalentHyp:** si le patient a déja fait de l'hypertension\n",
    "- **diabetes:** si le patient a le diabète (0 = Non, 1 = Oui)\n",
    "- **totChol:** le niveau de cholesterol (en mg/dL)\n",
    "- **sysBP:** pression arterielle systolique (en mmHg)\n",
    "- **diaBP:** pression arterielle diastolique (en mmHg)\n",
    "- **BMI:** IMC (Indice de Masse Corporel)\n",
    "- **heartRate:** rythme cardiaque (battements/min)\n",
    "- **glucose:** niveau de glucose (en mg/dL)\n",
    "- **TenYearCHD :** risque sur 10 ans d'une maladie coronarienne (CHD pour Coronary Heart Disease) (0 = Non, 1 = Oui)"
   ]
  },
  {
   "cell_type": "markdown",
   "metadata": {},
   "source": [
    "**Problématique :** Peut-on prédire si un patient présente un risque sur 10 ans d'avoir une maladie cardiovasculaire ?"
   ]
  },
  {
   "cell_type": "markdown",
   "metadata": {},
   "source": [
    "### Préparation des données"
   ]
  },
  {
   "cell_type": "markdown",
   "metadata": {},
   "source": [
    "Avant de commencer une quelconque analyse, nous devons d'abord vérifier si nous avons nos données dans la forme que nous voulons, et dans le cas contraire faire les changements nécéssaires."
   ]
  },
  {
   "cell_type": "markdown",
   "metadata": {},
   "source": [
    "La première chose que nous avons fait est de changer les noms de nos variables, pour faciliter la compréhension (et éviter de toujours revenir sur les définitions des variables au dessus). \n",
    "(cf Annexe, 2. Recodage des noms des variables)"
   ]
  },
  {
   "cell_type": "markdown",
   "metadata": {},
   "source": [
    "Ensuite, nous avons regardé le nombre de valeurs manquantes (NAs) dans le dataset, et nous avons fait le choix de les remplacer par la moyenne de la variable. (cf Annexe, 3. Gestion des valeurs manquantes (NAs))"
   ]
  },
  {
   "cell_type": "markdown",
   "metadata": {},
   "source": [
    "### Analyse exploratoire"
   ]
  },
  {
   "cell_type": "markdown",
   "metadata": {},
   "source": [
    "#### 1. Heatmap"
   ]
  },
  {
   "cell_type": "markdown",
   "metadata": {},
   "source": [
    "Tout d'abord, nous avons affiché la heatmap de la matrice de corrélation du dataset entier, pour déceler les variables qui sont fortement corrélées et décorrélées (notamment avec la variable Cardio), d'une part pour avoir une idée sur les potentielles facteurs de risque, et d'autre part pour avoir une idée sur les variables à éliminer dès le départ. (cf Annexe, 4. Heatmap)"
   ]
  },
  {
   "cell_type": "markdown",
   "metadata": {},
   "source": [
    "En regardant la heatmap, nous retrouvons des corrélations évidentes (forte corrélation entre \"fumer\" et \"Ncigarettes\", entre \"Diastolique\" et \"Systolique\", ou encore entre \"Glucose\" et \"Diabète\"), mais en observant les corrélations avec la variable Cardio, on remarque que la variable \"Education\" est très faiblement corrélée (et même négativement) avec \"Cardio\". On peut déjà se poser la question de la pertinence de cette variable dans cette étude, et même dans un modèle de régression. L'éducation ne devrait pas être un facteur de risque potentielle pour une maladie cardiovasculaire, et même si c'était le cas, la corrélation est bien trop faible, et visiblement n'a pas de sens. On décide donc de l'enlever du dataset."
   ]
  },
  {
   "cell_type": "markdown",
   "metadata": {},
   "source": [
    "#### 2. Type de nos variables"
   ]
  },
  {
   "cell_type": "markdown",
   "metadata": {},
   "source": [
    "Nous jettons ensuite un coup d'oeil sur les types de nos variables, et nous remarquons que nos variables binaires sont considérées au même titre que des variables quantitatives discrètes, il est donc nécessaire de recoder leur classe si nous voulons afficher des statistiques et des graphiques en fonction de ces dernières (cf Annexe, 5. Modification des types). C’est le cas notamment de la variable \"Sexe\" par exemple qui n’est pas considérée comme une variable qualitative ou encore de la variable \"Traitement\" considéré comme une variable quantitative continue. Cette étape de recodage est importante afin de pouvoir exploiter au mieux nos données pour la suite de l’étude, afin d'afficher des statistiques et des graphiques pertients."
   ]
  },
  {
   "cell_type": "markdown",
   "metadata": {},
   "source": [
    "#### 3. Etude univariée/bivariée"
   ]
  },
  {
   "cell_type": "markdown",
   "metadata": {},
   "source": [
    "On étudie ensuite les statistiques univariées du dataset (cf Annexe, 6. Statistiques univariées). On constate que l'âge moyen des patients est de 50 ans, et le nombre de cigarrettes fumées par jour est en moyenne de 9 (ce qui est beaucoup, mais l'étude est menée sur les peronnes les plus susceptibles d'avoir une maladie, donc c'est assez cohérent pour une personne agée qui fume beaucoup)."
   ]
  },
  {
   "cell_type": "markdown",
   "metadata": {},
   "source": [
    "On s'interesse maintenant à la variable \"Sexe\". On veut observer la proportion d'hommes et de femmes dans l'étude, puis parmi les individus à risques, puis parmi les fumeurs (cf Annexe, 7. Variable Sexe). On a 2420 femmes (57,1%) et 1820 hommes (42,9%) dans l'étude. Parmi ceux-là, on compte presque 1000 fumeuses et plus de 1000 fumeurs. Il y a donc plus d'hommes qui fument que de femmes dans l'étude. \n",
    "\n",
    "Ensuite, on observe la variable Age en fonction du Sexe. Les femmes paraissent légèrement plus agées que les hommes en moyenne.\n",
    "\n",
    "En croisant la variable Sexe cette fois-ci avec la variable Diabete, on constate que les femmes sont légèrement moins touchées en proportion par le diabete.\n",
    "\n",
    "De nouveau concernant les maladies cardiovasculaires, les hommes sont en proportion plus touchés que les femmes.\n",
    "\n",
    "On affiche ensuite le distribution plot du taux de cholesterol, en bleu la distribution du taux de chosterol pour les femmes et en rouge pour les hommes. Globalement la variable ne semble pas impacter le sexe de l’individu.\n",
    "\n",
    "On souhaite observer si la variable taux de cholesterol suit une loi normale. Pour se faire, on réalise un test de Shapiro-Wilk avec les hypothèses suivantes :\n",
    "\n",
    "H0 : la variable suit une distribution normale\n",
    "H1 : la variable ne suit pas une distribution normale\n",
    "\n",
    "On conclut que cette variable ne suit pas une loi normale."
   ]
  },
  {
   "cell_type": "markdown",
   "metadata": {},
   "source": [
    "### Regression logistique"
   ]
  },
  {
   "cell_type": "markdown",
   "metadata": {},
   "source": [
    "Puisque nous avons une variable binaire à expliquer, on veut faire une regression logistique (cf Annexe, 7. Regression logistique). Dans un premier temps, nous regardons le summary() de la régression sans la selection de variables. On constate que certaines p-values sont supérieurs à 0.05, donc nous voulons faire une selection de variable. Nous effectuons une backward elimination, c'est-à-dire que l'on va considérer le modèle avec toutes les variables, puis nous allons enlever la variable qui présente la p-value la plus élevée (donc la plus insignifiante), et nous recommençons jusqu'à avoir que des variables significatifs. C'est un procédé très utilisé en régression, en comparaison avec le forward elimination qui consiste à prendre un modèle sans variables, puis ajouter les variables une par une. (plus d'info : https://en.wikipedia.org/wiki/Stepwise_regression)"
   ]
  },
  {
   "cell_type": "markdown",
   "metadata": {},
   "source": [
    "Ainsi, nos variables significatifs sont : Sexe, Age, NCigarettes, AVC, Hypertension, Diabete, Systolique, Diastolique, IMC, Coeur. Nous regardons ensuite l'OR (odds ratio) pour chaque variable."
   ]
  },
  {
   "cell_type": "markdown",
   "metadata": {},
   "source": [
    "Le modèle montre que, pour toutes choses égale par ailleurs, les chances d'avoir une maladie cardiaque pour les hommes sont 45% plus élevées que pour les femmes (OR=1.450295).\n",
    "\n",
    "Pour l'age, pour toutes choses égale par ailleurs, avoir un an de plus augmente les chances de 2% d'avoir une maladie cardiaque (OR = 1.026969).\n",
    "\n",
    "Pour le nombre de cigarettes, pour toutes choses égale par ailleurs, fumer une cigarette de plus par jour augmente les chances de 1% d'avoir une maladie cardiaque (OR = 1.014839).\n",
    "\n",
    "Les personnes ayant eu un AVC, fait de l'hypertension, ou eu le diabète, pour toutes choses égale par ailleurs, ont 2,7 fois plus de chance d'avoir une maladie cardiaque que les personnes normales (OR > 2.7)."
   ]
  },
  {
   "cell_type": "markdown",
   "metadata": {},
   "source": [
    "### Prédiction"
   ]
  },
  {
   "cell_type": "markdown",
   "metadata": {},
   "source": [
    "Nous voulons maintenant prédire le risque d'avoir une maladie cardique grâce à cette régression logistique (cf Annexe, 8. Prediction). Nous utilisons le module sklearn pour faire cette prédiction. Nous obtenons la table de contingence suivante :\n",
    "\n",
    "Sur 1400 individus, on a correctement prédit 1183 cas et mal prédit 217 cas.\n",
    "\n",
    "On rappelle que :"
   ]
  },
  {
   "cell_type": "markdown",
   "metadata": {},
   "source": [
    "False Positive Rate = $\\frac{fp}{fp + tn}$\n",
    "\n",
    "False Negative Rate = $\\frac{fn}{tp + fn}$\n",
    "\n",
    "False Discovery Rate = $\\frac{fp}{tp + fp}$"
   ]
  },
  {
   "cell_type": "markdown",
   "metadata": {},
   "source": [
    "Nous obtenons un FNR proche de 1, donc le modèle prédit mieux les False Negatives, donc ceux qui présentent vraiment un risque et pour qui on leur a dit qu'il n'en présentait pas."
   ]
  },
  {
   "cell_type": "markdown",
   "metadata": {},
   "source": [
    "On a un FDR = 0.5, donc la proportion de faux postifs parmi les positifs est également répartie avec les vrais positifs."
   ]
  },
  {
   "cell_type": "markdown",
   "metadata": {},
   "source": [
    "## ANNEXE"
   ]
  },
  {
   "cell_type": "markdown",
   "metadata": {},
   "source": [
    "### 0. Importation des modules"
   ]
  },
  {
   "cell_type": "code",
   "execution_count": 74,
   "metadata": {},
   "outputs": [],
   "source": [
    "import pandas as pd\n",
    "import numpy as np\n",
    "import seaborn as sns\n",
    "import scipy.stats as stats\n",
    "import sklearn\n",
    "import pylab\n",
    "import statsmodels.api as sm\n",
    "from matplotlib import pyplot as plt  \n",
    "\n",
    "%matplotlib inline"
   ]
  },
  {
   "cell_type": "markdown",
   "metadata": {},
   "source": [
    "### 1. Importation du dataset"
   ]
  },
  {
   "cell_type": "code",
   "execution_count": 75,
   "metadata": {},
   "outputs": [
    {
     "data": {
      "text/html": [
       "<div>\n",
       "<style scoped>\n",
       "    .dataframe tbody tr th:only-of-type {\n",
       "        vertical-align: middle;\n",
       "    }\n",
       "\n",
       "    .dataframe tbody tr th {\n",
       "        vertical-align: top;\n",
       "    }\n",
       "\n",
       "    .dataframe thead th {\n",
       "        text-align: right;\n",
       "    }\n",
       "</style>\n",
       "<table border=\"1\" class=\"dataframe\">\n",
       "  <thead>\n",
       "    <tr style=\"text-align: right;\">\n",
       "      <th></th>\n",
       "      <th>male</th>\n",
       "      <th>age</th>\n",
       "      <th>education</th>\n",
       "      <th>currentSmoker</th>\n",
       "      <th>cigsPerDay</th>\n",
       "      <th>BPMeds</th>\n",
       "      <th>prevalentStroke</th>\n",
       "      <th>prevalentHyp</th>\n",
       "      <th>diabetes</th>\n",
       "      <th>totChol</th>\n",
       "      <th>sysBP</th>\n",
       "      <th>diaBP</th>\n",
       "      <th>BMI</th>\n",
       "      <th>heartRate</th>\n",
       "      <th>glucose</th>\n",
       "      <th>TenYearCHD</th>\n",
       "    </tr>\n",
       "  </thead>\n",
       "  <tbody>\n",
       "    <tr>\n",
       "      <td>0</td>\n",
       "      <td>1</td>\n",
       "      <td>39</td>\n",
       "      <td>4.0</td>\n",
       "      <td>0</td>\n",
       "      <td>0.0</td>\n",
       "      <td>0.0</td>\n",
       "      <td>0</td>\n",
       "      <td>0</td>\n",
       "      <td>0</td>\n",
       "      <td>195.0</td>\n",
       "      <td>106.0</td>\n",
       "      <td>70.0</td>\n",
       "      <td>26.97</td>\n",
       "      <td>80.0</td>\n",
       "      <td>77.0</td>\n",
       "      <td>0</td>\n",
       "    </tr>\n",
       "    <tr>\n",
       "      <td>1</td>\n",
       "      <td>0</td>\n",
       "      <td>46</td>\n",
       "      <td>2.0</td>\n",
       "      <td>0</td>\n",
       "      <td>0.0</td>\n",
       "      <td>0.0</td>\n",
       "      <td>0</td>\n",
       "      <td>0</td>\n",
       "      <td>0</td>\n",
       "      <td>250.0</td>\n",
       "      <td>121.0</td>\n",
       "      <td>81.0</td>\n",
       "      <td>28.73</td>\n",
       "      <td>95.0</td>\n",
       "      <td>76.0</td>\n",
       "      <td>0</td>\n",
       "    </tr>\n",
       "    <tr>\n",
       "      <td>2</td>\n",
       "      <td>1</td>\n",
       "      <td>48</td>\n",
       "      <td>1.0</td>\n",
       "      <td>1</td>\n",
       "      <td>20.0</td>\n",
       "      <td>0.0</td>\n",
       "      <td>0</td>\n",
       "      <td>0</td>\n",
       "      <td>0</td>\n",
       "      <td>245.0</td>\n",
       "      <td>127.5</td>\n",
       "      <td>80.0</td>\n",
       "      <td>25.34</td>\n",
       "      <td>75.0</td>\n",
       "      <td>70.0</td>\n",
       "      <td>0</td>\n",
       "    </tr>\n",
       "    <tr>\n",
       "      <td>3</td>\n",
       "      <td>0</td>\n",
       "      <td>61</td>\n",
       "      <td>3.0</td>\n",
       "      <td>1</td>\n",
       "      <td>30.0</td>\n",
       "      <td>0.0</td>\n",
       "      <td>0</td>\n",
       "      <td>1</td>\n",
       "      <td>0</td>\n",
       "      <td>225.0</td>\n",
       "      <td>150.0</td>\n",
       "      <td>95.0</td>\n",
       "      <td>28.58</td>\n",
       "      <td>65.0</td>\n",
       "      <td>103.0</td>\n",
       "      <td>1</td>\n",
       "    </tr>\n",
       "    <tr>\n",
       "      <td>4</td>\n",
       "      <td>0</td>\n",
       "      <td>46</td>\n",
       "      <td>3.0</td>\n",
       "      <td>1</td>\n",
       "      <td>23.0</td>\n",
       "      <td>0.0</td>\n",
       "      <td>0</td>\n",
       "      <td>0</td>\n",
       "      <td>0</td>\n",
       "      <td>285.0</td>\n",
       "      <td>130.0</td>\n",
       "      <td>84.0</td>\n",
       "      <td>23.10</td>\n",
       "      <td>85.0</td>\n",
       "      <td>85.0</td>\n",
       "      <td>0</td>\n",
       "    </tr>\n",
       "    <tr>\n",
       "      <td>5</td>\n",
       "      <td>0</td>\n",
       "      <td>43</td>\n",
       "      <td>2.0</td>\n",
       "      <td>0</td>\n",
       "      <td>0.0</td>\n",
       "      <td>0.0</td>\n",
       "      <td>0</td>\n",
       "      <td>1</td>\n",
       "      <td>0</td>\n",
       "      <td>228.0</td>\n",
       "      <td>180.0</td>\n",
       "      <td>110.0</td>\n",
       "      <td>30.30</td>\n",
       "      <td>77.0</td>\n",
       "      <td>99.0</td>\n",
       "      <td>0</td>\n",
       "    </tr>\n",
       "    <tr>\n",
       "      <td>6</td>\n",
       "      <td>0</td>\n",
       "      <td>63</td>\n",
       "      <td>1.0</td>\n",
       "      <td>0</td>\n",
       "      <td>0.0</td>\n",
       "      <td>0.0</td>\n",
       "      <td>0</td>\n",
       "      <td>0</td>\n",
       "      <td>0</td>\n",
       "      <td>205.0</td>\n",
       "      <td>138.0</td>\n",
       "      <td>71.0</td>\n",
       "      <td>33.11</td>\n",
       "      <td>60.0</td>\n",
       "      <td>85.0</td>\n",
       "      <td>1</td>\n",
       "    </tr>\n",
       "    <tr>\n",
       "      <td>7</td>\n",
       "      <td>0</td>\n",
       "      <td>45</td>\n",
       "      <td>2.0</td>\n",
       "      <td>1</td>\n",
       "      <td>20.0</td>\n",
       "      <td>0.0</td>\n",
       "      <td>0</td>\n",
       "      <td>0</td>\n",
       "      <td>0</td>\n",
       "      <td>313.0</td>\n",
       "      <td>100.0</td>\n",
       "      <td>71.0</td>\n",
       "      <td>21.68</td>\n",
       "      <td>79.0</td>\n",
       "      <td>78.0</td>\n",
       "      <td>0</td>\n",
       "    </tr>\n",
       "    <tr>\n",
       "      <td>8</td>\n",
       "      <td>1</td>\n",
       "      <td>52</td>\n",
       "      <td>1.0</td>\n",
       "      <td>0</td>\n",
       "      <td>0.0</td>\n",
       "      <td>0.0</td>\n",
       "      <td>0</td>\n",
       "      <td>1</td>\n",
       "      <td>0</td>\n",
       "      <td>260.0</td>\n",
       "      <td>141.5</td>\n",
       "      <td>89.0</td>\n",
       "      <td>26.36</td>\n",
       "      <td>76.0</td>\n",
       "      <td>79.0</td>\n",
       "      <td>0</td>\n",
       "    </tr>\n",
       "    <tr>\n",
       "      <td>9</td>\n",
       "      <td>1</td>\n",
       "      <td>43</td>\n",
       "      <td>1.0</td>\n",
       "      <td>1</td>\n",
       "      <td>30.0</td>\n",
       "      <td>0.0</td>\n",
       "      <td>0</td>\n",
       "      <td>1</td>\n",
       "      <td>0</td>\n",
       "      <td>225.0</td>\n",
       "      <td>162.0</td>\n",
       "      <td>107.0</td>\n",
       "      <td>23.61</td>\n",
       "      <td>93.0</td>\n",
       "      <td>88.0</td>\n",
       "      <td>0</td>\n",
       "    </tr>\n",
       "  </tbody>\n",
       "</table>\n",
       "</div>"
      ],
      "text/plain": [
       "   male  age  education  currentSmoker  cigsPerDay  BPMeds  prevalentStroke  \\\n",
       "0     1   39        4.0              0         0.0     0.0                0   \n",
       "1     0   46        2.0              0         0.0     0.0                0   \n",
       "2     1   48        1.0              1        20.0     0.0                0   \n",
       "3     0   61        3.0              1        30.0     0.0                0   \n",
       "4     0   46        3.0              1        23.0     0.0                0   \n",
       "5     0   43        2.0              0         0.0     0.0                0   \n",
       "6     0   63        1.0              0         0.0     0.0                0   \n",
       "7     0   45        2.0              1        20.0     0.0                0   \n",
       "8     1   52        1.0              0         0.0     0.0                0   \n",
       "9     1   43        1.0              1        30.0     0.0                0   \n",
       "\n",
       "   prevalentHyp  diabetes  totChol  sysBP  diaBP    BMI  heartRate  glucose  \\\n",
       "0             0         0    195.0  106.0   70.0  26.97       80.0     77.0   \n",
       "1             0         0    250.0  121.0   81.0  28.73       95.0     76.0   \n",
       "2             0         0    245.0  127.5   80.0  25.34       75.0     70.0   \n",
       "3             1         0    225.0  150.0   95.0  28.58       65.0    103.0   \n",
       "4             0         0    285.0  130.0   84.0  23.10       85.0     85.0   \n",
       "5             1         0    228.0  180.0  110.0  30.30       77.0     99.0   \n",
       "6             0         0    205.0  138.0   71.0  33.11       60.0     85.0   \n",
       "7             0         0    313.0  100.0   71.0  21.68       79.0     78.0   \n",
       "8             1         0    260.0  141.5   89.0  26.36       76.0     79.0   \n",
       "9             1         0    225.0  162.0  107.0  23.61       93.0     88.0   \n",
       "\n",
       "   TenYearCHD  \n",
       "0           0  \n",
       "1           0  \n",
       "2           0  \n",
       "3           1  \n",
       "4           0  \n",
       "5           0  \n",
       "6           1  \n",
       "7           0  \n",
       "8           0  \n",
       "9           0  "
      ]
     },
     "execution_count": 75,
     "metadata": {},
     "output_type": "execute_result"
    }
   ],
   "source": [
    "framingham = pd.read_csv(\"framingham.csv\", sep = ',')\n",
    "framingham.head(10)"
   ]
  },
  {
   "cell_type": "code",
   "execution_count": 76,
   "metadata": {},
   "outputs": [
    {
     "data": {
      "text/plain": [
       "(4240, 16)"
      ]
     },
     "execution_count": 76,
     "metadata": {},
     "output_type": "execute_result"
    }
   ],
   "source": [
    "framingham.shape"
   ]
  },
  {
   "cell_type": "markdown",
   "metadata": {},
   "source": [
    "### 2. Recodage des noms des variables"
   ]
  },
  {
   "cell_type": "code",
   "execution_count": 77,
   "metadata": {},
   "outputs": [],
   "source": [
    "framingham = framingham.rename(columns = {'male' : 'Sexe', 'age' : 'Age', 'education' : 'Education',\n",
    "'currentSmoker' : 'Fumer', 'cigsPerDay' : 'NCigarettes', 'BPMeds' : 'Traitement', 'prevalentStroke' : 'AVC',\n",
    "'prevalentHyp' : 'Hypertension', 'diabetes' : 'Diabete', 'totChol' : 'Cholesterol',\n",
    " 'sysBP' : 'Systolique', 'diaBP' : 'Diastolique', 'BMI' : 'IMC', 'heartRate' : 'Coeur', 'glucose' : 'Glucose',\n",
    " 'TenYearCHD' : 'Cardio' })"
   ]
  },
  {
   "cell_type": "code",
   "execution_count": 78,
   "metadata": {},
   "outputs": [
    {
     "data": {
      "text/html": [
       "<div>\n",
       "<style scoped>\n",
       "    .dataframe tbody tr th:only-of-type {\n",
       "        vertical-align: middle;\n",
       "    }\n",
       "\n",
       "    .dataframe tbody tr th {\n",
       "        vertical-align: top;\n",
       "    }\n",
       "\n",
       "    .dataframe thead th {\n",
       "        text-align: right;\n",
       "    }\n",
       "</style>\n",
       "<table border=\"1\" class=\"dataframe\">\n",
       "  <thead>\n",
       "    <tr style=\"text-align: right;\">\n",
       "      <th></th>\n",
       "      <th>Sexe</th>\n",
       "      <th>Age</th>\n",
       "      <th>Education</th>\n",
       "      <th>Fumer</th>\n",
       "      <th>NCigarettes</th>\n",
       "      <th>Traitement</th>\n",
       "      <th>AVC</th>\n",
       "      <th>Hypertension</th>\n",
       "      <th>Diabete</th>\n",
       "      <th>Cholesterol</th>\n",
       "      <th>Systolique</th>\n",
       "      <th>Diastolique</th>\n",
       "      <th>IMC</th>\n",
       "      <th>Coeur</th>\n",
       "      <th>Glucose</th>\n",
       "      <th>Cardio</th>\n",
       "    </tr>\n",
       "  </thead>\n",
       "  <tbody>\n",
       "    <tr>\n",
       "      <td>0</td>\n",
       "      <td>1</td>\n",
       "      <td>39</td>\n",
       "      <td>4.0</td>\n",
       "      <td>0</td>\n",
       "      <td>0.0</td>\n",
       "      <td>0.0</td>\n",
       "      <td>0</td>\n",
       "      <td>0</td>\n",
       "      <td>0</td>\n",
       "      <td>195.0</td>\n",
       "      <td>106.0</td>\n",
       "      <td>70.0</td>\n",
       "      <td>26.97</td>\n",
       "      <td>80.0</td>\n",
       "      <td>77.0</td>\n",
       "      <td>0</td>\n",
       "    </tr>\n",
       "    <tr>\n",
       "      <td>1</td>\n",
       "      <td>0</td>\n",
       "      <td>46</td>\n",
       "      <td>2.0</td>\n",
       "      <td>0</td>\n",
       "      <td>0.0</td>\n",
       "      <td>0.0</td>\n",
       "      <td>0</td>\n",
       "      <td>0</td>\n",
       "      <td>0</td>\n",
       "      <td>250.0</td>\n",
       "      <td>121.0</td>\n",
       "      <td>81.0</td>\n",
       "      <td>28.73</td>\n",
       "      <td>95.0</td>\n",
       "      <td>76.0</td>\n",
       "      <td>0</td>\n",
       "    </tr>\n",
       "    <tr>\n",
       "      <td>2</td>\n",
       "      <td>1</td>\n",
       "      <td>48</td>\n",
       "      <td>1.0</td>\n",
       "      <td>1</td>\n",
       "      <td>20.0</td>\n",
       "      <td>0.0</td>\n",
       "      <td>0</td>\n",
       "      <td>0</td>\n",
       "      <td>0</td>\n",
       "      <td>245.0</td>\n",
       "      <td>127.5</td>\n",
       "      <td>80.0</td>\n",
       "      <td>25.34</td>\n",
       "      <td>75.0</td>\n",
       "      <td>70.0</td>\n",
       "      <td>0</td>\n",
       "    </tr>\n",
       "    <tr>\n",
       "      <td>3</td>\n",
       "      <td>0</td>\n",
       "      <td>61</td>\n",
       "      <td>3.0</td>\n",
       "      <td>1</td>\n",
       "      <td>30.0</td>\n",
       "      <td>0.0</td>\n",
       "      <td>0</td>\n",
       "      <td>1</td>\n",
       "      <td>0</td>\n",
       "      <td>225.0</td>\n",
       "      <td>150.0</td>\n",
       "      <td>95.0</td>\n",
       "      <td>28.58</td>\n",
       "      <td>65.0</td>\n",
       "      <td>103.0</td>\n",
       "      <td>1</td>\n",
       "    </tr>\n",
       "    <tr>\n",
       "      <td>4</td>\n",
       "      <td>0</td>\n",
       "      <td>46</td>\n",
       "      <td>3.0</td>\n",
       "      <td>1</td>\n",
       "      <td>23.0</td>\n",
       "      <td>0.0</td>\n",
       "      <td>0</td>\n",
       "      <td>0</td>\n",
       "      <td>0</td>\n",
       "      <td>285.0</td>\n",
       "      <td>130.0</td>\n",
       "      <td>84.0</td>\n",
       "      <td>23.10</td>\n",
       "      <td>85.0</td>\n",
       "      <td>85.0</td>\n",
       "      <td>0</td>\n",
       "    </tr>\n",
       "    <tr>\n",
       "      <td>5</td>\n",
       "      <td>0</td>\n",
       "      <td>43</td>\n",
       "      <td>2.0</td>\n",
       "      <td>0</td>\n",
       "      <td>0.0</td>\n",
       "      <td>0.0</td>\n",
       "      <td>0</td>\n",
       "      <td>1</td>\n",
       "      <td>0</td>\n",
       "      <td>228.0</td>\n",
       "      <td>180.0</td>\n",
       "      <td>110.0</td>\n",
       "      <td>30.30</td>\n",
       "      <td>77.0</td>\n",
       "      <td>99.0</td>\n",
       "      <td>0</td>\n",
       "    </tr>\n",
       "    <tr>\n",
       "      <td>6</td>\n",
       "      <td>0</td>\n",
       "      <td>63</td>\n",
       "      <td>1.0</td>\n",
       "      <td>0</td>\n",
       "      <td>0.0</td>\n",
       "      <td>0.0</td>\n",
       "      <td>0</td>\n",
       "      <td>0</td>\n",
       "      <td>0</td>\n",
       "      <td>205.0</td>\n",
       "      <td>138.0</td>\n",
       "      <td>71.0</td>\n",
       "      <td>33.11</td>\n",
       "      <td>60.0</td>\n",
       "      <td>85.0</td>\n",
       "      <td>1</td>\n",
       "    </tr>\n",
       "    <tr>\n",
       "      <td>7</td>\n",
       "      <td>0</td>\n",
       "      <td>45</td>\n",
       "      <td>2.0</td>\n",
       "      <td>1</td>\n",
       "      <td>20.0</td>\n",
       "      <td>0.0</td>\n",
       "      <td>0</td>\n",
       "      <td>0</td>\n",
       "      <td>0</td>\n",
       "      <td>313.0</td>\n",
       "      <td>100.0</td>\n",
       "      <td>71.0</td>\n",
       "      <td>21.68</td>\n",
       "      <td>79.0</td>\n",
       "      <td>78.0</td>\n",
       "      <td>0</td>\n",
       "    </tr>\n",
       "    <tr>\n",
       "      <td>8</td>\n",
       "      <td>1</td>\n",
       "      <td>52</td>\n",
       "      <td>1.0</td>\n",
       "      <td>0</td>\n",
       "      <td>0.0</td>\n",
       "      <td>0.0</td>\n",
       "      <td>0</td>\n",
       "      <td>1</td>\n",
       "      <td>0</td>\n",
       "      <td>260.0</td>\n",
       "      <td>141.5</td>\n",
       "      <td>89.0</td>\n",
       "      <td>26.36</td>\n",
       "      <td>76.0</td>\n",
       "      <td>79.0</td>\n",
       "      <td>0</td>\n",
       "    </tr>\n",
       "    <tr>\n",
       "      <td>9</td>\n",
       "      <td>1</td>\n",
       "      <td>43</td>\n",
       "      <td>1.0</td>\n",
       "      <td>1</td>\n",
       "      <td>30.0</td>\n",
       "      <td>0.0</td>\n",
       "      <td>0</td>\n",
       "      <td>1</td>\n",
       "      <td>0</td>\n",
       "      <td>225.0</td>\n",
       "      <td>162.0</td>\n",
       "      <td>107.0</td>\n",
       "      <td>23.61</td>\n",
       "      <td>93.0</td>\n",
       "      <td>88.0</td>\n",
       "      <td>0</td>\n",
       "    </tr>\n",
       "  </tbody>\n",
       "</table>\n",
       "</div>"
      ],
      "text/plain": [
       "   Sexe  Age  Education  Fumer  NCigarettes  Traitement  AVC  Hypertension  \\\n",
       "0     1   39        4.0      0          0.0         0.0    0             0   \n",
       "1     0   46        2.0      0          0.0         0.0    0             0   \n",
       "2     1   48        1.0      1         20.0         0.0    0             0   \n",
       "3     0   61        3.0      1         30.0         0.0    0             1   \n",
       "4     0   46        3.0      1         23.0         0.0    0             0   \n",
       "5     0   43        2.0      0          0.0         0.0    0             1   \n",
       "6     0   63        1.0      0          0.0         0.0    0             0   \n",
       "7     0   45        2.0      1         20.0         0.0    0             0   \n",
       "8     1   52        1.0      0          0.0         0.0    0             1   \n",
       "9     1   43        1.0      1         30.0         0.0    0             1   \n",
       "\n",
       "   Diabete  Cholesterol  Systolique  Diastolique    IMC  Coeur  Glucose  \\\n",
       "0        0        195.0       106.0         70.0  26.97   80.0     77.0   \n",
       "1        0        250.0       121.0         81.0  28.73   95.0     76.0   \n",
       "2        0        245.0       127.5         80.0  25.34   75.0     70.0   \n",
       "3        0        225.0       150.0         95.0  28.58   65.0    103.0   \n",
       "4        0        285.0       130.0         84.0  23.10   85.0     85.0   \n",
       "5        0        228.0       180.0        110.0  30.30   77.0     99.0   \n",
       "6        0        205.0       138.0         71.0  33.11   60.0     85.0   \n",
       "7        0        313.0       100.0         71.0  21.68   79.0     78.0   \n",
       "8        0        260.0       141.5         89.0  26.36   76.0     79.0   \n",
       "9        0        225.0       162.0        107.0  23.61   93.0     88.0   \n",
       "\n",
       "   Cardio  \n",
       "0       0  \n",
       "1       0  \n",
       "2       0  \n",
       "3       1  \n",
       "4       0  \n",
       "5       0  \n",
       "6       1  \n",
       "7       0  \n",
       "8       0  \n",
       "9       0  "
      ]
     },
     "execution_count": 78,
     "metadata": {},
     "output_type": "execute_result"
    }
   ],
   "source": [
    "framingham.head(10)"
   ]
  },
  {
   "cell_type": "markdown",
   "metadata": {},
   "source": [
    "### 3. Gestion des valeurs manquantes (NAs)"
   ]
  },
  {
   "cell_type": "code",
   "execution_count": 79,
   "metadata": {},
   "outputs": [
    {
     "data": {
      "text/plain": [
       "Sexe              0\n",
       "Age               0\n",
       "Education       105\n",
       "Fumer             0\n",
       "NCigarettes      29\n",
       "Traitement       53\n",
       "AVC               0\n",
       "Hypertension      0\n",
       "Diabete           0\n",
       "Cholesterol      50\n",
       "Systolique        0\n",
       "Diastolique       0\n",
       "IMC              19\n",
       "Coeur             1\n",
       "Glucose         388\n",
       "Cardio            0\n",
       "dtype: int64"
      ]
     },
     "execution_count": 79,
     "metadata": {},
     "output_type": "execute_result"
    }
   ],
   "source": [
    "framingham.apply(lambda x : sum(x.isnull().values), axis = 0)"
   ]
  },
  {
   "cell_type": "code",
   "execution_count": 80,
   "metadata": {},
   "outputs": [],
   "source": [
    "l = ['Education','NCigarettes','Traitement','Cholesterol','IMC','Coeur','Glucose']\n",
    "\n",
    "for i in l:\n",
    "    if i=='Traitement':\n",
    "        framingham[i] = framingham[i].fillna(0)\n",
    "    else:\n",
    "        framingham[i] = framingham[i].fillna(framingham[i].mean())"
   ]
  },
  {
   "cell_type": "code",
   "execution_count": 81,
   "metadata": {},
   "outputs": [
    {
     "data": {
      "text/plain": [
       "Sexe            0\n",
       "Age             0\n",
       "Education       0\n",
       "Fumer           0\n",
       "NCigarettes     0\n",
       "Traitement      0\n",
       "AVC             0\n",
       "Hypertension    0\n",
       "Diabete         0\n",
       "Cholesterol     0\n",
       "Systolique      0\n",
       "Diastolique     0\n",
       "IMC             0\n",
       "Coeur           0\n",
       "Glucose         0\n",
       "Cardio          0\n",
       "dtype: int64"
      ]
     },
     "execution_count": 81,
     "metadata": {},
     "output_type": "execute_result"
    }
   ],
   "source": [
    "framingham.apply(lambda x : sum(x.isnull().values), axis = 0)"
   ]
  },
  {
   "cell_type": "markdown",
   "metadata": {},
   "source": [
    "### 4. Heatmap"
   ]
  },
  {
   "cell_type": "code",
   "execution_count": 82,
   "metadata": {},
   "outputs": [
    {
     "data": {
      "text/plain": [
       "<matplotlib.axes._subplots.AxesSubplot at 0x286c3d1c308>"
      ]
     },
     "execution_count": 82,
     "metadata": {},
     "output_type": "execute_result"
    },
    {
     "data": {
      "image/png": "[encoded data removed]",
      "text/plain": [
       "<Figure size 1152x720 with 2 Axes>"
      ]
     },
     "metadata": {
      "needs_background": "light"
     },
     "output_type": "display_data"
    }
   ],
   "source": [
    "fig, ax = plt.subplots(figsize=(16,10)) \n",
    "sns.heatmap(data = framingham.corr(), linewidth=0.1,ax = ax, annot=True)"
   ]
  },
  {
   "cell_type": "markdown",
   "metadata": {},
   "source": [
    "### 5. Modification des types"
   ]
  },
  {
   "cell_type": "code",
   "execution_count": 83,
   "metadata": {},
   "outputs": [],
   "source": [
    "framingham = framingham[framingham.columns.drop([\"Education\"])]"
   ]
  },
  {
   "cell_type": "code",
   "execution_count": 84,
   "metadata": {},
   "outputs": [
    {
     "name": "stdout",
     "output_type": "stream",
     "text": [
      "Sexe              int64\n",
      "Age               int64\n",
      "Fumer             int64\n",
      "NCigarettes     float64\n",
      "Traitement      float64\n",
      "AVC               int64\n",
      "Hypertension      int64\n",
      "Diabete           int64\n",
      "Cholesterol     float64\n",
      "Systolique      float64\n",
      "Diastolique     float64\n",
      "IMC             float64\n",
      "Coeur           float64\n",
      "Glucose         float64\n",
      "Cardio            int64\n",
      "dtype: object\n"
     ]
    }
   ],
   "source": [
    "print(framingham.dtypes)"
   ]
  },
  {
   "cell_type": "code",
   "execution_count": 85,
   "metadata": {},
   "outputs": [],
   "source": [
    "g = ['Sexe','Fumer','Traitement','AVC','Hypertension','Diabete','Cardio']\n",
    "\n",
    "for i in g:\n",
    "    framingham[i] = pd.Categorical(framingham[i])\n",
    "    \n",
    "framingham[\"Sexe\"] = framingham[\"Sexe\"].cat.rename_categories([\"Femmes\",\"Hommes\"])"
   ]
  },
  {
   "cell_type": "code",
   "execution_count": 86,
   "metadata": {},
   "outputs": [
    {
     "name": "stdout",
     "output_type": "stream",
     "text": [
      "Sexe            category\n",
      "Age                int64\n",
      "Fumer           category\n",
      "NCigarettes      float64\n",
      "Traitement      category\n",
      "AVC             category\n",
      "Hypertension    category\n",
      "Diabete         category\n",
      "Cholesterol      float64\n",
      "Systolique       float64\n",
      "Diastolique      float64\n",
      "IMC              float64\n",
      "Coeur            float64\n",
      "Glucose          float64\n",
      "Cardio          category\n",
      "dtype: object\n"
     ]
    }
   ],
   "source": [
    "print(framingham.dtypes)"
   ]
  },
  {
   "cell_type": "markdown",
   "metadata": {},
   "source": [
    "### 6. Statistiques univariées"
   ]
  },
  {
   "cell_type": "code",
   "execution_count": 87,
   "metadata": {},
   "outputs": [
    {
     "data": {
      "text/html": [
       "<div>\n",
       "<style scoped>\n",
       "    .dataframe tbody tr th:only-of-type {\n",
       "        vertical-align: middle;\n",
       "    }\n",
       "\n",
       "    .dataframe tbody tr th {\n",
       "        vertical-align: top;\n",
       "    }\n",
       "\n",
       "    .dataframe thead th {\n",
       "        text-align: right;\n",
       "    }\n",
       "</style>\n",
       "<table border=\"1\" class=\"dataframe\">\n",
       "  <thead>\n",
       "    <tr style=\"text-align: right;\">\n",
       "      <th></th>\n",
       "      <th>Age</th>\n",
       "      <th>NCigarettes</th>\n",
       "      <th>Cholesterol</th>\n",
       "      <th>Systolique</th>\n",
       "      <th>Diastolique</th>\n",
       "      <th>IMC</th>\n",
       "      <th>Coeur</th>\n",
       "      <th>Glucose</th>\n",
       "    </tr>\n",
       "  </thead>\n",
       "  <tbody>\n",
       "    <tr>\n",
       "      <td>count</td>\n",
       "      <td>4240.0</td>\n",
       "      <td>4240.0</td>\n",
       "      <td>4240.0</td>\n",
       "      <td>4240.0</td>\n",
       "      <td>4240.0</td>\n",
       "      <td>4240.0</td>\n",
       "      <td>4240.0</td>\n",
       "      <td>4240.0</td>\n",
       "    </tr>\n",
       "    <tr>\n",
       "      <td>mean</td>\n",
       "      <td>50.0</td>\n",
       "      <td>9.0</td>\n",
       "      <td>237.0</td>\n",
       "      <td>132.0</td>\n",
       "      <td>83.0</td>\n",
       "      <td>26.0</td>\n",
       "      <td>76.0</td>\n",
       "      <td>82.0</td>\n",
       "    </tr>\n",
       "    <tr>\n",
       "      <td>std</td>\n",
       "      <td>9.0</td>\n",
       "      <td>12.0</td>\n",
       "      <td>44.0</td>\n",
       "      <td>22.0</td>\n",
       "      <td>12.0</td>\n",
       "      <td>4.0</td>\n",
       "      <td>12.0</td>\n",
       "      <td>23.0</td>\n",
       "    </tr>\n",
       "    <tr>\n",
       "      <td>min</td>\n",
       "      <td>32.0</td>\n",
       "      <td>0.0</td>\n",
       "      <td>107.0</td>\n",
       "      <td>84.0</td>\n",
       "      <td>48.0</td>\n",
       "      <td>16.0</td>\n",
       "      <td>44.0</td>\n",
       "      <td>40.0</td>\n",
       "    </tr>\n",
       "    <tr>\n",
       "      <td>25%</td>\n",
       "      <td>42.0</td>\n",
       "      <td>0.0</td>\n",
       "      <td>206.0</td>\n",
       "      <td>117.0</td>\n",
       "      <td>75.0</td>\n",
       "      <td>23.0</td>\n",
       "      <td>68.0</td>\n",
       "      <td>72.0</td>\n",
       "    </tr>\n",
       "    <tr>\n",
       "      <td>50%</td>\n",
       "      <td>49.0</td>\n",
       "      <td>0.0</td>\n",
       "      <td>234.0</td>\n",
       "      <td>128.0</td>\n",
       "      <td>82.0</td>\n",
       "      <td>25.0</td>\n",
       "      <td>75.0</td>\n",
       "      <td>80.0</td>\n",
       "    </tr>\n",
       "    <tr>\n",
       "      <td>75%</td>\n",
       "      <td>56.0</td>\n",
       "      <td>20.0</td>\n",
       "      <td>262.0</td>\n",
       "      <td>144.0</td>\n",
       "      <td>90.0</td>\n",
       "      <td>28.0</td>\n",
       "      <td>83.0</td>\n",
       "      <td>85.0</td>\n",
       "    </tr>\n",
       "    <tr>\n",
       "      <td>max</td>\n",
       "      <td>70.0</td>\n",
       "      <td>70.0</td>\n",
       "      <td>696.0</td>\n",
       "      <td>295.0</td>\n",
       "      <td>142.0</td>\n",
       "      <td>57.0</td>\n",
       "      <td>143.0</td>\n",
       "      <td>394.0</td>\n",
       "    </tr>\n",
       "  </tbody>\n",
       "</table>\n",
       "</div>"
      ],
      "text/plain": [
       "          Age  NCigarettes  Cholesterol  Systolique  Diastolique     IMC  \\\n",
       "count  4240.0       4240.0       4240.0      4240.0       4240.0  4240.0   \n",
       "mean     50.0          9.0        237.0       132.0         83.0    26.0   \n",
       "std       9.0         12.0         44.0        22.0         12.0     4.0   \n",
       "min      32.0          0.0        107.0        84.0         48.0    16.0   \n",
       "25%      42.0          0.0        206.0       117.0         75.0    23.0   \n",
       "50%      49.0          0.0        234.0       128.0         82.0    25.0   \n",
       "75%      56.0         20.0        262.0       144.0         90.0    28.0   \n",
       "max      70.0         70.0        696.0       295.0        142.0    57.0   \n",
       "\n",
       "        Coeur  Glucose  \n",
       "count  4240.0   4240.0  \n",
       "mean     76.0     82.0  \n",
       "std      12.0     23.0  \n",
       "min      44.0     40.0  \n",
       "25%      68.0     72.0  \n",
       "50%      75.0     80.0  \n",
       "75%      83.0     85.0  \n",
       "max     143.0    394.0  "
      ]
     },
     "execution_count": 87,
     "metadata": {},
     "output_type": "execute_result"
    }
   ],
   "source": [
    "framingham.describe().round()"
   ]
  },
  {
   "cell_type": "markdown",
   "metadata": {},
   "source": [
    "### 7. Variable Sexe"
   ]
  },
  {
   "cell_type": "code",
   "execution_count": 88,
   "metadata": {},
   "outputs": [
    {
     "data": {
      "text/plain": [
       "<seaborn.axisgrid.FacetGrid at 0x286c3e3d948>"
      ]
     },
     "execution_count": 88,
     "metadata": {},
     "output_type": "execute_result"
    },
    {
     "data": {
      "image/png": "[encoded data removed]",
      "text/plain": [
       "<Figure size 360x360 with 1 Axes>"
      ]
     },
     "metadata": {
      "needs_background": "light"
     },
     "output_type": "display_data"
    }
   ],
   "source": [
    "sns.catplot(x = \"Sexe\", data = framingham, kind = \"count\")"
   ]
  },
  {
   "cell_type": "code",
   "execution_count": 89,
   "metadata": {},
   "outputs": [
    {
     "data": {
      "text/plain": [
       "(Sexe\n",
       " Femmes    2420\n",
       " Hommes    1820\n",
       " Name: Sexe, dtype: int64,)"
      ]
     },
     "execution_count": 89,
     "metadata": {},
     "output_type": "execute_result"
    }
   ],
   "source": [
    "framingham['Sexe'].groupby([framingham['Sexe']]).count(),"
   ]
  },
  {
   "cell_type": "code",
   "execution_count": 90,
   "metadata": {},
   "outputs": [
    {
     "data": {
      "image/png": "[encoded data removed]",
      "text/plain": [
       "<Figure size 216x216 with 1 Axes>"
      ]
     },
     "metadata": {},
     "output_type": "display_data"
    }
   ],
   "source": [
    "plt.rcParams['figure.figsize'] = (3, 3)\n",
    "labels = 'Femmes', 'Hommes'\n",
    "sizes = [2420, 1820]\n",
    "explode = (0, 0.1)\n",
    "fig1, ax1 = plt.subplots()\n",
    "ax1.pie(sizes, explode = explode, labels = labels, autopct = '%1.1f%%',\n",
    " shadow = True, startangle = 90)\n",
    "ax1.axis('equal')\n",
    "plt.show()"
   ]
  },
  {
   "cell_type": "code",
   "execution_count": 91,
   "metadata": {},
   "outputs": [
    {
     "data": {
      "text/plain": [
       "<seaborn.axisgrid.FacetGrid at 0x286c46ec048>"
      ]
     },
     "execution_count": 91,
     "metadata": {},
     "output_type": "execute_result"
    },
    {
     "data": {
      "image/png": "[encoded data removed]",
      "text/plain": [
       "<Figure size 402.375x360 with 1 Axes>"
      ]
     },
     "metadata": {
      "needs_background": "light"
     },
     "output_type": "display_data"
    }
   ],
   "source": [
    "sns.catplot(x = \"Sexe\", hue = \"Fumer\", data = framingham, kind = \"count\")"
   ]
  },
  {
   "cell_type": "code",
   "execution_count": 92,
   "metadata": {},
   "outputs": [
    {
     "data": {
      "text/plain": [
       "<seaborn.axisgrid.FacetGrid at 0x286c440ea48>"
      ]
     },
     "execution_count": 92,
     "metadata": {},
     "output_type": "execute_result"
    },
    {
     "data": {
      "image/png": "[encoded data removed]",
      "text/plain": [
       "<Figure size 720x360 with 2 Axes>"
      ]
     },
     "metadata": {
      "needs_background": "light"
     },
     "output_type": "display_data"
    }
   ],
   "source": [
    "sns.catplot(x = \"Sexe\", col = \"Fumer\", data = framingham, kind = \"count\")"
   ]
  },
  {
   "cell_type": "code",
   "execution_count": 93,
   "metadata": {},
   "outputs": [
    {
     "data": {
      "image/png": "[encoded data removed]",
      "text/plain": [
       "<Figure size 216x216 with 1 Axes>"
      ]
     },
     "metadata": {},
     "output_type": "display_data"
    }
   ],
   "source": [
    "plt.rcParams['figure.figsize'] = (3, 3)\n",
    "sns.set(style = \"whitegrid\")\n",
    "sns.boxplot(x = \"Sexe\", y = \"Age\", data = framingham, palette = \"PRGn\")\n",
    "sns.despine(offset = 10, trim = True)"
   ]
  },
  {
   "cell_type": "code",
   "execution_count": 94,
   "metadata": {},
   "outputs": [
    {
     "data": {
      "text/html": [
       "<div>\n",
       "<style scoped>\n",
       "    .dataframe tbody tr th:only-of-type {\n",
       "        vertical-align: middle;\n",
       "    }\n",
       "\n",
       "    .dataframe tbody tr th {\n",
       "        vertical-align: top;\n",
       "    }\n",
       "\n",
       "    .dataframe thead th {\n",
       "        text-align: right;\n",
       "    }\n",
       "</style>\n",
       "<table border=\"1\" class=\"dataframe\">\n",
       "  <thead>\n",
       "    <tr style=\"text-align: right;\">\n",
       "      <th>Sexe</th>\n",
       "      <th>Femmes</th>\n",
       "      <th>Hommes</th>\n",
       "    </tr>\n",
       "    <tr>\n",
       "      <th>Diabete</th>\n",
       "      <th></th>\n",
       "      <th></th>\n",
       "    </tr>\n",
       "  </thead>\n",
       "  <tbody>\n",
       "    <tr>\n",
       "      <td>0</td>\n",
       "      <td>0.976446</td>\n",
       "      <td>0.971429</td>\n",
       "    </tr>\n",
       "    <tr>\n",
       "      <td>1</td>\n",
       "      <td>0.023554</td>\n",
       "      <td>0.028571</td>\n",
       "    </tr>\n",
       "  </tbody>\n",
       "</table>\n",
       "</div>"
      ],
      "text/plain": [
       "Sexe       Femmes    Hommes\n",
       "Diabete                    \n",
       "0        0.976446  0.971429\n",
       "1        0.023554  0.028571"
      ]
     },
     "execution_count": 94,
     "metadata": {},
     "output_type": "execute_result"
    }
   ],
   "source": [
    "pd.crosstab(framingham[\"Diabete\"], framingham[\"Sexe\"])\n",
    "pd.crosstab(framingham[\"Diabete\"], framingham[\"Sexe\"]).apply(lambda r: r/r.sum(), axis = 0)"
   ]
  },
  {
   "cell_type": "code",
   "execution_count": 95,
   "metadata": {},
   "outputs": [
    {
     "data": {
      "text/html": [
       "<div>\n",
       "<style scoped>\n",
       "    .dataframe tbody tr th:only-of-type {\n",
       "        vertical-align: middle;\n",
       "    }\n",
       "\n",
       "    .dataframe tbody tr th {\n",
       "        vertical-align: top;\n",
       "    }\n",
       "\n",
       "    .dataframe thead th {\n",
       "        text-align: right;\n",
       "    }\n",
       "</style>\n",
       "<table border=\"1\" class=\"dataframe\">\n",
       "  <thead>\n",
       "    <tr style=\"text-align: right;\">\n",
       "      <th>Sexe</th>\n",
       "      <th>Femmes</th>\n",
       "      <th>Hommes</th>\n",
       "    </tr>\n",
       "    <tr>\n",
       "      <th>Cardio</th>\n",
       "      <th></th>\n",
       "      <th></th>\n",
       "    </tr>\n",
       "  </thead>\n",
       "  <tbody>\n",
       "    <tr>\n",
       "      <td>0</td>\n",
       "      <td>0.87562</td>\n",
       "      <td>0.811538</td>\n",
       "    </tr>\n",
       "    <tr>\n",
       "      <td>1</td>\n",
       "      <td>0.12438</td>\n",
       "      <td>0.188462</td>\n",
       "    </tr>\n",
       "  </tbody>\n",
       "</table>\n",
       "</div>"
      ],
      "text/plain": [
       "Sexe     Femmes    Hommes\n",
       "Cardio                   \n",
       "0       0.87562  0.811538\n",
       "1       0.12438  0.188462"
      ]
     },
     "execution_count": 95,
     "metadata": {},
     "output_type": "execute_result"
    }
   ],
   "source": [
    "pd.crosstab(framingham[\"Cardio\"], framingham[\"Sexe\"])\n",
    "pd.crosstab(framingham[\"Cardio\"], framingham[\"Sexe\"]).apply(lambda r: r/r.sum(), axis = 0)"
   ]
  },
  {
   "cell_type": "code",
   "execution_count": 96,
   "metadata": {},
   "outputs": [
    {
     "data": {
      "text/plain": [
       "<matplotlib.axes._subplots.AxesSubplot at 0x286c8b10b48>"
      ]
     },
     "execution_count": 96,
     "metadata": {},
     "output_type": "execute_result"
    },
    {
     "data": {
      "image/png": "[encoded data removed]",
      "text/plain": [
       "<Figure size 216x216 with 1 Axes>"
      ]
     },
     "metadata": {},
     "output_type": "display_data"
    }
   ],
   "source": [
    "sns.distplot(tuple(framingham[\"Cholesterol\"][framingham['Sexe'] == \"Femmes\"]), label = 'Femmes', hist = False)\n",
    "sns.distplot(tuple(framingham[\"Cholesterol\"][framingham['Sexe'] == \"Hommes\"]), label = 'Hommes', hist = False)"
   ]
  },
  {
   "cell_type": "code",
   "execution_count": 97,
   "metadata": {},
   "outputs": [
    {
     "data": {
      "text/plain": [
       "((0.9772710800170898, 3.312883427187194e-19),\n",
       " (0.9533705115318298, 1.2031458824106633e-23))"
      ]
     },
     "execution_count": 97,
     "metadata": {},
     "output_type": "execute_result"
    }
   ],
   "source": [
    "femmes = framingham[(framingham['Sexe'] == 'Femmes')]\n",
    "hommes = framingham[(framingham['Sexe'] == 'Hommes')]\n",
    "stats.shapiro(femmes['Cholesterol']),stats.shapiro(hommes['Cholesterol'])"
   ]
  },
  {
   "cell_type": "code",
   "execution_count": 98,
   "metadata": {},
   "outputs": [
    {
     "data": {
      "text/plain": [
       "((array([-3.44419291, -3.19666016, -3.05956216, ...,  3.05956216,\n",
       "          3.19666016,  3.44419291]),\n",
       "  array([107., 129., 135., ..., 432., 464., 600.])),\n",
       " (45.292572522745, 239.3925948243555, 0.9881699064251939))"
      ]
     },
     "execution_count": 98,
     "metadata": {},
     "output_type": "execute_result"
    },
    {
     "data": {
      "image/png": "[encoded data removed]",
      "text/plain": [
       "<Figure size 216x216 with 1 Axes>"
      ]
     },
     "metadata": {},
     "output_type": "display_data"
    }
   ],
   "source": [
    "stats.probplot(femmes[\"Cholesterol\"], dist = \"norm\", plot = pylab)"
   ]
  },
  {
   "cell_type": "code",
   "execution_count": 99,
   "metadata": {},
   "outputs": [
    {
     "data": {
      "text/plain": [
       "((array([-3.36640243, -3.11354704, -2.97319087, ...,  2.97319087,\n",
       "          3.11354704,  3.36640243]),\n",
       "  array([113., 119., 124., ..., 439., 453., 696.])),\n",
       " (41.077605613677385, 233.11862453775345, 0.9753851810344))"
      ]
     },
     "execution_count": 99,
     "metadata": {},
     "output_type": "execute_result"
    },
    {
     "data": {
      "image/png": "[encoded data removed]",
      "text/plain": [
       "<Figure size 216x216 with 1 Axes>"
      ]
     },
     "metadata": {},
     "output_type": "display_data"
    }
   ],
   "source": [
    "stats.probplot(hommes[\"Cholesterol\"], dist = \"norm\", plot = pylab)"
   ]
  },
  {
   "cell_type": "markdown",
   "metadata": {},
   "source": [
    "### 7. Regression logistique"
   ]
  },
  {
   "cell_type": "code",
   "execution_count": 100,
   "metadata": {},
   "outputs": [],
   "source": [
    "framingham[\"Sexe\"] = framingham[\"Sexe\"].cat.rename_categories([0, 1])\n",
    "\n",
    "h = ['Sexe','Fumer','Traitement','AVC','Hypertension','Cardio','Diabete']\n",
    "\n",
    "for i in h:\n",
    "    framingham[i] = framingham[i].astype(np.int64)"
   ]
  },
  {
   "cell_type": "code",
   "execution_count": 101,
   "metadata": {},
   "outputs": [
    {
     "name": "stdout",
     "output_type": "stream",
     "text": [
      "Sexe              int64\n",
      "Age               int64\n",
      "Fumer             int64\n",
      "NCigarettes     float64\n",
      "Traitement        int64\n",
      "AVC               int64\n",
      "Hypertension      int64\n",
      "Diabete           int64\n",
      "Cholesterol     float64\n",
      "Systolique      float64\n",
      "Diastolique     float64\n",
      "IMC             float64\n",
      "Coeur           float64\n",
      "Glucose         float64\n",
      "Cardio            int64\n",
      "dtype: object\n"
     ]
    }
   ],
   "source": [
    "print(framingham.dtypes)"
   ]
  },
  {
   "cell_type": "markdown",
   "metadata": {},
   "source": [
    "#### 7.1. Sans selection"
   ]
  },
  {
   "cell_type": "code",
   "execution_count": 102,
   "metadata": {},
   "outputs": [],
   "source": [
    "Y = framingham.Cardio # Ma variable à expliquer\n",
    "X = framingham[framingham.columns.drop([\"Cardio\"])] # Mes variables explicatives"
   ]
  },
  {
   "cell_type": "code",
   "execution_count": 103,
   "metadata": {},
   "outputs": [
    {
     "name": "stdout",
     "output_type": "stream",
     "text": [
      "Optimization terminated successfully.\n",
      "         Current function value: 0.399028\n",
      "         Iterations 6\n",
      "                           Logit Regression Results                           \n",
      "==============================================================================\n",
      "Dep. Variable:                 Cardio   No. Observations:                 4240\n",
      "Model:                          Logit   Df Residuals:                     4226\n",
      "Method:                           MLE   Df Model:                           13\n",
      "Date:                Sat, 25 Apr 2020   Pseudo R-squ.:                 0.06325\n",
      "Time:                        22:19:55   Log-Likelihood:                -1691.9\n",
      "converged:                       True   LL-Null:                       -1806.1\n",
      "Covariance Type:            nonrobust   LLR p-value:                 1.869e-41\n",
      "================================================================================\n",
      "                   coef    std err          z      P>|z|      [0.025      0.975]\n",
      "--------------------------------------------------------------------------------\n",
      "Sexe             0.3634      0.097      3.754      0.000       0.174       0.553\n",
      "Age              0.0292      0.005      5.356      0.000       0.019       0.040\n",
      "Fumer           -0.2663      0.141     -1.895      0.058      -0.542       0.009\n",
      "NCigarettes      0.0232      0.006      4.095      0.000       0.012       0.034\n",
      "Traitement       0.3982      0.216      1.845      0.065      -0.025       0.821\n",
      "AVC              0.9205      0.436      2.112      0.035       0.066       1.775\n",
      "Hypertension     0.9556      0.115      8.320      0.000       0.731       1.181\n",
      "Diabete          0.9124      0.275      3.317      0.001       0.373       1.452\n",
      "Cholesterol     -0.0018      0.001     -1.728      0.084      -0.004       0.000\n",
      "Systolique       0.0122      0.004      3.461      0.001       0.005       0.019\n",
      "Diastolique     -0.0275      0.006     -4.878      0.000      -0.039      -0.016\n",
      "IMC             -0.0500      0.011     -4.352      0.000      -0.072      -0.027\n",
      "Coeur           -0.0208      0.004     -5.676      0.000      -0.028      -0.014\n",
      "Glucose          0.0010      0.002      0.487      0.626      -0.003       0.005\n",
      "================================================================================\n"
     ]
    }
   ],
   "source": [
    "logit_model = sm.Logit(Y, X)\n",
    "result = logit_model.fit()\n",
    "print(result.summary())"
   ]
  },
  {
   "cell_type": "markdown",
   "metadata": {},
   "source": [
    "#### 7.2. Avec selection"
   ]
  },
  {
   "cell_type": "code",
   "execution_count": 104,
   "metadata": {},
   "outputs": [
    {
     "name": "stdout",
     "output_type": "stream",
     "text": [
      "                           Logit Regression Results                           \n",
      "==============================================================================\n",
      "Dep. Variable:                 Cardio   No. Observations:                 4240\n",
      "Model:                          Logit   Df Residuals:                     4230\n",
      "Method:                           MLE   Df Model:                            9\n",
      "Date:                Sat, 25 Apr 2020   Pseudo R-squ.:                 0.06041\n",
      "Time:                        22:19:57   Log-Likelihood:                -1697.0\n",
      "converged:                       True   LL-Null:                       -1806.1\n",
      "Covariance Type:            nonrobust   LLR p-value:                 4.935e-42\n",
      "================================================================================\n",
      "                   coef    std err          z      P>|z|      [0.025      0.975]\n",
      "--------------------------------------------------------------------------------\n",
      "Sexe             0.3718      0.096      3.880      0.000       0.184       0.560\n",
      "Age              0.0266      0.005      5.123      0.000       0.016       0.037\n",
      "NCigarettes      0.0147      0.004      3.847      0.000       0.007       0.022\n",
      "AVC              1.0245      0.434      2.359      0.018       0.173       1.876\n",
      "Hypertension     1.0181      0.111      9.159      0.000       0.800       1.236\n",
      "Diabete          1.0154      0.218      4.665      0.000       0.589       1.442\n",
      "Systolique       0.0125      0.003      3.568      0.000       0.006       0.019\n",
      "Diastolique     -0.0291      0.006     -5.198      0.000      -0.040      -0.018\n",
      "IMC             -0.0509      0.011     -4.503      0.000      -0.073      -0.029\n",
      "Coeur           -0.0228      0.004     -6.473      0.000      -0.030      -0.016\n",
      "================================================================================\n"
     ]
    }
   ],
   "source": [
    "def selection(X,Y):\n",
    "    col = X.columns\n",
    "    while len(col)>0 :\n",
    "        logit_model=sm.Logit(Y,X[col])\n",
    "        result=logit_model.fit(disp=0)\n",
    "        p=round(result.pvalues,3).nlargest(1)\n",
    "        if p[0]<0.05:\n",
    "            return result\n",
    "            break\n",
    "        else:\n",
    "            col=col.drop(p.index)\n",
    "\n",
    "result=selection(X,Y)\n",
    "print(result.summary())"
   ]
  },
  {
   "cell_type": "code",
   "execution_count": 105,
   "metadata": {},
   "outputs": [
    {
     "name": "stdout",
     "output_type": "stream",
     "text": [
      "Sexe            1.450295\n",
      "Age             1.026969\n",
      "NCigarettes     1.014839\n",
      "AVC             2.785635\n",
      "Hypertension    2.767958\n",
      "Diabete         2.760392\n",
      "Systolique      1.012563\n",
      "Diastolique     0.971286\n",
      "IMC             0.950379\n",
      "Coeur           0.977416\n",
      "dtype: float64\n"
     ]
    }
   ],
   "source": [
    "OR = np.exp(result.params)\n",
    "print(OR)"
   ]
  },
  {
   "cell_type": "markdown",
   "metadata": {},
   "source": [
    "### 8. Prediction"
   ]
  },
  {
   "cell_type": "code",
   "execution_count": 108,
   "metadata": {},
   "outputs": [],
   "source": [
    "from sklearn.model_selection import train_test_split\n",
    "\n",
    "#Y = framingham[[\"Cardio\"]]\n",
    "Y = framingham.Cardio\n",
    "X = framingham[[\"Sexe\",\"Age\",\"NCigarettes\",\"AVC\",\"Hypertension\",\"Diabete\",\"Systolique\", \"Diastolique\",\"IMC\",\"Coeur\"]] \n",
    "\n",
    "X_train,X_test,Y_train,Y_test=train_test_split(X,Y,test_size=.33,random_state=2)"
   ]
  },
  {
   "cell_type": "code",
   "execution_count": 109,
   "metadata": {},
   "outputs": [
    {
     "data": {
      "text/plain": [
       "((2840, 10), (1400, 10))"
      ]
     },
     "execution_count": 109,
     "metadata": {},
     "output_type": "execute_result"
    }
   ],
   "source": [
    "X_train.shape,X_test.shape"
   ]
  },
  {
   "cell_type": "code",
   "execution_count": 110,
   "metadata": {},
   "outputs": [
    {
     "name": "stderr",
     "output_type": "stream",
     "text": [
      "C:\\Users\\Rafi\\Anaconda3\\lib\\site-packages\\sklearn\\linear_model\\logistic.py:432: FutureWarning: Default solver will be changed to 'lbfgs' in 0.22. Specify a solver to silence this warning.\n",
      "  FutureWarning)\n"
     ]
    }
   ],
   "source": [
    "from sklearn.linear_model import LogisticRegression\n",
    "modele=LogisticRegression()\n",
    "modele.fit(X_train,Y_train)\n",
    "prediction=modele.predict(X_test)"
   ]
  },
  {
   "cell_type": "code",
   "execution_count": 111,
   "metadata": {},
   "outputs": [
    {
     "data": {
      "text/plain": [
       "0.845"
      ]
     },
     "execution_count": 111,
     "metadata": {},
     "output_type": "execute_result"
    }
   ],
   "source": [
    "sklearn.metrics.accuracy_score(Y_test,prediction)"
   ]
  },
  {
   "cell_type": "code",
   "execution_count": 112,
   "metadata": {},
   "outputs": [
    {
     "data": {
      "text/html": [
       "<div>\n",
       "<style scoped>\n",
       "    .dataframe tbody tr th:only-of-type {\n",
       "        vertical-align: middle;\n",
       "    }\n",
       "\n",
       "    .dataframe tbody tr th {\n",
       "        vertical-align: top;\n",
       "    }\n",
       "\n",
       "    .dataframe thead th {\n",
       "        text-align: right;\n",
       "    }\n",
       "</style>\n",
       "<table border=\"1\" class=\"dataframe\">\n",
       "  <thead>\n",
       "    <tr style=\"text-align: right;\">\n",
       "      <th>Prédiction</th>\n",
       "      <th>0</th>\n",
       "      <th>1</th>\n",
       "    </tr>\n",
       "    <tr>\n",
       "      <th>Vérité</th>\n",
       "      <th></th>\n",
       "      <th></th>\n",
       "    </tr>\n",
       "  </thead>\n",
       "  <tbody>\n",
       "    <tr>\n",
       "      <td>0</td>\n",
       "      <td>1174</td>\n",
       "      <td>9</td>\n",
       "    </tr>\n",
       "    <tr>\n",
       "      <td>1</td>\n",
       "      <td>208</td>\n",
       "      <td>9</td>\n",
       "    </tr>\n",
       "  </tbody>\n",
       "</table>\n",
       "</div>"
      ],
      "text/plain": [
       "Prédiction     0  1\n",
       "Vérité             \n",
       "0           1174  9\n",
       "1            208  9"
      ]
     },
     "execution_count": 112,
     "metadata": {},
     "output_type": "execute_result"
    }
   ],
   "source": [
    "Z=pd.DataFrame({'Prédiction' : prediction,\n",
    "                'Vérité' : Y_test})\n",
    "pd.crosstab(Z[\"Vérité\"],Z[\"Prédiction\"])"
   ]
  },
  {
   "cell_type": "code",
   "execution_count": 115,
   "metadata": {},
   "outputs": [
    {
     "name": "stdout",
     "output_type": "stream",
     "text": [
      "FPR = 0.0076077768385460695\n",
      "FNR = 0.9585253456221198\n",
      "FDR = 0.5\n"
     ]
    }
   ],
   "source": [
    "from sklearn.metrics import confusion_matrix\n",
    "tn, fp, fn, tp = confusion_matrix(Y_test, prediction).ravel()\n",
    "print('FPR =', fp / (fp + tn))\n",
    "print('FNR =', fn / (tp + fn))\n",
    "print('FDR =', fp / (tp + fp))"
   ]
  }
 ],
 "metadata": {
  "kernelspec": {
   "display_name": "Python 3",
   "language": "python",
   "name": "python3"
  },
  "language_info": {
   "codemirror_mode": {
    "name": "ipython",
    "version": 3
   },
   "file_extension": ".py",
   "mimetype": "text/x-python",
   "name": "python",
   "nbconvert_exporter": "python",
   "pygments_lexer": "ipython3",
   "version": "3.7.4"
  },
  "toc": {
   "base_numbering": 1,
   "nav_menu": {},
   "number_sections": true,
   "sideBar": true,
   "skip_h1_title": false,
   "title_cell": "Table of Contents",
   "title_sidebar": "Contents",
   "toc_cell": true,
   "toc_position": {},
   "toc_section_display": true,
   "toc_window_display": false
  }
 },
 "nbformat": 4,
 "nbformat_minor": 2
}
